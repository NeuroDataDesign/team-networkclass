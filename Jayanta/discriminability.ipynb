{
 "cells": [
  {
   "cell_type": "code",
   "execution_count": 20,
   "metadata": {},
   "outputs": [],
   "source": [
    "from sklearn.metrics import euclidean_distances\n",
    "from sklearn.utils import check_X_y\n",
    "import numpy as np\n",
    "import random\n",
    "import seaborn as sns; sns.set()"
   ]
  },
  {
   "cell_type": "code",
   "execution_count": 1,
   "metadata": {},
   "outputs": [],
   "source": [
    "def discr_stat(\n",
    "    X, Y, dissimilarity=\"euclidean\", remove_isolates=True, return_rdfs=False\n",
    "):\n",
    "    \"\"\"\n",
    "    Computes the discriminability statistic.\n",
    "    Parameters\n",
    "    ----------\n",
    "    X : array, shape (n_samples, n_features) or (n_samples, n_samples)\n",
    "        Input data. If dissimilarity=='precomputed', the input should be the dissimilarity matrix.\n",
    "    Y : 1d-array, shape (n_samples)\n",
    "        Input labels.\n",
    "    dissimilarity : str, {\"euclidean\" (default), \"precomputed\"}\n",
    "        Dissimilarity measure to use:\n",
    "        - 'euclidean':\n",
    "            Pairwise Euclidean distances between points in the dataset.\n",
    "        - 'precomputed':\n",
    "            Pre-computed dissimilarities.\n",
    "    remove_isolates : bool, optional, default=True\n",
    "        Whether to remove data that have single label.\n",
    "    return_rdfs : bool, optional, default=False\n",
    "        Whether to return rdf for all data points.\n",
    "    Returns\n",
    "    -------\n",
    "    stat : float\n",
    "        Discriminability statistic. \n",
    "    rdfs : array, shape (n_samples, max{len(id)})\n",
    "        Rdfs for each sample. Only returned if ``return_rdfs==True``.\n",
    "    \"\"\"\n",
    "    check_X_y(X, Y, accept_sparse=True)\n",
    "\n",
    "    uniques, counts = np.unique(Y, return_counts=True)\n",
    "    if (counts != 1).sum() <= 1:\n",
    "        msg = \"You have passed a vector containing only a single unique sample id.\"\n",
    "        raise ValueError(msg)\n",
    "    if remove_isolates:\n",
    "        idx = np.isin(Y, uniques[counts != 1])\n",
    "        labels = Y[idx]\n",
    "\n",
    "        if dissimilarity == \"euclidean\":\n",
    "            X = X[idx]\n",
    "        else:\n",
    "            X = X[np.ix_(idx, idx)]\n",
    "    else:\n",
    "        labels = Y\n",
    "\n",
    "    if dissimilarity == \"euclidean\":\n",
    "        dissimilarities = euclidean_distances(X)\n",
    "    else:\n",
    "        dissimilarities = X\n",
    "\n",
    "    rdfs = _discr_rdf(dissimilarities, labels)\n",
    "    stat = np.nanmean(rdfs)\n",
    "\n",
    "    if return_rdfs:\n",
    "        return stat, rdfs\n",
    "    else:\n",
    "        return stat\n",
    "\n"
   ]
  },
  {
   "cell_type": "code",
   "execution_count": 2,
   "metadata": {},
   "outputs": [],
   "source": [
    "\n",
    "def _discr_rdf(dissimilarities, labels):\n",
    "    \"\"\"\n",
    "    A function for computing the reliability density function of a dataset.\n",
    "    Parameters\n",
    "    ----------\n",
    "    dissimilarities : array, shape (n_samples, n_features) or (n_samples, n_samples)\n",
    "        Input data. If dissimilarity=='precomputed', the input should be the \n",
    "        dissimilarity matrix.\n",
    "    labels : 1d-array, shape (n_samples)\n",
    "        Input labels.\n",
    "    Returns\n",
    "    -------\n",
    "    out : array, shape (n_samples, max{len(id)})\n",
    "        Rdfs for each sample. Only returned if ``return_rdfs==True``.\n",
    "    \"\"\"\n",
    "    check_X_y(dissimilarities, labels, accept_sparse=True)\n",
    "\n",
    "    rdfs = []\n",
    "    for i, label in enumerate(labels):\n",
    "        di = dissimilarities[i]\n",
    "\n",
    "        # All other samples except its own label\n",
    "        idx = labels == label\n",
    "        Dij = di[~idx]\n",
    "\n",
    "        # All samples except itself\n",
    "        idx[i] = False\n",
    "        Dii = di[idx]\n",
    "\n",
    "        rdf = [1 - ((Dij < d).sum() + 0.5 * (Dij == d).sum()) / Dij.size for d in Dii]\n",
    "        rdfs.append(rdf)\n",
    "\n",
    "    out = np.full((len(rdfs), max(map(len, rdfs))), np.nan)\n",
    "    for i, rdf in enumerate(rdfs):\n",
    "        out[i, : len(rdf)] = rdf\n",
    "\n",
    "    return out"
   ]
  },
  {
   "cell_type": "code",
   "execution_count": 74,
   "metadata": {},
   "outputs": [],
   "source": [
    "def p_value(X,Y,bootstrap = 10000):\n",
    "    D0 = discr_stat(X,Y)\n",
    "    count = 1\n",
    "    \n",
    "    Y_ = Y.copy()\n",
    "    for i in range(0,bootstrap):\n",
    "        random.shuffle(Y_)\n",
    "        D1 = discr_stat(X,Y_)\n",
    "        if D1>D0:\n",
    "            count +=1\n",
    "            \n",
    "    return count/(bootstrap+1)"
   ]
  },
  {
   "cell_type": "code",
   "execution_count": 88,
   "metadata": {},
   "outputs": [
    {
     "data": {
      "text/plain": [
       "<matplotlib.axes._subplots.AxesSubplot at 0x7f8588907940>"
      ]
     },
     "execution_count": 88,
     "metadata": {},
     "output_type": "execute_result"
    },
    {
     "data": {
      "image/png": "[encoded data removed]",
      "text/plain": [
       "<Figure size 432x288 with 1 Axes>"
      ]
     },
     "metadata": {
      "needs_background": "light"
     },
     "output_type": "display_data"
    }
   ],
   "source": [
    "k = 16\n",
    "t = 100\n",
    "X = np.zeros((k,t),dtype=float)\n",
    "Y = np.zeros(k,dtype=float)\n",
    "cls = [8, 8]\n",
    "sigma = [1.5, 1.5]\n",
    "miu = [1, 3]\n",
    "\n",
    "for i in range(0,k):\n",
    "    if i < cls[0]:\n",
    "        X[i,:] = np.random.normal(miu[0],sigma[0],t)\n",
    "    else:\n",
    "        X[i,:] = np.random.normal(miu[1],sigma[1],t)\n",
    "        Y[i] = 1\n",
    "        \n",
    "sns.distplot(X[0,:], hist = True, kde_kws={\"color\": \"k\", \"lw\": 3, \"label\": \"Subject1\"})\n",
    "sns.distplot(X[8,:], hist = True, kde_kws={\"color\": \"r\", \"lw\": 3, \"label\": \"Subject2\"})\n",
    "\n",
    "#X = np.concatenate((sample1.reshape(1,-1),sample2.reshape(1,-1)),axis=0)\n",
    "#Y = np.array([0,1])"
   ]
  },
  {
   "cell_type": "code",
   "execution_count": 89,
   "metadata": {},
   "outputs": [],
   "source": [
    "p = p_value(X,Y)"
   ]
  },
  {
   "cell_type": "code",
   "execution_count": 90,
   "metadata": {},
   "outputs": [
    {
     "data": {
      "text/plain": [
       "9.999000099990002e-05"
      ]
     },
     "execution_count": 90,
     "metadata": {},
     "output_type": "execute_result"
    }
   ],
   "source": [
    "p"
   ]
  },
  {
   "cell_type": "code",
   "execution_count": null,
   "metadata": {},
   "outputs": [],
   "source": []
  }
 ],
 "metadata": {
  "kernelspec": {
   "display_name": "Python 3",
   "language": "python",
   "name": "python3"
  },
  "language_info": {
   "codemirror_mode": {
    "name": "ipython",
    "version": 3
   },
   "file_extension": ".py",
   "mimetype": "text/x-python",
   "name": "python",
   "nbconvert_exporter": "python",
   "pygments_lexer": "ipython3",
   "version": "3.7.3"
  }
 },
 "nbformat": 4,
 "nbformat_minor": 2
}
