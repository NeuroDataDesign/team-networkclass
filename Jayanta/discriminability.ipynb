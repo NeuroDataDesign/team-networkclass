{
 "cells": [
  {
   "cell_type": "code",
   "execution_count": 1,
   "metadata": {},
   "outputs": [],
   "source": [
    "from sklearn.metrics import euclidean_distances\n",
    "from sklearn.utils import check_X_y\n",
    "import numpy as np\n",
    "import random\n",
    "import seaborn as sns; sns.set()\n",
    "import pandas as pd"
   ]
  },
  {
   "cell_type": "code",
   "execution_count": 53,
   "metadata": {},
   "outputs": [],
   "source": [
    "def discr_stat(\n",
    "    X, Y, dissimilarity=\"euclidean\", remove_isolates=True, return_rdfs=False\n",
    "):\n",
    "   \n",
    "    check_X_y(X, Y, accept_sparse=True)\n",
    "\n",
    "    uniques, counts = np.unique(Y, return_counts=True)\n",
    "    if (counts != 1).sum() <= 1:\n",
    "        msg = \"You have passed a vector containing only a single unique sample id.\"\n",
    "        raise ValueError(msg)\n",
    "    if remove_isolates:\n",
    "        idx = np.isin(Y, uniques[counts != 1])\n",
    "        labels = Y[idx]\n",
    "        \n",
    "        if dissimilarity == \"euclidean\":\n",
    "            X = X[idx]\n",
    "        else:\n",
    "            X = X[np.ix_(idx, idx)]\n",
    "    else:\n",
    "        labels = Y\n",
    "\n",
    "    if dissimilarity == \"euclidean\":\n",
    "        dissimilarities = euclidean_distances(X)\n",
    "    else:\n",
    "        dissimilarities = X\n",
    "\n",
    "    rdfs = _discr_rdf(dissimilarities, labels)\n",
    "    stat = np.nanmean(rdfs)\n",
    "\n",
    "    if return_rdfs:\n",
    "        return stat, rdfs\n",
    "    else:\n",
    "        return stat\n",
    "\n"
   ]
  },
  {
   "cell_type": "code",
   "execution_count": 23,
   "metadata": {},
   "outputs": [],
   "source": [
    "def _discr_rdf(dissimilarities, labels):\n",
    "    \n",
    "    check_X_y(dissimilarities, labels, accept_sparse=True)\n",
    "\n",
    "    rdfs = []\n",
    "    for i, label in enumerate(labels):\n",
    "        di = dissimilarities[i]\n",
    "\n",
    "        # All other samples except its own label\n",
    "        idx = labels == label\n",
    "        Dij = di[~idx]\n",
    "\n",
    "        # All samples except itself\n",
    "        idx[i] = False\n",
    "        Dii = di[idx]\n",
    "\n",
    "        rdf = [1 - ((Dij < d).sum() + 0.5 * (Dij == d).sum()) / Dij.size for d in Dii]\n",
    "        rdfs.append(rdf)\n",
    "\n",
    "    out = np.full((len(rdfs), max(map(len, rdfs))), np.nan)\n",
    "    for i, rdf in enumerate(rdfs):\n",
    "        out[i, : len(rdf)] = rdf\n",
    "\n",
    "    return out"
   ]
  },
  {
   "cell_type": "code",
   "execution_count": 59,
   "metadata": {},
   "outputs": [],
   "source": [
    "def p_value(X,Y,bootstrap = 100):\n",
    "    D0 = discr_stat(X,Y)\n",
    "    \n",
    "    print(D0)\n",
    "    count = 1\n",
    "    \n",
    "    Y_ = Y.copy()\n",
    "    for i in range(0,bootstrap):\n",
    "        random.shuffle(Y_)\n",
    "        D1 = discr_stat(X,Y_)\n",
    "        if D1>D0:\n",
    "            count +=1\n",
    "            \n",
    "    return count/(bootstrap+1), D0"
   ]
  },
  {
   "cell_type": "code",
   "execution_count": 44,
   "metadata": {},
   "outputs": [
    {
     "data": {
      "text/plain": [
       "<matplotlib.axes._subplots.AxesSubplot at 0x7f8f20254b70>"
      ]
     },
     "execution_count": 44,
     "metadata": {},
     "output_type": "execute_result"
    },
    {
     "data": {
      "image/png": "[encoded data removed]",
      "text/plain": [
       "<Figure size 432x288 with 1 Axes>"
      ]
     },
     "metadata": {
      "needs_background": "light"
     },
     "output_type": "display_data"
    }
   ],
   "source": [
    "k = 16\n",
    "t = 100\n",
    "X = np.zeros((k,t),dtype=float)\n",
    "Y = np.zeros(k,dtype=float)\n",
    "cls = [8, 8]\n",
    "sigma = [1.5, 1.5]\n",
    "miu = [1, 3]\n",
    "\n",
    "for i in range(0,k):\n",
    "    if i < cls[0]:\n",
    "        X[i,:] = np.random.normal(miu[0],sigma[0],t)\n",
    "    else:\n",
    "        X[i,:] = np.random.normal(miu[1],sigma[1],t)\n",
    "        Y[i] = 1\n",
    "        \n",
    "sns.distplot(X[0,:], hist = True, kde_kws={\"color\": \"k\", \"lw\": 3, \"label\": \"Subject1\"})\n",
    "sns.distplot(X[8,:], hist = True, kde_kws={\"color\": \"r\", \"lw\": 3, \"label\": \"Subject2\"})\n",
    "\n",
    "#X = np.concatenate((sample1.reshape(1,-1),sample2.reshape(1,-1)),axis=0)\n",
    "#Y = np.array([0,1])"
   ]
  },
  {
   "cell_type": "code",
   "execution_count": null,
   "metadata": {},
   "outputs": [
    {
     "name": "stdout",
     "output_type": "stream",
     "text": [
      "0.5018614478114478\n"
     ]
    }
   ],
   "source": [
    "p = p_value(X,Y)"
   ]
  },
  {
   "cell_type": "code",
   "execution_count": 51,
   "metadata": {},
   "outputs": [
    {
     "data": {
      "text/plain": [
       "9.999000099990002e-05"
      ]
     },
     "execution_count": 51,
     "metadata": {},
     "output_type": "execute_result"
    }
   ],
   "source": [
    "p"
   ]
  },
  {
   "cell_type": "code",
   "execution_count": 75,
   "metadata": {},
   "outputs": [],
   "source": [
    "x = pd.read_csv('X_3.csv')\n",
    "y = pd.read_csv('Y_3.csv')\n",
    "\n",
    "X = np.zeros((300,2),dtype=float)\n",
    "Y = np.zeros(300,dtype=float)\n",
    "\n",
    "X[:,0] = x['V1']\n",
    "X[:,1] = x['V2']\n",
    "Y[:] = y['x']"
   ]
  },
  {
   "cell_type": "code",
   "execution_count": 76,
   "metadata": {},
   "outputs": [
    {
     "name": "stdout",
     "output_type": "stream",
     "text": [
      "0.5018614478114478\n"
     ]
    }
   ],
   "source": [
    "p,D0 = p_value(X,Y)"
   ]
  },
  {
   "cell_type": "code",
   "execution_count": 77,
   "metadata": {},
   "outputs": [
    {
     "name": "stdout",
     "output_type": "stream",
     "text": [
      "0.18811881188118812\n"
     ]
    }
   ],
   "source": [
    "print(p)"
   ]
  },
  {
   "cell_type": "code",
   "execution_count": null,
   "metadata": {},
   "outputs": [],
   "source": []
  }
 ],
 "metadata": {
  "kernelspec": {
   "display_name": "Python 3",
   "language": "python",
   "name": "python3"
  },
  "language_info": {
   "codemirror_mode": {
    "name": "ipython",
    "version": 3
   },
   "file_extension": ".py",
   "mimetype": "text/x-python",
   "name": "python",
   "nbconvert_exporter": "python",
   "pygments_lexer": "ipython3",
   "version": "3.7.3"
  }
 },
 "nbformat": 4,
 "nbformat_minor": 2
}
