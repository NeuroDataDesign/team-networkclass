{
 "cells": [
  {
   "cell_type": "markdown",
   "metadata": {},
   "source": [
    "# Testing functionality of FAQ class \n",
    "Below is the actual code for the FAQ algorithm. \n",
    "This code is an implementation of Algorithm 1 from \"Fast Approximate Quadratic Programming\n",
    "for Graph Matching\" (Vogelstein, 2015) --> https://journals.plos.org/plosone/article/file?id=10.1371/journal.pone.0121002&type=printable.\n",
    "\n",
    "\n",
    "\n"
   ]
  },
  {
   "cell_type": "code",
   "execution_count": 125,
   "metadata": {},
   "outputs": [],
   "source": [
    "import numpy as np\n",
    "import math\n",
    "import matplotlib.pyplot as plt\n",
    "from scipy.optimize import linear_sum_assignment\n",
    "from scipy.optimize import minimize_scalar\n",
    "from scipy.optimize import minimize\n",
    "from sinkhorn_knopp import sinkhorn_knopp as skp\n",
    "sk = skp.SinkhornKnopp()\n",
    "\n",
    "class FAQ():\n",
    "    '''\n",
    "    Fast Approximate QAP Algorithm (FAQ)\n",
    "    The FAQ algorithm solves the Quadratic Assignment Problem (QAP) finding an alignment of the\n",
    "    vertices of two graphs which minimizes the number of induced edge disagreements\n",
    "    \n",
    "    Parameters\n",
    "    ----------\n",
    "    \n",
    "    n_init : int\n",
    "        Number of random initializations of the starting permutation matrix that the FAQ algorithm will undergo\n",
    "        \n",
    "    init_method : string\n",
    "        The intial position chosen\n",
    "        \"barycenter\" : he noninformative “flat doubly stochastic matrix,” J=1*1^T/n, i.e the barycenter of \n",
    "        the feasible region\n",
    "        \"rand\" : some random point near J, (J+K)/2, where K is some random doubly stochastic matrix\n",
    "        \n",
    "    Attributes\n",
    "    ----------\n",
    "    \n",
    "    perm_inds_ : array, size (n,1) where n is the number of vertices in the graphs fitted\n",
    "        The indices of the optimal permutation found via FAQ\n",
    "        \n",
    "    ofv_ : float\n",
    "        The objective function value of for the optimal permuation found\n",
    "        \n",
    "        \n",
    "    ''' \n",
    "    def __init__(self, n_init, init_method, ):\n",
    "        \n",
    "        if n_init > 0 and type(n_init) is int:\n",
    "            self.n_init = n_init\n",
    "        else:\n",
    "            msg = '\"n_init\" must be a positive integer'\n",
    "            raise TypeError(msg)\n",
    "        if init_method == 'rand':\n",
    "            self.init_method = 'rand'\n",
    "        elif init_method == \"barycenter\":\n",
    "            self.init_method = 'barycenter'\n",
    "            n_init = 1\n",
    "        else: \n",
    "            msg = 'Invalid \"init_method\" parameter string'\n",
    "            raise ValueError(msg)\n",
    "    def fit(self, A, B):\n",
    "        '''\n",
    "        Fits the model with two assigned adjacency matrices\n",
    "        \n",
    "        Parameters\n",
    "        ---------\n",
    "        A : 2d-array, square\n",
    "            A square adjacency matrix\n",
    "            \n",
    "        B : 2d-array, square\n",
    "            A square adjacency matrix\n",
    "        \n",
    "        Returns\n",
    "        -------\n",
    "        \n",
    "        self : returns an instance of self\n",
    "        '''\n",
    "        if A.shape[0] != B.shape[0]:\n",
    "            msg = \"Matrix entries must be of equal size\"\n",
    "            raise ValueError(msg)\n",
    "        elif ((A>=0).all()==False or (B>=0).all() == False):\n",
    "            msg = \"Matrix entries must be greater than or equal to zero\"\n",
    "            raise ValueError(msg)\n",
    "        else:\n",
    "        \n",
    "            n = A.shape[0] #number of vertices in graphs\n",
    "            At = np.transpose(A)  # A transpose\n",
    "            Bt = np.transpose(B)  # B transpose\n",
    "            ofv_ = math.inf \n",
    "            perm_inds_ = np.zeros(n)\n",
    "\n",
    "            for i in range(self.n_init):\n",
    "\n",
    "                #setting initialization matrix\n",
    "                if self.init_method == 'rand': \n",
    "                    sk = skp.SinkhornKnopp() \n",
    "                    K = np.random.rand(n,n) #generate a nxn matrix where each entry is a random integer [0,1]\n",
    "                    for i in range(10): #perform 10 iterations of Sinkhorn balancing\n",
    "                        K = sk.fit(K)\n",
    "                    J = np.ones((n,n))/float(n) # initialize J, a doubly stochastic barycenter\n",
    "                    P = (K+J)/2\n",
    "                elif self.init_method == 'barycenter':\n",
    "                    P = np.ones((n,n))/float(n)\n",
    "\n",
    "                #OPTIMIZATION WHILE LOOP BEGINS\n",
    "                for i in range(30):\n",
    "\n",
    "                    delfp = A@P@Bt+At@P@B  # computing the gradient of f(P) = -tr(APB^tP^t)\n",
    "                    rows, cols = linear_sum_assignment(delfp) # run hungarian algorithm on gradient(f(P))\n",
    "                    Q = np.zeros((n,n))  \n",
    "                    Q[rows,cols] = 1   # initialize search direction matrix Q\n",
    "\n",
    "                    def f(x):  #computing the original optimization function\n",
    "                        return np.trace(At@(x*P+(1-x)*Q)@B@np.transpose(x*P+(1-x)*Q))\n",
    "\n",
    "                    alpha = minimize_scalar(f, bounds=(0,1), method='bounded').x #computing the step size\n",
    "                    P = alpha*P + (1-alpha)*Q  # Update P\n",
    "                #end of FW optimization loop\n",
    "\n",
    "                row, perm_inds_new = linear_sum_assignment(-P) #Project onto the set of permutation matrices\n",
    "                perm_mat_new = np.zeros((n,n)) #initiate a nxn matrix of zeros\n",
    "                perm_mat_new[row,perm_inds_new] = 1 # set indices of permutation to 1\n",
    "                ofv_new = np.trace(np.transpose(A)@perm_mat_new@B@np.transpose(perm_mat_new)) #computing objective function value\n",
    "\n",
    "                if ofv_new < ofv_: #minimizing\n",
    "                    ofv_ = ofv_new\n",
    "                    perm_inds_ = perm_inds_new\n",
    "\n",
    "            self.perm_inds_ = perm_inds_  # permutation indices\n",
    "            self.ofv_ = ofv_  # objective function value\n",
    "            return self\n"
   ]
  },
  {
   "cell_type": "markdown",
   "metadata": {},
   "source": [
    "# QAP Benchmark Accuracy\n",
    "To test that the function works, I ran the code using data from QAPLIB, an online database testbed of QAP data. The tests were run using a flat doubly stochastic initialization (barycenter) for reproducability and consistency. The results (objective function values (ofv)) of the test were compared against the optimal values reported on the QAPLIB website, as well as the values reported in Table 1 of FAQ (Vogelstein, 2015), which were run \"on a set of 16 particularly difficult directed benchmarks from QAPLIB.\" "
   ]
  },
  {
   "cell_type": "code",
   "execution_count": 80,
   "metadata": {},
   "outputs": [
    {
     "name": "stdout",
     "output_type": "stream",
     "text": [
      "3768.0\n"
     ]
    }
   ],
   "source": [
    "#faqali = []\n",
    "#problems = []\n",
    "\n",
    "with open('qapdata/lipa20a.dat') as f:\n",
    "        f = [int(elem) for elem in f.read().split()]\n",
    "\n",
    "# adjusting\n",
    "f = np.array(f[1:])\n",
    "n = int(math.sqrt(len(f)/2))\n",
    "f = f.reshape(2*n,n)\n",
    "A = f[:n,:]\n",
    "B = f[n:,:]\n",
    "barycenter = FAQ(2,\"barycenter\")\n",
    "lipa20a = barycenter.fit(A,B)\n",
    "faqali.append(lipa20a.ofv_)\n",
    "problems.append('lipa20a')\n",
    "\n",
    "print(lipa20a.ofv_)"
   ]
  },
  {
   "cell_type": "code",
   "execution_count": 47,
   "metadata": {},
   "outputs": [
    {
     "name": "stdout",
     "output_type": "stream",
     "text": [
      "27076.0\n"
     ]
    }
   ],
   "source": [
    "with open('qapdata/lipa20b.dat') as f:\n",
    "        f = [int(elem) for elem in f.read().split()]\n",
    "\n",
    "# adjusting\n",
    "f = np.array(f[1:])\n",
    "n = int(math.sqrt(len(f)/2))\n",
    "f = f.reshape(2*n,n)\n",
    "A = f[:n,:]\n",
    "B = f[n:,:]\n",
    "barycenter = FAQ(2,\"barycenter\")\n",
    "lipa20b = barycenter.fit(A,B)\n",
    "faqali.append(lipa20b.ofv_)\n",
    "problems.append('lipa20b')\n",
    "print(lipa20b.ofv_)"
   ]
  },
  {
   "cell_type": "code",
   "execution_count": 48,
   "metadata": {},
   "outputs": [
    {
     "name": "stdout",
     "output_type": "stream",
     "text": [
      "13451.0\n"
     ]
    }
   ],
   "source": [
    "with open('qapdata/lipa30a.dat') as f:\n",
    "        f = [int(elem) for elem in f.read().split()]\n",
    "\n",
    "# adjusting\n",
    "f = np.array(f[1:])\n",
    "n = int(math.sqrt(len(f)/2))\n",
    "f = f.reshape(2*n,n)\n",
    "A = f[:n,:]\n",
    "B = f[n:,:]\n",
    "barycenter = FAQ(2,\"barycenter\")\n",
    "lipa30a = barycenter.fit(A,B)\n",
    "faqali.append(lipa30a.ofv_)\n",
    "problems.append('lipa30a')\n",
    "print(lipa30a.ofv_)"
   ]
  },
  {
   "cell_type": "code",
   "execution_count": 50,
   "metadata": {},
   "outputs": [
    {
     "name": "stdout",
     "output_type": "stream",
     "text": [
      "151426.0\n"
     ]
    }
   ],
   "source": [
    "with open('qapdata/lipa30b.dat') as f:\n",
    "        f = [int(elem) for elem in f.read().split()]\n",
    "\n",
    "# adjusting\n",
    "f = np.array(f[1:])\n",
    "n = int(math.sqrt(len(f)/2))\n",
    "f = f.reshape(2*n,n)\n",
    "A = f[:n,:]\n",
    "B = f[n:,:]\n",
    "barycenter = FAQ(2,\"barycenter\")\n",
    "lipa30b = barycenter.fit(A,B)\n",
    "\n",
    "faqali.append(lipa30b.ofv_)\n",
    "problems.append('lipa30b')\n",
    "print(lipa30b.ofv_)"
   ]
  },
  {
   "cell_type": "code",
   "execution_count": 51,
   "metadata": {},
   "outputs": [
    {
     "name": "stdout",
     "output_type": "stream",
     "text": [
      "32101.0\n"
     ]
    }
   ],
   "source": [
    "with open('qapdata/lipa40a.dat') as f:\n",
    "        f = [int(elem) for elem in f.read().split()]\n",
    "\n",
    "# adjusting\n",
    "f = np.array(f[1:])\n",
    "n = int(math.sqrt(len(f)/2))\n",
    "f = f.reshape(2*n,n)\n",
    "A = f[:n,:]\n",
    "B = f[n:,:]\n",
    "barycenter = FAQ(2,\"barycenter\")\n",
    "lipa40a = barycenter.fit(A,B)\n",
    "\n",
    "faqali.append(lipa40a.ofv_)\n",
    "problems.append('lipa40a')\n",
    "print(lipa40a.ofv_)"
   ]
  },
  {
   "cell_type": "code",
   "execution_count": 52,
   "metadata": {},
   "outputs": [
    {
     "name": "stdout",
     "output_type": "stream",
     "text": [
      "476581.0\n"
     ]
    }
   ],
   "source": [
    "with open('qapdata/lipa40b.dat') as f:\n",
    "        f = [int(elem) for elem in f.read().split()]\n",
    "\n",
    "# adjusting\n",
    "f = np.array(f[1:])\n",
    "n = int(math.sqrt(len(f)/2))\n",
    "f = f.reshape(2*n,n)\n",
    "A = f[:n,:]\n",
    "B = f[n:,:]\n",
    "barycenter = FAQ(2,\"barycenter\")\n",
    "lipa40b = barycenter.fit(A,B)\n",
    "\n",
    "faqali.append(lipa40b.ofv_)\n",
    "problems.append('lipa40b')\n",
    "print(lipa40b.ofv_)"
   ]
  },
  {
   "cell_type": "code",
   "execution_count": 53,
   "metadata": {},
   "outputs": [
    {
     "name": "stdout",
     "output_type": "stream",
     "text": [
      "63084.0\n"
     ]
    }
   ],
   "source": [
    "with open('qapdata/lipa50a.dat') as f:\n",
    "        f = [int(elem) for elem in f.read().split()]\n",
    "\n",
    "# adjusting\n",
    "f = np.array(f[1:])\n",
    "n = int(math.sqrt(len(f)/2))\n",
    "f = f.reshape(2*n,n)\n",
    "A = f[:n,:]\n",
    "B = f[n:,:]\n",
    "barycenter = FAQ(2,\"barycenter\")\n",
    "lipa50a = barycenter.fit(A,B)\n",
    "\n",
    "faqali.append(lipa50a.ofv_)\n",
    "problems.append('lipa50a')\n",
    "print(lipa50a.ofv_)"
   ]
  },
  {
   "cell_type": "code",
   "execution_count": 54,
   "metadata": {},
   "outputs": [
    {
     "name": "stdout",
     "output_type": "stream",
     "text": [
      "1210244.0\n"
     ]
    }
   ],
   "source": [
    "with open('qapdata/lipa50b.dat') as f:\n",
    "        f = [int(elem) for elem in f.read().split()]\n",
    "\n",
    "# adjusting\n",
    "f = np.array(f[1:])\n",
    "n = int(math.sqrt(len(f)/2))\n",
    "f = f.reshape(2*n,n)\n",
    "A = f[:n,:]\n",
    "B = f[n:,:]\n",
    "barycenter = FAQ(2,\"barycenter\")\n",
    "lipa50b = barycenter.fit(A,B)\n",
    "\n",
    "faqali.append(lipa50b.ofv_)\n",
    "problems.append('lipa50b')\n",
    "print(lipa50b.ofv_)"
   ]
  },
  {
   "cell_type": "code",
   "execution_count": 55,
   "metadata": {},
   "outputs": [
    {
     "name": "stdout",
     "output_type": "stream",
     "text": [
      "108712.0\n"
     ]
    }
   ],
   "source": [
    "with open('qapdata/lipa60a.dat') as f:\n",
    "        f = [int(elem) for elem in f.read().split()]\n",
    "\n",
    "# adjusting\n",
    "f = np.array(f[1:])\n",
    "n = int(math.sqrt(len(f)/2))\n",
    "f = f.reshape(2*n,n)\n",
    "A = f[:n,:]\n",
    "B = f[n:,:]\n",
    "barycenter = FAQ(2,\"barycenter\")\n",
    "lipa60a = barycenter.fit(A,B)\n",
    "\n",
    "faqali.append(lipa60a.ofv_)\n",
    "problems.append('lipa60a')\n",
    "print(lipa60a.ofv_)"
   ]
  },
  {
   "cell_type": "code",
   "execution_count": 56,
   "metadata": {},
   "outputs": [
    {
     "name": "stdout",
     "output_type": "stream",
     "text": [
      "2520135.0\n"
     ]
    }
   ],
   "source": [
    "with open('qapdata/lipa60b.dat') as f:\n",
    "        f = [int(elem) for elem in f.read().split()]\n",
    "\n",
    "# adjusting\n",
    "f = np.array(f[1:])\n",
    "n = int(math.sqrt(len(f)/2))\n",
    "f = f.reshape(2*n,n)\n",
    "A = f[:n,:]\n",
    "B = f[n:,:]\n",
    "barycenter = FAQ(2,\"barycenter\")\n",
    "lipa60b = barycenter.fit(A,B)\n",
    "\n",
    "faqali.append(lipa60b.ofv_)\n",
    "problems.append('lipa60b')\n",
    "print(lipa60b.ofv_)"
   ]
  },
  {
   "cell_type": "code",
   "execution_count": 57,
   "metadata": {},
   "outputs": [
    {
     "name": "stdout",
     "output_type": "stream",
     "text": [
      "171963.0\n"
     ]
    }
   ],
   "source": [
    "with open('qapdata/lipa70a.dat') as f:\n",
    "        f = [int(elem) for elem in f.read().split()]\n",
    "\n",
    "# adjusting\n",
    "f = np.array(f[1:])\n",
    "n = int(math.sqrt(len(f)/2))\n",
    "f = f.reshape(2*n,n)\n",
    "A = f[:n,:]\n",
    "B = f[n:,:]\n",
    "barycenter = FAQ(2,\"barycenter\")\n",
    "lipa70a = barycenter.fit(A,B)\n",
    "\n",
    "faqali.append(lipa70a.ofv_)\n",
    "problems.append('lipa70a')\n",
    "print(lipa70a.ofv_)"
   ]
  },
  {
   "cell_type": "code",
   "execution_count": 58,
   "metadata": {},
   "outputs": [
    {
     "name": "stdout",
     "output_type": "stream",
     "text": [
      "4603200.0\n"
     ]
    }
   ],
   "source": [
    "with open('qapdata/lipa70b.dat') as f:\n",
    "        f = [int(elem) for elem in f.read().split()]\n",
    "\n",
    "# adjusting\n",
    "f = np.array(f[1:])\n",
    "n = int(math.sqrt(len(f)/2))\n",
    "f = f.reshape(2*n,n)\n",
    "A = f[:n,:]\n",
    "B = f[n:,:]\n",
    "barycenter = FAQ(2,\"barycenter\")\n",
    "lipa70b = barycenter.fit(A,B)\n",
    "\n",
    "faqali.append(lipa70b.ofv_)\n",
    "problems.append('lipa70b')\n",
    "print(lipa70b.ofv_)"
   ]
  },
  {
   "cell_type": "code",
   "execution_count": 59,
   "metadata": {},
   "outputs": [
    {
     "name": "stdout",
     "output_type": "stream",
     "text": [
      "255978.0\n"
     ]
    }
   ],
   "source": [
    "with open('qapdata/lipa80a.dat') as f:\n",
    "        f = [int(elem) for elem in f.read().split()]\n",
    "\n",
    "# adjusting\n",
    "f = np.array(f[1:])\n",
    "n = int(math.sqrt(len(f)/2))\n",
    "f = f.reshape(2*n,n)\n",
    "A = f[:n,:]\n",
    "B = f[n:,:]\n",
    "barycenter = FAQ(2,\"barycenter\")\n",
    "lipa80a = barycenter.fit(A,B)\n",
    "\n",
    "faqali.append(lipa80a.ofv_)\n",
    "problems.append('lipa80a')\n",
    "print(lipa80a.ofv_)"
   ]
  },
  {
   "cell_type": "code",
   "execution_count": 60,
   "metadata": {},
   "outputs": [
    {
     "name": "stdout",
     "output_type": "stream",
     "text": [
      "7763962.0\n"
     ]
    }
   ],
   "source": [
    "with open('qapdata/lipa80b.dat') as f:\n",
    "        f = [int(elem) for elem in f.read().split()]\n",
    "\n",
    "# adjusting\n",
    "f = np.array(f[1:])\n",
    "n = int(math.sqrt(len(f)/2))\n",
    "f = f.reshape(2*n,n)\n",
    "A = f[:n,:]\n",
    "B = f[n:,:]\n",
    "barycenter = FAQ(2,\"barycenter\")\n",
    "lipa80b = barycenter.fit(A,B)\n",
    "\n",
    "faqali.append(lipa80b.ofv_)\n",
    "problems.append('lipa80b')\n",
    "print(lipa80b.ofv_)"
   ]
  },
  {
   "cell_type": "code",
   "execution_count": 61,
   "metadata": {},
   "outputs": [
    {
     "name": "stdout",
     "output_type": "stream",
     "text": [
      "364121.0\n"
     ]
    }
   ],
   "source": [
    "with open('qapdata/lipa90a.dat') as f:\n",
    "        f = [int(elem) for elem in f.read().split()]\n",
    "\n",
    "# adjusting\n",
    "f = np.array(f[1:])\n",
    "n = int(math.sqrt(len(f)/2))\n",
    "f = f.reshape(2*n,n)\n",
    "A = f[:n,:]\n",
    "B = f[n:,:]\n",
    "barycenter = FAQ(2,\"barycenter\")\n",
    "lipa90a = barycenter.fit(A,B)\n",
    "\n",
    "faqali.append(lipa90a.ofv_)\n",
    "problems.append('lipa90a')\n",
    "print(lipa90a.ofv_)"
   ]
  },
  {
   "cell_type": "code",
   "execution_count": 62,
   "metadata": {},
   "outputs": [
    {
     "name": "stdout",
     "output_type": "stream",
     "text": [
      "12490441.0\n"
     ]
    }
   ],
   "source": [
    "with open('qapdata/lipa90b.dat') as f:\n",
    "        f = [int(elem) for elem in f.read().split()]\n",
    "\n",
    "# adjusting\n",
    "f = np.array(f[1:])\n",
    "n = int(math.sqrt(len(f)/2))\n",
    "f = f.reshape(2*n,n)\n",
    "A = f[:n,:]\n",
    "B = f[n:,:]\n",
    "barycenter = FAQ(2,\"barycenter\")\n",
    "lipa90b = barycenter.fit(A,B)\n",
    "\n",
    "faqali.append(lipa90b.ofv_)\n",
    "problems.append('lipa90b')\n",
    "print(lipa90b.ofv_)"
   ]
  },
  {
   "cell_type": "code",
   "execution_count": 63,
   "metadata": {},
   "outputs": [
    {
     "name": "stdout",
     "output_type": "stream",
     "text": [
      "[3768.0, 27076.0, 13451.0, 151426.0, 32101.0, 476581.0, 63084.0, 1210244.0, 108712.0, 2520135.0, 171963.0, 4603200.0, 255978.0, 7763962.0, 364121.0, 12490441.0]\n",
      "['lipa20a', 'lipa20b', 'lipa30a', 'lipa30b', 'lipa40a', 'lipa40b', 'lipa50a', 'lipa50b', 'lipa60a', 'lipa60b', 'lipa70a', 'lipa70b', 'lipa80a', 'lipa80b', 'lipa90a', 'lipa90b']\n"
     ]
    }
   ],
   "source": [
    "print(faqali)\n",
    "print(problems)"
   ]
  },
  {
   "cell_type": "code",
   "execution_count": 70,
   "metadata": {},
   "outputs": [],
   "source": [
    "optimal = [3683,27076,13178,151426,31538,476581,62093,1210244,107218,2520135,\n",
    "          169755,4603200,253195,7763962,360630,12490441]\n",
    "faq_paper = [3791,27076,13571,151426,32109,476581,62962,1210244,108488,2520135,\n",
    "            171820,4603200,256073,7763962,363927,12490441]\n",
    "faq_jovo_code = [3851,27076,13618,151426,32190,476581,63325,1210244,109085, 2520135, \n",
    "                172301,4603200, 256797,7763962,365080,12490441]"
   ]
  },
  {
   "cell_type": "code",
   "execution_count": 71,
   "metadata": {},
   "outputs": [
    {
     "data": {
      "application/vnd.plotly.v1+json": {
       "config": {
        "plotlyServerURL": "https://plot.ly"
       },
       "data": [
        {
         "cells": {
          "values": [
           [
            "lipa20a",
            "lipa20b",
            "lipa30a",
            "lipa30b",
            "lipa40a",
            "lipa40b",
            "lipa50a",
            "lipa50b",
            "lipa60a",
            "lipa60b",
            "lipa70a",
            "lipa70b",
            "lipa80a",
            "lipa80b",
            "lipa90a",
            "lipa90b"
           ],
           [
            3683,
            27076,
            13178,
            151426,
            31538,
            476581,
            62093,
            1210244,
            107218,
            2520135,
            169755,
            4603200,
            253195,
            7763962,
            360630,
            12490441
           ],
           [
            3791,
            27076,
            13571,
            151426,
            32109,
            476581,
            62962,
            1210244,
            108488,
            2520135,
            171820,
            4603200,
            256073,
            7763962,
            363927,
            12490441
           ],
           [
            3851,
            27076,
            13618,
            151426,
            32190,
            476581,
            63325,
            1210244,
            109085,
            2520135,
            172301,
            4603200,
            256797,
            7763962,
            365080,
            12490441
           ],
           [
            3768,
            27076,
            13451,
            151426,
            32101,
            476581,
            63084,
            1210244,
            108712,
            2520135,
            171963,
            4603200,
            255978,
            7763962,
            364121,
            12490441
           ]
          ]
         },
         "header": {
          "values": [
           "Problem",
           "Optimal",
           "FAQ (JOVO Paper)",
           "FAQ (JOVO Code)",
           "FAQ (ALI)"
          ]
         },
         "type": "table"
        }
       ],
       "layout": {
        "template": {
         "data": {
          "bar": [
           {
            "error_x": {
             "color": "#2a3f5f"
            },
            "error_y": {
             "color": "#2a3f5f"
            },
            "marker": {
             "line": {
              "color": "#E5ECF6",
              "width": 0.5
             }
            },
            "type": "bar"
           }
          ],
          "barpolar": [
           {
            "marker": {
             "line": {
              "color": "#E5ECF6",
              "width": 0.5
             }
            },
            "type": "barpolar"
           }
          ],
          "carpet": [
           {
            "aaxis": {
             "endlinecolor": "#2a3f5f",
             "gridcolor": "white",
             "linecolor": "white",
             "minorgridcolor": "white",
             "startlinecolor": "#2a3f5f"
            },
            "baxis": {
             "endlinecolor": "#2a3f5f",
             "gridcolor": "white",
             "linecolor": "white",
             "minorgridcolor": "white",
             "startlinecolor": "#2a3f5f"
            },
            "type": "carpet"
           }
          ],
          "choropleth": [
           {
            "colorbar": {
             "outlinewidth": 0,
             "ticks": ""
            },
            "type": "choropleth"
           }
          ],
          "contour": [
           {
            "colorbar": {
             "outlinewidth": 0,
             "ticks": ""
            },
            "colorscale": [
             [
              0,
              "#0d0887"
             ],
             [
              0.1111111111111111,
              "#46039f"
             ],
             [
              0.2222222222222222,
              "#7201a8"
             ],
             [
              0.3333333333333333,
              "#9c179e"
             ],
             [
              0.4444444444444444,
              "#bd3786"
             ],
             [
              0.5555555555555556,
              "#d8576b"
             ],
             [
              0.6666666666666666,
              "#ed7953"
             ],
             [
              0.7777777777777778,
              "#fb9f3a"
             ],
             [
              0.8888888888888888,
              "#fdca26"
             ],
             [
              1,
              "#f0f921"
             ]
            ],
            "type": "contour"
           }
          ],
          "contourcarpet": [
           {
            "colorbar": {
             "outlinewidth": 0,
             "ticks": ""
            },
            "type": "contourcarpet"
           }
          ],
          "heatmap": [
           {
            "colorbar": {
             "outlinewidth": 0,
             "ticks": ""
            },
            "colorscale": [
             [
              0,
              "#0d0887"
             ],
             [
              0.1111111111111111,
              "#46039f"
             ],
             [
              0.2222222222222222,
              "#7201a8"
             ],
             [
              0.3333333333333333,
              "#9c179e"
             ],
             [
              0.4444444444444444,
              "#bd3786"
             ],
             [
              0.5555555555555556,
              "#d8576b"
             ],
             [
              0.6666666666666666,
              "#ed7953"
             ],
             [
              0.7777777777777778,
              "#fb9f3a"
             ],
             [
              0.8888888888888888,
              "#fdca26"
             ],
             [
              1,
              "#f0f921"
             ]
            ],
            "type": "heatmap"
           }
          ],
          "heatmapgl": [
           {
            "colorbar": {
             "outlinewidth": 0,
             "ticks": ""
            },
            "colorscale": [
             [
              0,
              "#0d0887"
             ],
             [
              0.1111111111111111,
              "#46039f"
             ],
             [
              0.2222222222222222,
              "#7201a8"
             ],
             [
              0.3333333333333333,
              "#9c179e"
             ],
             [
              0.4444444444444444,
              "#bd3786"
             ],
             [
              0.5555555555555556,
              "#d8576b"
             ],
             [
              0.6666666666666666,
              "#ed7953"
             ],
             [
              0.7777777777777778,
              "#fb9f3a"
             ],
             [
              0.8888888888888888,
              "#fdca26"
             ],
             [
              1,
              "#f0f921"
             ]
            ],
            "type": "heatmapgl"
           }
          ],
          "histogram": [
           {
            "marker": {
             "colorbar": {
              "outlinewidth": 0,
              "ticks": ""
             }
            },
            "type": "histogram"
           }
          ],
          "histogram2d": [
           {
            "colorbar": {
             "outlinewidth": 0,
             "ticks": ""
            },
            "colorscale": [
             [
              0,
              "#0d0887"
             ],
             [
              0.1111111111111111,
              "#46039f"
             ],
             [
              0.2222222222222222,
              "#7201a8"
             ],
             [
              0.3333333333333333,
              "#9c179e"
             ],
             [
              0.4444444444444444,
              "#bd3786"
             ],
             [
              0.5555555555555556,
              "#d8576b"
             ],
             [
              0.6666666666666666,
              "#ed7953"
             ],
             [
              0.7777777777777778,
              "#fb9f3a"
             ],
             [
              0.8888888888888888,
              "#fdca26"
             ],
             [
              1,
              "#f0f921"
             ]
            ],
            "type": "histogram2d"
           }
          ],
          "histogram2dcontour": [
           {
            "colorbar": {
             "outlinewidth": 0,
             "ticks": ""
            },
            "colorscale": [
             [
              0,
              "#0d0887"
             ],
             [
              0.1111111111111111,
              "#46039f"
             ],
             [
              0.2222222222222222,
              "#7201a8"
             ],
             [
              0.3333333333333333,
              "#9c179e"
             ],
             [
              0.4444444444444444,
              "#bd3786"
             ],
             [
              0.5555555555555556,
              "#d8576b"
             ],
             [
              0.6666666666666666,
              "#ed7953"
             ],
             [
              0.7777777777777778,
              "#fb9f3a"
             ],
             [
              0.8888888888888888,
              "#fdca26"
             ],
             [
              1,
              "#f0f921"
             ]
            ],
            "type": "histogram2dcontour"
           }
          ],
          "mesh3d": [
           {
            "colorbar": {
             "outlinewidth": 0,
             "ticks": ""
            },
            "type": "mesh3d"
           }
          ],
          "parcoords": [
           {
            "line": {
             "colorbar": {
              "outlinewidth": 0,
              "ticks": ""
             }
            },
            "type": "parcoords"
           }
          ],
          "scatter": [
           {
            "marker": {
             "colorbar": {
              "outlinewidth": 0,
              "ticks": ""
             }
            },
            "type": "scatter"
           }
          ],
          "scatter3d": [
           {
            "line": {
             "colorbar": {
              "outlinewidth": 0,
              "ticks": ""
             }
            },
            "marker": {
             "colorbar": {
              "outlinewidth": 0,
              "ticks": ""
             }
            },
            "type": "scatter3d"
           }
          ],
          "scattercarpet": [
           {
            "marker": {
             "colorbar": {
              "outlinewidth": 0,
              "ticks": ""
             }
            },
            "type": "scattercarpet"
           }
          ],
          "scattergeo": [
           {
            "marker": {
             "colorbar": {
              "outlinewidth": 0,
              "ticks": ""
             }
            },
            "type": "scattergeo"
           }
          ],
          "scattergl": [
           {
            "marker": {
             "colorbar": {
              "outlinewidth": 0,
              "ticks": ""
             }
            },
            "type": "scattergl"
           }
          ],
          "scattermapbox": [
           {
            "marker": {
             "colorbar": {
              "outlinewidth": 0,
              "ticks": ""
             }
            },
            "type": "scattermapbox"
           }
          ],
          "scatterpolar": [
           {
            "marker": {
             "colorbar": {
              "outlinewidth": 0,
              "ticks": ""
             }
            },
            "type": "scatterpolar"
           }
          ],
          "scatterpolargl": [
           {
            "marker": {
             "colorbar": {
              "outlinewidth": 0,
              "ticks": ""
             }
            },
            "type": "scatterpolargl"
           }
          ],
          "scatterternary": [
           {
            "marker": {
             "colorbar": {
              "outlinewidth": 0,
              "ticks": ""
             }
            },
            "type": "scatterternary"
           }
          ],
          "surface": [
           {
            "colorbar": {
             "outlinewidth": 0,
             "ticks": ""
            },
            "colorscale": [
             [
              0,
              "#0d0887"
             ],
             [
              0.1111111111111111,
              "#46039f"
             ],
             [
              0.2222222222222222,
              "#7201a8"
             ],
             [
              0.3333333333333333,
              "#9c179e"
             ],
             [
              0.4444444444444444,
              "#bd3786"
             ],
             [
              0.5555555555555556,
              "#d8576b"
             ],
             [
              0.6666666666666666,
              "#ed7953"
             ],
             [
              0.7777777777777778,
              "#fb9f3a"
             ],
             [
              0.8888888888888888,
              "#fdca26"
             ],
             [
              1,
              "#f0f921"
             ]
            ],
            "type": "surface"
           }
          ],
          "table": [
           {
            "cells": {
             "fill": {
              "color": "#EBF0F8"
             },
             "line": {
              "color": "white"
             }
            },
            "header": {
             "fill": {
              "color": "#C8D4E3"
             },
             "line": {
              "color": "white"
             }
            },
            "type": "table"
           }
          ]
         },
         "layout": {
          "annotationdefaults": {
           "arrowcolor": "#2a3f5f",
           "arrowhead": 0,
           "arrowwidth": 1
          },
          "colorscale": {
           "diverging": [
            [
             0,
             "#8e0152"
            ],
            [
             0.1,
             "#c51b7d"
            ],
            [
             0.2,
             "#de77ae"
            ],
            [
             0.3,
             "#f1b6da"
            ],
            [
             0.4,
             "#fde0ef"
            ],
            [
             0.5,
             "#f7f7f7"
            ],
            [
             0.6,
             "#e6f5d0"
            ],
            [
             0.7,
             "#b8e186"
            ],
            [
             0.8,
             "#7fbc41"
            ],
            [
             0.9,
             "#4d9221"
            ],
            [
             1,
             "#276419"
            ]
           ],
           "sequential": [
            [
             0,
             "#0d0887"
            ],
            [
             0.1111111111111111,
             "#46039f"
            ],
            [
             0.2222222222222222,
             "#7201a8"
            ],
            [
             0.3333333333333333,
             "#9c179e"
            ],
            [
             0.4444444444444444,
             "#bd3786"
            ],
            [
             0.5555555555555556,
             "#d8576b"
            ],
            [
             0.6666666666666666,
             "#ed7953"
            ],
            [
             0.7777777777777778,
             "#fb9f3a"
            ],
            [
             0.8888888888888888,
             "#fdca26"
            ],
            [
             1,
             "#f0f921"
            ]
           ],
           "sequentialminus": [
            [
             0,
             "#0d0887"
            ],
            [
             0.1111111111111111,
             "#46039f"
            ],
            [
             0.2222222222222222,
             "#7201a8"
            ],
            [
             0.3333333333333333,
             "#9c179e"
            ],
            [
             0.4444444444444444,
             "#bd3786"
            ],
            [
             0.5555555555555556,
             "#d8576b"
            ],
            [
             0.6666666666666666,
             "#ed7953"
            ],
            [
             0.7777777777777778,
             "#fb9f3a"
            ],
            [
             0.8888888888888888,
             "#fdca26"
            ],
            [
             1,
             "#f0f921"
            ]
           ]
          },
          "colorway": [
           "#636efa",
           "#EF553B",
           "#00cc96",
           "#ab63fa",
           "#FFA15A",
           "#19d3f3",
           "#FF6692",
           "#B6E880",
           "#FF97FF",
           "#FECB52"
          ],
          "font": {
           "color": "#2a3f5f"
          },
          "geo": {
           "bgcolor": "white",
           "lakecolor": "white",
           "landcolor": "#E5ECF6",
           "showlakes": true,
           "showland": true,
           "subunitcolor": "white"
          },
          "hoverlabel": {
           "align": "left"
          },
          "hovermode": "closest",
          "mapbox": {
           "style": "light"
          },
          "paper_bgcolor": "white",
          "plot_bgcolor": "#E5ECF6",
          "polar": {
           "angularaxis": {
            "gridcolor": "white",
            "linecolor": "white",
            "ticks": ""
           },
           "bgcolor": "#E5ECF6",
           "radialaxis": {
            "gridcolor": "white",
            "linecolor": "white",
            "ticks": ""
           }
          },
          "scene": {
           "xaxis": {
            "backgroundcolor": "#E5ECF6",
            "gridcolor": "white",
            "gridwidth": 2,
            "linecolor": "white",
            "showbackground": true,
            "ticks": "",
            "zerolinecolor": "white"
           },
           "yaxis": {
            "backgroundcolor": "#E5ECF6",
            "gridcolor": "white",
            "gridwidth": 2,
            "linecolor": "white",
            "showbackground": true,
            "ticks": "",
            "zerolinecolor": "white"
           },
           "zaxis": {
            "backgroundcolor": "#E5ECF6",
            "gridcolor": "white",
            "gridwidth": 2,
            "linecolor": "white",
            "showbackground": true,
            "ticks": "",
            "zerolinecolor": "white"
           }
          },
          "shapedefaults": {
           "line": {
            "color": "#2a3f5f"
           }
          },
          "ternary": {
           "aaxis": {
            "gridcolor": "white",
            "linecolor": "white",
            "ticks": ""
           },
           "baxis": {
            "gridcolor": "white",
            "linecolor": "white",
            "ticks": ""
           },
           "bgcolor": "#E5ECF6",
           "caxis": {
            "gridcolor": "white",
            "linecolor": "white",
            "ticks": ""
           }
          },
          "title": {
           "x": 0.05
          },
          "xaxis": {
           "automargin": true,
           "gridcolor": "white",
           "linecolor": "white",
           "ticks": "",
           "zerolinecolor": "white",
           "zerolinewidth": 2
          },
          "yaxis": {
           "automargin": true,
           "gridcolor": "white",
           "linecolor": "white",
           "ticks": "",
           "zerolinecolor": "white",
           "zerolinewidth": 2
          }
         }
        }
       }
      },
      "text/html": [
       "<div>\n",
       "        \n",
       "        \n",
       "            <div id=\"88f2699c-8aab-42b4-a786-c2e2f58b3136\" class=\"plotly-graph-div\" style=\"height:525px; width:100%;\"></div>\n",
       "            <script type=\"text/javascript\">\n",
       "                require([\"plotly\"], function(Plotly) {\n",
       "                    window.PLOTLYENV=window.PLOTLYENV || {};\n",
       "                    \n",
       "                if (document.getElementById(\"88f2699c-8aab-42b4-a786-c2e2f58b3136\")) {\n",
       "                    Plotly.newPlot(\n",
       "                        '88f2699c-8aab-42b4-a786-c2e2f58b3136',\n",
       "                        [{\"cells\": {\"values\": [[\"lipa20a\", \"lipa20b\", \"lipa30a\", \"lipa30b\", \"lipa40a\", \"lipa40b\", \"lipa50a\", \"lipa50b\", \"lipa60a\", \"lipa60b\", \"lipa70a\", \"lipa70b\", \"lipa80a\", \"lipa80b\", \"lipa90a\", \"lipa90b\"], [3683, 27076, 13178, 151426, 31538, 476581, 62093, 1210244, 107218, 2520135, 169755, 4603200, 253195, 7763962, 360630, 12490441], [3791, 27076, 13571, 151426, 32109, 476581, 62962, 1210244, 108488, 2520135, 171820, 4603200, 256073, 7763962, 363927, 12490441], [3851, 27076, 13618, 151426, 32190, 476581, 63325, 1210244, 109085, 2520135, 172301, 4603200, 256797, 7763962, 365080, 12490441], [3768.0, 27076.0, 13451.0, 151426.0, 32101.0, 476581.0, 63084.0, 1210244.0, 108712.0, 2520135.0, 171963.0, 4603200.0, 255978.0, 7763962.0, 364121.0, 12490441.0]]}, \"header\": {\"values\": [\"Problem\", \"Optimal\", \"FAQ (JOVO Paper)\", \"FAQ (JOVO Code)\", \"FAQ (ALI)\"]}, \"type\": \"table\"}],\n",
       "                        {\"template\": {\"data\": {\"bar\": [{\"error_x\": {\"color\": \"#2a3f5f\"}, \"error_y\": {\"color\": \"#2a3f5f\"}, \"marker\": {\"line\": {\"color\": \"#E5ECF6\", \"width\": 0.5}}, \"type\": \"bar\"}], \"barpolar\": [{\"marker\": {\"line\": {\"color\": \"#E5ECF6\", \"width\": 0.5}}, \"type\": \"barpolar\"}], \"carpet\": [{\"aaxis\": {\"endlinecolor\": \"#2a3f5f\", \"gridcolor\": \"white\", \"linecolor\": \"white\", \"minorgridcolor\": \"white\", \"startlinecolor\": \"#2a3f5f\"}, \"baxis\": {\"endlinecolor\": \"#2a3f5f\", \"gridcolor\": \"white\", \"linecolor\": \"white\", \"minorgridcolor\": \"white\", \"startlinecolor\": \"#2a3f5f\"}, \"type\": \"carpet\"}], \"choropleth\": [{\"colorbar\": {\"outlinewidth\": 0, \"ticks\": \"\"}, \"type\": \"choropleth\"}], \"contour\": [{\"colorbar\": {\"outlinewidth\": 0, \"ticks\": \"\"}, \"colorscale\": [[0.0, \"#0d0887\"], [0.1111111111111111, \"#46039f\"], [0.2222222222222222, \"#7201a8\"], [0.3333333333333333, \"#9c179e\"], [0.4444444444444444, \"#bd3786\"], [0.5555555555555556, \"#d8576b\"], [0.6666666666666666, \"#ed7953\"], [0.7777777777777778, \"#fb9f3a\"], [0.8888888888888888, \"#fdca26\"], [1.0, \"#f0f921\"]], \"type\": \"contour\"}], \"contourcarpet\": [{\"colorbar\": {\"outlinewidth\": 0, \"ticks\": \"\"}, \"type\": \"contourcarpet\"}], \"heatmap\": [{\"colorbar\": {\"outlinewidth\": 0, \"ticks\": \"\"}, \"colorscale\": [[0.0, \"#0d0887\"], [0.1111111111111111, \"#46039f\"], [0.2222222222222222, \"#7201a8\"], [0.3333333333333333, \"#9c179e\"], [0.4444444444444444, \"#bd3786\"], [0.5555555555555556, \"#d8576b\"], [0.6666666666666666, \"#ed7953\"], [0.7777777777777778, \"#fb9f3a\"], [0.8888888888888888, \"#fdca26\"], [1.0, \"#f0f921\"]], \"type\": \"heatmap\"}], \"heatmapgl\": [{\"colorbar\": {\"outlinewidth\": 0, \"ticks\": \"\"}, \"colorscale\": [[0.0, \"#0d0887\"], [0.1111111111111111, \"#46039f\"], [0.2222222222222222, \"#7201a8\"], [0.3333333333333333, \"#9c179e\"], [0.4444444444444444, \"#bd3786\"], [0.5555555555555556, \"#d8576b\"], [0.6666666666666666, \"#ed7953\"], [0.7777777777777778, \"#fb9f3a\"], [0.8888888888888888, \"#fdca26\"], [1.0, \"#f0f921\"]], \"type\": \"heatmapgl\"}], \"histogram\": [{\"marker\": {\"colorbar\": {\"outlinewidth\": 0, \"ticks\": \"\"}}, \"type\": \"histogram\"}], \"histogram2d\": [{\"colorbar\": {\"outlinewidth\": 0, \"ticks\": \"\"}, \"colorscale\": [[0.0, \"#0d0887\"], [0.1111111111111111, \"#46039f\"], [0.2222222222222222, \"#7201a8\"], [0.3333333333333333, \"#9c179e\"], [0.4444444444444444, \"#bd3786\"], [0.5555555555555556, \"#d8576b\"], [0.6666666666666666, \"#ed7953\"], [0.7777777777777778, \"#fb9f3a\"], [0.8888888888888888, \"#fdca26\"], [1.0, \"#f0f921\"]], \"type\": \"histogram2d\"}], \"histogram2dcontour\": [{\"colorbar\": {\"outlinewidth\": 0, \"ticks\": \"\"}, \"colorscale\": [[0.0, \"#0d0887\"], [0.1111111111111111, \"#46039f\"], [0.2222222222222222, \"#7201a8\"], [0.3333333333333333, \"#9c179e\"], [0.4444444444444444, \"#bd3786\"], [0.5555555555555556, \"#d8576b\"], [0.6666666666666666, \"#ed7953\"], [0.7777777777777778, \"#fb9f3a\"], [0.8888888888888888, \"#fdca26\"], [1.0, \"#f0f921\"]], \"type\": \"histogram2dcontour\"}], \"mesh3d\": [{\"colorbar\": {\"outlinewidth\": 0, \"ticks\": \"\"}, \"type\": \"mesh3d\"}], \"parcoords\": [{\"line\": {\"colorbar\": {\"outlinewidth\": 0, \"ticks\": \"\"}}, \"type\": \"parcoords\"}], \"scatter\": [{\"marker\": {\"colorbar\": {\"outlinewidth\": 0, \"ticks\": \"\"}}, \"type\": \"scatter\"}], \"scatter3d\": [{\"line\": {\"colorbar\": {\"outlinewidth\": 0, \"ticks\": \"\"}}, \"marker\": {\"colorbar\": {\"outlinewidth\": 0, \"ticks\": \"\"}}, \"type\": \"scatter3d\"}], \"scattercarpet\": [{\"marker\": {\"colorbar\": {\"outlinewidth\": 0, \"ticks\": \"\"}}, \"type\": \"scattercarpet\"}], \"scattergeo\": [{\"marker\": {\"colorbar\": {\"outlinewidth\": 0, \"ticks\": \"\"}}, \"type\": \"scattergeo\"}], \"scattergl\": [{\"marker\": {\"colorbar\": {\"outlinewidth\": 0, \"ticks\": \"\"}}, \"type\": \"scattergl\"}], \"scattermapbox\": [{\"marker\": {\"colorbar\": {\"outlinewidth\": 0, \"ticks\": \"\"}}, \"type\": \"scattermapbox\"}], \"scatterpolar\": [{\"marker\": {\"colorbar\": {\"outlinewidth\": 0, \"ticks\": \"\"}}, \"type\": \"scatterpolar\"}], \"scatterpolargl\": [{\"marker\": {\"colorbar\": {\"outlinewidth\": 0, \"ticks\": \"\"}}, \"type\": \"scatterpolargl\"}], \"scatterternary\": [{\"marker\": {\"colorbar\": {\"outlinewidth\": 0, \"ticks\": \"\"}}, \"type\": \"scatterternary\"}], \"surface\": [{\"colorbar\": {\"outlinewidth\": 0, \"ticks\": \"\"}, \"colorscale\": [[0.0, \"#0d0887\"], [0.1111111111111111, \"#46039f\"], [0.2222222222222222, \"#7201a8\"], [0.3333333333333333, \"#9c179e\"], [0.4444444444444444, \"#bd3786\"], [0.5555555555555556, \"#d8576b\"], [0.6666666666666666, \"#ed7953\"], [0.7777777777777778, \"#fb9f3a\"], [0.8888888888888888, \"#fdca26\"], [1.0, \"#f0f921\"]], \"type\": \"surface\"}], \"table\": [{\"cells\": {\"fill\": {\"color\": \"#EBF0F8\"}, \"line\": {\"color\": \"white\"}}, \"header\": {\"fill\": {\"color\": \"#C8D4E3\"}, \"line\": {\"color\": \"white\"}}, \"type\": \"table\"}]}, \"layout\": {\"annotationdefaults\": {\"arrowcolor\": \"#2a3f5f\", \"arrowhead\": 0, \"arrowwidth\": 1}, \"colorscale\": {\"diverging\": [[0, \"#8e0152\"], [0.1, \"#c51b7d\"], [0.2, \"#de77ae\"], [0.3, \"#f1b6da\"], [0.4, \"#fde0ef\"], [0.5, \"#f7f7f7\"], [0.6, \"#e6f5d0\"], [0.7, \"#b8e186\"], [0.8, \"#7fbc41\"], [0.9, \"#4d9221\"], [1, \"#276419\"]], \"sequential\": [[0.0, \"#0d0887\"], [0.1111111111111111, \"#46039f\"], [0.2222222222222222, \"#7201a8\"], [0.3333333333333333, \"#9c179e\"], [0.4444444444444444, \"#bd3786\"], [0.5555555555555556, \"#d8576b\"], [0.6666666666666666, \"#ed7953\"], [0.7777777777777778, \"#fb9f3a\"], [0.8888888888888888, \"#fdca26\"], [1.0, \"#f0f921\"]], \"sequentialminus\": [[0.0, \"#0d0887\"], [0.1111111111111111, \"#46039f\"], [0.2222222222222222, \"#7201a8\"], [0.3333333333333333, \"#9c179e\"], [0.4444444444444444, \"#bd3786\"], [0.5555555555555556, \"#d8576b\"], [0.6666666666666666, \"#ed7953\"], [0.7777777777777778, \"#fb9f3a\"], [0.8888888888888888, \"#fdca26\"], [1.0, \"#f0f921\"]]}, \"colorway\": [\"#636efa\", \"#EF553B\", \"#00cc96\", \"#ab63fa\", \"#FFA15A\", \"#19d3f3\", \"#FF6692\", \"#B6E880\", \"#FF97FF\", \"#FECB52\"], \"font\": {\"color\": \"#2a3f5f\"}, \"geo\": {\"bgcolor\": \"white\", \"lakecolor\": \"white\", \"landcolor\": \"#E5ECF6\", \"showlakes\": true, \"showland\": true, \"subunitcolor\": \"white\"}, \"hoverlabel\": {\"align\": \"left\"}, \"hovermode\": \"closest\", \"mapbox\": {\"style\": \"light\"}, \"paper_bgcolor\": \"white\", \"plot_bgcolor\": \"#E5ECF6\", \"polar\": {\"angularaxis\": {\"gridcolor\": \"white\", \"linecolor\": \"white\", \"ticks\": \"\"}, \"bgcolor\": \"#E5ECF6\", \"radialaxis\": {\"gridcolor\": \"white\", \"linecolor\": \"white\", \"ticks\": \"\"}}, \"scene\": {\"xaxis\": {\"backgroundcolor\": \"#E5ECF6\", \"gridcolor\": \"white\", \"gridwidth\": 2, \"linecolor\": \"white\", \"showbackground\": true, \"ticks\": \"\", \"zerolinecolor\": \"white\"}, \"yaxis\": {\"backgroundcolor\": \"#E5ECF6\", \"gridcolor\": \"white\", \"gridwidth\": 2, \"linecolor\": \"white\", \"showbackground\": true, \"ticks\": \"\", \"zerolinecolor\": \"white\"}, \"zaxis\": {\"backgroundcolor\": \"#E5ECF6\", \"gridcolor\": \"white\", \"gridwidth\": 2, \"linecolor\": \"white\", \"showbackground\": true, \"ticks\": \"\", \"zerolinecolor\": \"white\"}}, \"shapedefaults\": {\"line\": {\"color\": \"#2a3f5f\"}}, \"ternary\": {\"aaxis\": {\"gridcolor\": \"white\", \"linecolor\": \"white\", \"ticks\": \"\"}, \"baxis\": {\"gridcolor\": \"white\", \"linecolor\": \"white\", \"ticks\": \"\"}, \"bgcolor\": \"#E5ECF6\", \"caxis\": {\"gridcolor\": \"white\", \"linecolor\": \"white\", \"ticks\": \"\"}}, \"title\": {\"x\": 0.05}, \"xaxis\": {\"automargin\": true, \"gridcolor\": \"white\", \"linecolor\": \"white\", \"ticks\": \"\", \"zerolinecolor\": \"white\", \"zerolinewidth\": 2}, \"yaxis\": {\"automargin\": true, \"gridcolor\": \"white\", \"linecolor\": \"white\", \"ticks\": \"\", \"zerolinecolor\": \"white\", \"zerolinewidth\": 2}}}},\n",
       "                        {\"responsive\": true}\n",
       "                    ).then(function(){\n",
       "                            \n",
       "var gd = document.getElementById('88f2699c-8aab-42b4-a786-c2e2f58b3136');\n",
       "var x = new MutationObserver(function (mutations, observer) {{\n",
       "        var display = window.getComputedStyle(gd).display;\n",
       "        if (!display || display === 'none') {{\n",
       "            console.log([gd, 'removed!']);\n",
       "            Plotly.purge(gd);\n",
       "            observer.disconnect();\n",
       "        }}\n",
       "}});\n",
       "\n",
       "// Listen for the removal of the full notebook cells\n",
       "var notebookContainer = gd.closest('#notebook-container');\n",
       "if (notebookContainer) {{\n",
       "    x.observe(notebookContainer, {childList: true});\n",
       "}}\n",
       "\n",
       "// Listen for the clearing of the current output cell\n",
       "var outputEl = gd.closest('.output');\n",
       "if (outputEl) {{\n",
       "    x.observe(outputEl, {childList: true});\n",
       "}}\n",
       "\n",
       "                        })\n",
       "                };\n",
       "                });\n",
       "            </script>\n",
       "        </div>"
      ]
     },
     "metadata": {},
     "output_type": "display_data"
    }
   ],
   "source": [
    "import plotly.graph_objects as go\n",
    "\n",
    "fig = go.Figure(data=[go.Table(header=dict(values=['Problem','Optimal','FAQ (JOVO Paper)','FAQ (JOVO Code)','FAQ (ALI)']),\n",
    "        cells = dict(values=[problems,optimal,faq_paper,faq_jovo_code, faqali]))])\n",
    "fig.show()\n",
    "                               \n",
    "                               "
   ]
  },
  {
   "cell_type": "markdown",
   "metadata": {},
   "source": [
    "# Results\n",
    "As we can see from the values listed above, for problems where jovo's FAQ values reported in the paper reach the optimal value, so do mine. However, due to slight discrepancy between the other values, I additionally compared the results from running jovo's matlab code. These values also have a light discrepancy between those reported in the paper. Since my values are consistently less than or equal to the values from jovo's code and paper, and always greater than or equal to the optimal value, I believe this proves the accuracy of my implementation"
   ]
  },
  {
   "cell_type": "markdown",
   "metadata": {},
   "source": [
    "# Multiple Restarts\n",
    "Since the feasible region has many local minima, \"our FAQ procedure is sensitive to the chosen initial position. With this in mind, we propose a variant of the FAQ algorithm in which we run the FAQ procedure with\n",
    "multiple initializations. The algorithm outputs the best FAQ iterate over all the initializations.\n",
    "For each initialization, we sample K 2 D, a random doubly stochastic matrix, using 10 iterations of Sinkhorn balancing, and let our initialization be P(0) = (J+K)/2, where J is the doubly stochastic barycenter.\" \n",
    "\"Note that we only consider the 16 particularly difficult\n",
    "benchmarks for this evaluation.\""
   ]
  },
  {
   "cell_type": "code",
   "execution_count": 106,
   "metadata": {},
   "outputs": [
    {
     "name": "stdout",
     "output_type": "stream",
     "text": [
      "11914.0\n"
     ]
    }
   ],
   "source": [
    "#mult_ali = []\n",
    "#mult_problems = []\n",
    "\n",
    "with open('qapdata/chr12c.dat') as f:\n",
    "        f = [int(elem) for elem in f.read().split()]\n",
    "\n",
    "# adjusting\n",
    "f = np.array(f[1:])\n",
    "n = int(math.sqrt(len(f)/2))\n",
    "f = f.reshape(2*n,n)\n",
    "A = f[:n,:]\n",
    "B = f[n:,:]\n",
    "rand_100_inits = FAQ(100,\"rand\")\n",
    "chr12c = rand_100_inits.fit(A,B)\n",
    "\n",
    "print(chr12c.ofv_)\n",
    "mult_ali.append(chr12c.ofv_)\n",
    "mult_problems.append('chr12c')"
   ]
  },
  {
   "cell_type": "code",
   "execution_count": 107,
   "metadata": {},
   "outputs": [
    {
     "name": "stdout",
     "output_type": "stream",
     "text": [
      "10440.0\n"
     ]
    }
   ],
   "source": [
    "with open('qapdata/chr15a.dat') as f:\n",
    "        f = [int(elem) for elem in f.read().split()]\n",
    "\n",
    "# adjusting\n",
    "f = np.array(f[1:])\n",
    "n = int(math.sqrt(len(f)/2))\n",
    "f = f.reshape(2*n,n)\n",
    "A = f[:n,:]\n",
    "B = f[n:,:]\n",
    "\n",
    "chr15a = rand_100_inits.fit(A,B)\n",
    "print(chr15a.ofv_)\n",
    "mult_ali.append(chr15a.ofv_)\n",
    "mult_problems.append('chr15a')"
   ]
  },
  {
   "cell_type": "code",
   "execution_count": 108,
   "metadata": {},
   "outputs": [
    {
     "name": "stdout",
     "output_type": "stream",
     "text": [
      "11136.0\n"
     ]
    }
   ],
   "source": [
    "with open('qapdata/chr15c.dat') as f:\n",
    "        f = [int(elem) for elem in f.read().split()]\n",
    "\n",
    "# adjusting\n",
    "f = np.array(f[1:])\n",
    "n = int(math.sqrt(len(f)/2))\n",
    "f = f.reshape(2*n,n)\n",
    "A = f[:n,:]\n",
    "B = f[n:,:]\n",
    "\n",
    "chr15c = rand_100_inits.fit(A,B)\n",
    "print(chr15c.ofv_)\n",
    "mult_ali.append(chr15c.ofv_)\n",
    "mult_problems.append('chr15c')"
   ]
  },
  {
   "cell_type": "markdown",
   "metadata": {},
   "source": []
  },
  {
   "cell_type": "code",
   "execution_count": 109,
   "metadata": {},
   "outputs": [
    {
     "name": "stdout",
     "output_type": "stream",
     "text": [
      "2756.0\n"
     ]
    }
   ],
   "source": [
    "with open('qapdata/chr20b.dat') as f:\n",
    "        f = [int(elem) for elem in f.read().split()]\n",
    "\n",
    "# adjusting\n",
    "f = np.array(f[1:])\n",
    "n = int(math.sqrt(len(f)/2))\n",
    "f = f.reshape(2*n,n)\n",
    "A = f[:n,:]\n",
    "B = f[n:,:]\n",
    "\n",
    "chr20b = rand_100_inits.fit(A,B)\n",
    "print(chr20b.ofv_)\n",
    "mult_ali.append(chr20b.ofv_)\n",
    "mult_problems.append('chr20b')"
   ]
  },
  {
   "cell_type": "markdown",
   "metadata": {},
   "source": []
  },
  {
   "cell_type": "code",
   "execution_count": 110,
   "metadata": {},
   "outputs": [
    {
     "name": "stdout",
     "output_type": "stream",
     "text": [
      "6988.0\n"
     ]
    }
   ],
   "source": [
    "with open('qapdata/chr22b.dat') as f:\n",
    "        f = [int(elem) for elem in f.read().split()]\n",
    "\n",
    "# adjusting\n",
    "f = np.array(f[1:])\n",
    "n = int(math.sqrt(len(f)/2))\n",
    "f = f.reshape(2*n,n)\n",
    "A = f[:n,:]\n",
    "B = f[n:,:]\n",
    "\n",
    "chr22b = rand_100_inits.fit(A,B)\n",
    "print(chr22b.ofv_)\n",
    "mult_ali.append(chr22b.ofv_)\n",
    "mult_problems.append('chr22b')"
   ]
  },
  {
   "cell_type": "code",
   "execution_count": 111,
   "metadata": {},
   "outputs": [
    {
     "name": "stdout",
     "output_type": "stream",
     "text": [
      "292.0\n"
     ]
    }
   ],
   "source": [
    "with open('qapdata/esc16b.dat') as f:\n",
    "        f = [int(elem) for elem in f.read().split()]\n",
    "\n",
    "# adjusting\n",
    "f = np.array(f[1:])\n",
    "n = int(math.sqrt(len(f)/2))\n",
    "f = f.reshape(2*n,n)\n",
    "A = f[:n,:]\n",
    "B = f[n:,:]\n",
    "\n",
    "esc16b = rand_100_inits.fit(A,B)\n",
    "print(esc16b.ofv_)\n",
    "mult_ali.append(esc16b.ofv_)\n",
    "mult_problems.append('esc16b')"
   ]
  },
  {
   "cell_type": "code",
   "execution_count": 112,
   "metadata": {},
   "outputs": [
    {
     "name": "stdout",
     "output_type": "stream",
     "text": [
      "235528.0\n"
     ]
    }
   ],
   "source": [
    "with open('qapdata/rou12.dat') as f:\n",
    "        f = [int(elem) for elem in f.read().split()]\n",
    "\n",
    "# adjusting\n",
    "f = np.array(f[1:])\n",
    "n = int(math.sqrt(len(f)/2))\n",
    "f = f.reshape(2*n,n)\n",
    "A = f[:n,:]\n",
    "B = f[n:,:]\n",
    "\n",
    "rou12 = rand_100_inits.fit(A,B)\n",
    "print(rou12.ofv_)\n",
    "mult_ali.append(rou12.ofv_)\n",
    "mult_problems.append('rou12')"
   ]
  },
  {
   "cell_type": "code",
   "execution_count": 113,
   "metadata": {},
   "outputs": [
    {
     "name": "stdout",
     "output_type": "stream",
     "text": [
      "354210.0\n"
     ]
    }
   ],
   "source": [
    "with open('qapdata/rou15.dat') as f:\n",
    "        f = [int(elem) for elem in f.read().split()]\n",
    "\n",
    "# adjusting\n",
    "f = np.array(f[1:])\n",
    "n = int(math.sqrt(len(f)/2))\n",
    "f = f.reshape(2*n,n)\n",
    "A = f[:n,:]\n",
    "B = f[n:,:]\n",
    "\n",
    "rou15 = rand_100_inits.fit(A,B)\n",
    "print(rou15.ofv_)\n",
    "mult_ali.append(rou15.ofv_)\n",
    "mult_problems.append('rou15')"
   ]
  },
  {
   "cell_type": "code",
   "execution_count": 114,
   "metadata": {},
   "outputs": [
    {
     "name": "stdout",
     "output_type": "stream",
     "text": [
      "728448.0\n"
     ]
    }
   ],
   "source": [
    "with open('qapdata/rou20.dat') as f:\n",
    "        f = [int(elem) for elem in f.read().split()]\n",
    "\n",
    "# adjusting\n",
    "f = np.array(f[1:])\n",
    "n = int(math.sqrt(len(f)/2))\n",
    "f = f.reshape(2*n,n)\n",
    "A = f[:n,:]\n",
    "B = f[n:,:]\n",
    "\n",
    "rou20 = rand_100_inits.fit(A,B)\n",
    "print(rou20.ofv_)\n",
    "mult_ali.append(rou20.ofv_)\n",
    "mult_problems.append('rou20')"
   ]
  },
  {
   "cell_type": "code",
   "execution_count": 115,
   "metadata": {},
   "outputs": [
    {
     "name": "stdout",
     "output_type": "stream",
     "text": [
      "135028.0\n"
     ]
    }
   ],
   "source": [
    "with open('qapdata/tai10a.dat') as f:\n",
    "        f = [int(elem) for elem in f.read().split()]\n",
    "\n",
    "# adjusting\n",
    "f = np.array(f[1:])\n",
    "n = int(math.sqrt(len(f)/2))\n",
    "f = f.reshape(2*n,n)\n",
    "A = f[:n,:]\n",
    "B = f[n:,:]\n",
    "\n",
    "tai10a = rand_100_inits.fit(A,B)\n",
    "print(tai10a.ofv_)\n",
    "mult_ali.append(tai10a.ofv_)\n",
    "mult_problems.append('tai10a')"
   ]
  },
  {
   "cell_type": "code",
   "execution_count": 116,
   "metadata": {},
   "outputs": [
    {
     "name": "stdout",
     "output_type": "stream",
     "text": [
      "390258.0\n"
     ]
    }
   ],
   "source": [
    "with open('qapdata/tai15a.dat') as f:\n",
    "        f = [int(elem) for elem in f.read().split()]\n",
    "\n",
    "# adjusting\n",
    "f = np.array(f[1:])\n",
    "n = int(math.sqrt(len(f)/2))\n",
    "f = f.reshape(2*n,n)\n",
    "A = f[:n,:]\n",
    "B = f[n:,:]\n",
    "\n",
    "tai15a = rand_100_inits.fit(A,B)\n",
    "print(tai15a.ofv_)\n",
    "mult_ali.append(tai15a.ofv_)\n",
    "mult_problems.append('tai15a')"
   ]
  },
  {
   "cell_type": "code",
   "execution_count": 117,
   "metadata": {},
   "outputs": [
    {
     "name": "stdout",
     "output_type": "stream",
     "text": [
      "496598.0\n"
     ]
    }
   ],
   "source": [
    "with open('qapdata/tai17a.dat') as f:\n",
    "        f = [int(elem) for elem in f.read().split()]\n",
    "\n",
    "# adjusting\n",
    "f = np.array(f[1:])\n",
    "n = int(math.sqrt(len(f)/2))\n",
    "f = f.reshape(2*n,n)\n",
    "A = f[:n,:]\n",
    "B = f[n:,:]\n",
    "\n",
    "tai17a = rand_100_inits.fit(A,B)\n",
    "print(tai17a.ofv_)\n",
    "mult_ali.append(tai17a.ofv_)\n",
    "mult_problems.append('tai17a')"
   ]
  },
  {
   "cell_type": "code",
   "execution_count": 118,
   "metadata": {},
   "outputs": [
    {
     "name": "stdout",
     "output_type": "stream",
     "text": [
      "708198.0\n"
     ]
    }
   ],
   "source": [
    "with open('qapdata/tai20a.dat') as f:\n",
    "        f = [int(elem) for elem in f.read().split()]\n",
    "\n",
    "# adjusting\n",
    "f = np.array(f[1:])\n",
    "n = int(math.sqrt(len(f)/2))\n",
    "f = f.reshape(2*n,n)\n",
    "A = f[:n,:]\n",
    "B = f[n:,:]\n",
    "\n",
    "tai20a = rand_100_inits.fit(A,B)\n",
    "print(tai20a.ofv_)\n",
    "mult_ali.append(tai20a.ofv_)\n",
    "mult_problems.append('tai20a')"
   ]
  },
  {
   "cell_type": "code",
   "execution_count": 119,
   "metadata": {},
   "outputs": [
    {
     "name": "stdout",
     "output_type": "stream",
     "text": [
      "1828454.0\n"
     ]
    }
   ],
   "source": [
    "with open('qapdata/tai30a.dat') as f:\n",
    "        f = [int(elem) for elem in f.read().split()]\n",
    "\n",
    "# adjusting\n",
    "f = np.array(f[1:])\n",
    "n = int(math.sqrt(len(f)/2))\n",
    "f = f.reshape(2*n,n)\n",
    "A = f[:n,:]\n",
    "B = f[n:,:]\n",
    "\n",
    "tai30a = rand_100_inits.fit(A,B)\n",
    "print(tai30a.ofv_)\n",
    "mult_ali.append(tai30a.ofv_)\n",
    "mult_problems.append('tai30a')"
   ]
  },
  {
   "cell_type": "code",
   "execution_count": 120,
   "metadata": {},
   "outputs": [
    {
     "name": "stdout",
     "output_type": "stream",
     "text": [
      "2461978.0\n"
     ]
    }
   ],
   "source": [
    "with open('qapdata/tai35a.dat') as f:\n",
    "        f = [int(elem) for elem in f.read().split()]\n",
    "\n",
    "# adjusting\n",
    "f = np.array(f[1:])\n",
    "n = int(math.sqrt(len(f)/2))\n",
    "f = f.reshape(2*n,n)\n",
    "A = f[:n,:]\n",
    "B = f[n:,:]\n",
    "\n",
    "tai35a = rand_100_inits.fit(A,B)\n",
    "print(tai35a.ofv_)\n",
    "mult_ali.append(tai35a.ofv_)\n",
    "mult_problems.append('tai35a')"
   ]
  },
  {
   "cell_type": "code",
   "execution_count": 121,
   "metadata": {},
   "outputs": [
    {
     "name": "stdout",
     "output_type": "stream",
     "text": [
      "3181708.0\n"
     ]
    }
   ],
   "source": [
    "with open('qapdata/tai40a.dat') as f:\n",
    "        f = [int(elem) for elem in f.read().split()]\n",
    "\n",
    "# adjusting\n",
    "f = np.array(f[1:])\n",
    "n = int(math.sqrt(len(f)/2))\n",
    "f = f.reshape(2*n,n)\n",
    "A = f[:n,:]\n",
    "B = f[n:,:]\n",
    "\n",
    "tai40a = rand_100_inits.fit(A,B)\n",
    "print(tai40a.ofv_)\n",
    "mult_ali.append(tai40a.ofv_)\n",
    "mult_problems.append('tai40a')"
   ]
  },
  {
   "cell_type": "code",
   "execution_count": 122,
   "metadata": {},
   "outputs": [
    {
     "name": "stdout",
     "output_type": "stream",
     "text": [
      "[11914.0, 10440.0, 11136.0, 2756.0, 6988.0, 292.0, 235528.0, 354210.0, 728448.0, 135028.0, 390258.0, 496598.0, 708198.0, 1828454.0, 2461978.0, 3181708.0]\n"
     ]
    }
   ],
   "source": [
    "\n",
    "print(mult_ali)"
   ]
  },
  {
   "cell_type": "code",
   "execution_count": 123,
   "metadata": {},
   "outputs": [
    {
     "data": {
      "application/vnd.plotly.v1+json": {
       "config": {
        "plotlyServerURL": "https://plot.ly"
       },
       "data": [
        {
         "cells": {
          "values": [
           [
            "chr12c",
            "chr15a",
            "chr15c",
            "chr20b",
            "chr22b",
            "esc16b",
            "rou12",
            "rou15",
            "rou20",
            "tai10a",
            "tai15a",
            "tai17a",
            "tai20a",
            "tai30a",
            "tai35a",
            "tai40a"
           ],
           [
            3683,
            27076,
            13178,
            151426,
            31538,
            476581,
            62093,
            1210244,
            107218,
            2520135,
            169755,
            4603200,
            253195,
            7763962,
            360630,
            12490441
           ],
           [
            12176,
            9896,
            10960,
            2786,
            7218,
            292,
            235528,
            256654,
            730614,
            135828,
            391522,
            496598,
            711840,
            1844636,
            2454292,
            3187738
           ],
           [
            11914,
            10440,
            11136,
            2756,
            6988,
            292,
            235528,
            354210,
            728448,
            135028,
            390258,
            496598,
            708198,
            1828454,
            2461978,
            3181708
           ]
          ]
         },
         "header": {
          "values": [
           "Problem",
           "Optimal",
           "FAQ (JOVO Paper)",
           "FAQ (ALI)"
          ]
         },
         "type": "table"
        }
       ],
       "layout": {
        "template": {
         "data": {
          "bar": [
           {
            "error_x": {
             "color": "#2a3f5f"
            },
            "error_y": {
             "color": "#2a3f5f"
            },
            "marker": {
             "line": {
              "color": "#E5ECF6",
              "width": 0.5
             }
            },
            "type": "bar"
           }
          ],
          "barpolar": [
           {
            "marker": {
             "line": {
              "color": "#E5ECF6",
              "width": 0.5
             }
            },
            "type": "barpolar"
           }
          ],
          "carpet": [
           {
            "aaxis": {
             "endlinecolor": "#2a3f5f",
             "gridcolor": "white",
             "linecolor": "white",
             "minorgridcolor": "white",
             "startlinecolor": "#2a3f5f"
            },
            "baxis": {
             "endlinecolor": "#2a3f5f",
             "gridcolor": "white",
             "linecolor": "white",
             "minorgridcolor": "white",
             "startlinecolor": "#2a3f5f"
            },
            "type": "carpet"
           }
          ],
          "choropleth": [
           {
            "colorbar": {
             "outlinewidth": 0,
             "ticks": ""
            },
            "type": "choropleth"
           }
          ],
          "contour": [
           {
            "colorbar": {
             "outlinewidth": 0,
             "ticks": ""
            },
            "colorscale": [
             [
              0,
              "#0d0887"
             ],
             [
              0.1111111111111111,
              "#46039f"
             ],
             [
              0.2222222222222222,
              "#7201a8"
             ],
             [
              0.3333333333333333,
              "#9c179e"
             ],
             [
              0.4444444444444444,
              "#bd3786"
             ],
             [
              0.5555555555555556,
              "#d8576b"
             ],
             [
              0.6666666666666666,
              "#ed7953"
             ],
             [
              0.7777777777777778,
              "#fb9f3a"
             ],
             [
              0.8888888888888888,
              "#fdca26"
             ],
             [
              1,
              "#f0f921"
             ]
            ],
            "type": "contour"
           }
          ],
          "contourcarpet": [
           {
            "colorbar": {
             "outlinewidth": 0,
             "ticks": ""
            },
            "type": "contourcarpet"
           }
          ],
          "heatmap": [
           {
            "colorbar": {
             "outlinewidth": 0,
             "ticks": ""
            },
            "colorscale": [
             [
              0,
              "#0d0887"
             ],
             [
              0.1111111111111111,
              "#46039f"
             ],
             [
              0.2222222222222222,
              "#7201a8"
             ],
             [
              0.3333333333333333,
              "#9c179e"
             ],
             [
              0.4444444444444444,
              "#bd3786"
             ],
             [
              0.5555555555555556,
              "#d8576b"
             ],
             [
              0.6666666666666666,
              "#ed7953"
             ],
             [
              0.7777777777777778,
              "#fb9f3a"
             ],
             [
              0.8888888888888888,
              "#fdca26"
             ],
             [
              1,
              "#f0f921"
             ]
            ],
            "type": "heatmap"
           }
          ],
          "heatmapgl": [
           {
            "colorbar": {
             "outlinewidth": 0,
             "ticks": ""
            },
            "colorscale": [
             [
              0,
              "#0d0887"
             ],
             [
              0.1111111111111111,
              "#46039f"
             ],
             [
              0.2222222222222222,
              "#7201a8"
             ],
             [
              0.3333333333333333,
              "#9c179e"
             ],
             [
              0.4444444444444444,
              "#bd3786"
             ],
             [
              0.5555555555555556,
              "#d8576b"
             ],
             [
              0.6666666666666666,
              "#ed7953"
             ],
             [
              0.7777777777777778,
              "#fb9f3a"
             ],
             [
              0.8888888888888888,
              "#fdca26"
             ],
             [
              1,
              "#f0f921"
             ]
            ],
            "type": "heatmapgl"
           }
          ],
          "histogram": [
           {
            "marker": {
             "colorbar": {
              "outlinewidth": 0,
              "ticks": ""
             }
            },
            "type": "histogram"
           }
          ],
          "histogram2d": [
           {
            "colorbar": {
             "outlinewidth": 0,
             "ticks": ""
            },
            "colorscale": [
             [
              0,
              "#0d0887"
             ],
             [
              0.1111111111111111,
              "#46039f"
             ],
             [
              0.2222222222222222,
              "#7201a8"
             ],
             [
              0.3333333333333333,
              "#9c179e"
             ],
             [
              0.4444444444444444,
              "#bd3786"
             ],
             [
              0.5555555555555556,
              "#d8576b"
             ],
             [
              0.6666666666666666,
              "#ed7953"
             ],
             [
              0.7777777777777778,
              "#fb9f3a"
             ],
             [
              0.8888888888888888,
              "#fdca26"
             ],
             [
              1,
              "#f0f921"
             ]
            ],
            "type": "histogram2d"
           }
          ],
          "histogram2dcontour": [
           {
            "colorbar": {
             "outlinewidth": 0,
             "ticks": ""
            },
            "colorscale": [
             [
              0,
              "#0d0887"
             ],
             [
              0.1111111111111111,
              "#46039f"
             ],
             [
              0.2222222222222222,
              "#7201a8"
             ],
             [
              0.3333333333333333,
              "#9c179e"
             ],
             [
              0.4444444444444444,
              "#bd3786"
             ],
             [
              0.5555555555555556,
              "#d8576b"
             ],
             [
              0.6666666666666666,
              "#ed7953"
             ],
             [
              0.7777777777777778,
              "#fb9f3a"
             ],
             [
              0.8888888888888888,
              "#fdca26"
             ],
             [
              1,
              "#f0f921"
             ]
            ],
            "type": "histogram2dcontour"
           }
          ],
          "mesh3d": [
           {
            "colorbar": {
             "outlinewidth": 0,
             "ticks": ""
            },
            "type": "mesh3d"
           }
          ],
          "parcoords": [
           {
            "line": {
             "colorbar": {
              "outlinewidth": 0,
              "ticks": ""
             }
            },
            "type": "parcoords"
           }
          ],
          "scatter": [
           {
            "marker": {
             "colorbar": {
              "outlinewidth": 0,
              "ticks": ""
             }
            },
            "type": "scatter"
           }
          ],
          "scatter3d": [
           {
            "line": {
             "colorbar": {
              "outlinewidth": 0,
              "ticks": ""
             }
            },
            "marker": {
             "colorbar": {
              "outlinewidth": 0,
              "ticks": ""
             }
            },
            "type": "scatter3d"
           }
          ],
          "scattercarpet": [
           {
            "marker": {
             "colorbar": {
              "outlinewidth": 0,
              "ticks": ""
             }
            },
            "type": "scattercarpet"
           }
          ],
          "scattergeo": [
           {
            "marker": {
             "colorbar": {
              "outlinewidth": 0,
              "ticks": ""
             }
            },
            "type": "scattergeo"
           }
          ],
          "scattergl": [
           {
            "marker": {
             "colorbar": {
              "outlinewidth": 0,
              "ticks": ""
             }
            },
            "type": "scattergl"
           }
          ],
          "scattermapbox": [
           {
            "marker": {
             "colorbar": {
              "outlinewidth": 0,
              "ticks": ""
             }
            },
            "type": "scattermapbox"
           }
          ],
          "scatterpolar": [
           {
            "marker": {
             "colorbar": {
              "outlinewidth": 0,
              "ticks": ""
             }
            },
            "type": "scatterpolar"
           }
          ],
          "scatterpolargl": [
           {
            "marker": {
             "colorbar": {
              "outlinewidth": 0,
              "ticks": ""
             }
            },
            "type": "scatterpolargl"
           }
          ],
          "scatterternary": [
           {
            "marker": {
             "colorbar": {
              "outlinewidth": 0,
              "ticks": ""
             }
            },
            "type": "scatterternary"
           }
          ],
          "surface": [
           {
            "colorbar": {
             "outlinewidth": 0,
             "ticks": ""
            },
            "colorscale": [
             [
              0,
              "#0d0887"
             ],
             [
              0.1111111111111111,
              "#46039f"
             ],
             [
              0.2222222222222222,
              "#7201a8"
             ],
             [
              0.3333333333333333,
              "#9c179e"
             ],
             [
              0.4444444444444444,
              "#bd3786"
             ],
             [
              0.5555555555555556,
              "#d8576b"
             ],
             [
              0.6666666666666666,
              "#ed7953"
             ],
             [
              0.7777777777777778,
              "#fb9f3a"
             ],
             [
              0.8888888888888888,
              "#fdca26"
             ],
             [
              1,
              "#f0f921"
             ]
            ],
            "type": "surface"
           }
          ],
          "table": [
           {
            "cells": {
             "fill": {
              "color": "#EBF0F8"
             },
             "line": {
              "color": "white"
             }
            },
            "header": {
             "fill": {
              "color": "#C8D4E3"
             },
             "line": {
              "color": "white"
             }
            },
            "type": "table"
           }
          ]
         },
         "layout": {
          "annotationdefaults": {
           "arrowcolor": "#2a3f5f",
           "arrowhead": 0,
           "arrowwidth": 1
          },
          "colorscale": {
           "diverging": [
            [
             0,
             "#8e0152"
            ],
            [
             0.1,
             "#c51b7d"
            ],
            [
             0.2,
             "#de77ae"
            ],
            [
             0.3,
             "#f1b6da"
            ],
            [
             0.4,
             "#fde0ef"
            ],
            [
             0.5,
             "#f7f7f7"
            ],
            [
             0.6,
             "#e6f5d0"
            ],
            [
             0.7,
             "#b8e186"
            ],
            [
             0.8,
             "#7fbc41"
            ],
            [
             0.9,
             "#4d9221"
            ],
            [
             1,
             "#276419"
            ]
           ],
           "sequential": [
            [
             0,
             "#0d0887"
            ],
            [
             0.1111111111111111,
             "#46039f"
            ],
            [
             0.2222222222222222,
             "#7201a8"
            ],
            [
             0.3333333333333333,
             "#9c179e"
            ],
            [
             0.4444444444444444,
             "#bd3786"
            ],
            [
             0.5555555555555556,
             "#d8576b"
            ],
            [
             0.6666666666666666,
             "#ed7953"
            ],
            [
             0.7777777777777778,
             "#fb9f3a"
            ],
            [
             0.8888888888888888,
             "#fdca26"
            ],
            [
             1,
             "#f0f921"
            ]
           ],
           "sequentialminus": [
            [
             0,
             "#0d0887"
            ],
            [
             0.1111111111111111,
             "#46039f"
            ],
            [
             0.2222222222222222,
             "#7201a8"
            ],
            [
             0.3333333333333333,
             "#9c179e"
            ],
            [
             0.4444444444444444,
             "#bd3786"
            ],
            [
             0.5555555555555556,
             "#d8576b"
            ],
            [
             0.6666666666666666,
             "#ed7953"
            ],
            [
             0.7777777777777778,
             "#fb9f3a"
            ],
            [
             0.8888888888888888,
             "#fdca26"
            ],
            [
             1,
             "#f0f921"
            ]
           ]
          },
          "colorway": [
           "#636efa",
           "#EF553B",
           "#00cc96",
           "#ab63fa",
           "#FFA15A",
           "#19d3f3",
           "#FF6692",
           "#B6E880",
           "#FF97FF",
           "#FECB52"
          ],
          "font": {
           "color": "#2a3f5f"
          },
          "geo": {
           "bgcolor": "white",
           "lakecolor": "white",
           "landcolor": "#E5ECF6",
           "showlakes": true,
           "showland": true,
           "subunitcolor": "white"
          },
          "hoverlabel": {
           "align": "left"
          },
          "hovermode": "closest",
          "mapbox": {
           "style": "light"
          },
          "paper_bgcolor": "white",
          "plot_bgcolor": "#E5ECF6",
          "polar": {
           "angularaxis": {
            "gridcolor": "white",
            "linecolor": "white",
            "ticks": ""
           },
           "bgcolor": "#E5ECF6",
           "radialaxis": {
            "gridcolor": "white",
            "linecolor": "white",
            "ticks": ""
           }
          },
          "scene": {
           "xaxis": {
            "backgroundcolor": "#E5ECF6",
            "gridcolor": "white",
            "gridwidth": 2,
            "linecolor": "white",
            "showbackground": true,
            "ticks": "",
            "zerolinecolor": "white"
           },
           "yaxis": {
            "backgroundcolor": "#E5ECF6",
            "gridcolor": "white",
            "gridwidth": 2,
            "linecolor": "white",
            "showbackground": true,
            "ticks": "",
            "zerolinecolor": "white"
           },
           "zaxis": {
            "backgroundcolor": "#E5ECF6",
            "gridcolor": "white",
            "gridwidth": 2,
            "linecolor": "white",
            "showbackground": true,
            "ticks": "",
            "zerolinecolor": "white"
           }
          },
          "shapedefaults": {
           "line": {
            "color": "#2a3f5f"
           }
          },
          "ternary": {
           "aaxis": {
            "gridcolor": "white",
            "linecolor": "white",
            "ticks": ""
           },
           "baxis": {
            "gridcolor": "white",
            "linecolor": "white",
            "ticks": ""
           },
           "bgcolor": "#E5ECF6",
           "caxis": {
            "gridcolor": "white",
            "linecolor": "white",
            "ticks": ""
           }
          },
          "title": {
           "x": 0.05
          },
          "xaxis": {
           "automargin": true,
           "gridcolor": "white",
           "linecolor": "white",
           "ticks": "",
           "zerolinecolor": "white",
           "zerolinewidth": 2
          },
          "yaxis": {
           "automargin": true,
           "gridcolor": "white",
           "linecolor": "white",
           "ticks": "",
           "zerolinecolor": "white",
           "zerolinewidth": 2
          }
         }
        }
       }
      },
      "text/html": [
       "<div>\n",
       "        \n",
       "        \n",
       "            <div id=\"efc4530f-f205-469f-9ed7-268d09fbe83d\" class=\"plotly-graph-div\" style=\"height:525px; width:100%;\"></div>\n",
       "            <script type=\"text/javascript\">\n",
       "                require([\"plotly\"], function(Plotly) {\n",
       "                    window.PLOTLYENV=window.PLOTLYENV || {};\n",
       "                    \n",
       "                if (document.getElementById(\"efc4530f-f205-469f-9ed7-268d09fbe83d\")) {\n",
       "                    Plotly.newPlot(\n",
       "                        'efc4530f-f205-469f-9ed7-268d09fbe83d',\n",
       "                        [{\"cells\": {\"values\": [[\"chr12c\", \"chr15a\", \"chr15c\", \"chr20b\", \"chr22b\", \"esc16b\", \"rou12\", \"rou15\", \"rou20\", \"tai10a\", \"tai15a\", \"tai17a\", \"tai20a\", \"tai30a\", \"tai35a\", \"tai40a\"], [3683, 27076, 13178, 151426, 31538, 476581, 62093, 1210244, 107218, 2520135, 169755, 4603200, 253195, 7763962, 360630, 12490441], [12176, 9896, 10960, 2786, 7218, 292, 235528, 256654, 730614, 135828, 391522, 496598, 711840, 1844636, 2454292, 3187738], [11914.0, 10440.0, 11136.0, 2756.0, 6988.0, 292.0, 235528.0, 354210.0, 728448.0, 135028.0, 390258.0, 496598.0, 708198.0, 1828454.0, 2461978.0, 3181708.0]]}, \"header\": {\"values\": [\"Problem\", \"Optimal\", \"FAQ (JOVO Paper)\", \"FAQ (ALI)\"]}, \"type\": \"table\"}],\n",
       "                        {\"template\": {\"data\": {\"bar\": [{\"error_x\": {\"color\": \"#2a3f5f\"}, \"error_y\": {\"color\": \"#2a3f5f\"}, \"marker\": {\"line\": {\"color\": \"#E5ECF6\", \"width\": 0.5}}, \"type\": \"bar\"}], \"barpolar\": [{\"marker\": {\"line\": {\"color\": \"#E5ECF6\", \"width\": 0.5}}, \"type\": \"barpolar\"}], \"carpet\": [{\"aaxis\": {\"endlinecolor\": \"#2a3f5f\", \"gridcolor\": \"white\", \"linecolor\": \"white\", \"minorgridcolor\": \"white\", \"startlinecolor\": \"#2a3f5f\"}, \"baxis\": {\"endlinecolor\": \"#2a3f5f\", \"gridcolor\": \"white\", \"linecolor\": \"white\", \"minorgridcolor\": \"white\", \"startlinecolor\": \"#2a3f5f\"}, \"type\": \"carpet\"}], \"choropleth\": [{\"colorbar\": {\"outlinewidth\": 0, \"ticks\": \"\"}, \"type\": \"choropleth\"}], \"contour\": [{\"colorbar\": {\"outlinewidth\": 0, \"ticks\": \"\"}, \"colorscale\": [[0.0, \"#0d0887\"], [0.1111111111111111, \"#46039f\"], [0.2222222222222222, \"#7201a8\"], [0.3333333333333333, \"#9c179e\"], [0.4444444444444444, \"#bd3786\"], [0.5555555555555556, \"#d8576b\"], [0.6666666666666666, \"#ed7953\"], [0.7777777777777778, \"#fb9f3a\"], [0.8888888888888888, \"#fdca26\"], [1.0, \"#f0f921\"]], \"type\": \"contour\"}], \"contourcarpet\": [{\"colorbar\": {\"outlinewidth\": 0, \"ticks\": \"\"}, \"type\": \"contourcarpet\"}], \"heatmap\": [{\"colorbar\": {\"outlinewidth\": 0, \"ticks\": \"\"}, \"colorscale\": [[0.0, \"#0d0887\"], [0.1111111111111111, \"#46039f\"], [0.2222222222222222, \"#7201a8\"], [0.3333333333333333, \"#9c179e\"], [0.4444444444444444, \"#bd3786\"], [0.5555555555555556, \"#d8576b\"], [0.6666666666666666, \"#ed7953\"], [0.7777777777777778, \"#fb9f3a\"], [0.8888888888888888, \"#fdca26\"], [1.0, \"#f0f921\"]], \"type\": \"heatmap\"}], \"heatmapgl\": [{\"colorbar\": {\"outlinewidth\": 0, \"ticks\": \"\"}, \"colorscale\": [[0.0, \"#0d0887\"], [0.1111111111111111, \"#46039f\"], [0.2222222222222222, \"#7201a8\"], [0.3333333333333333, \"#9c179e\"], [0.4444444444444444, \"#bd3786\"], [0.5555555555555556, \"#d8576b\"], [0.6666666666666666, \"#ed7953\"], [0.7777777777777778, \"#fb9f3a\"], [0.8888888888888888, \"#fdca26\"], [1.0, \"#f0f921\"]], \"type\": \"heatmapgl\"}], \"histogram\": [{\"marker\": {\"colorbar\": {\"outlinewidth\": 0, \"ticks\": \"\"}}, \"type\": \"histogram\"}], \"histogram2d\": [{\"colorbar\": {\"outlinewidth\": 0, \"ticks\": \"\"}, \"colorscale\": [[0.0, \"#0d0887\"], [0.1111111111111111, \"#46039f\"], [0.2222222222222222, \"#7201a8\"], [0.3333333333333333, \"#9c179e\"], [0.4444444444444444, \"#bd3786\"], [0.5555555555555556, \"#d8576b\"], [0.6666666666666666, \"#ed7953\"], [0.7777777777777778, \"#fb9f3a\"], [0.8888888888888888, \"#fdca26\"], [1.0, \"#f0f921\"]], \"type\": \"histogram2d\"}], \"histogram2dcontour\": [{\"colorbar\": {\"outlinewidth\": 0, \"ticks\": \"\"}, \"colorscale\": [[0.0, \"#0d0887\"], [0.1111111111111111, \"#46039f\"], [0.2222222222222222, \"#7201a8\"], [0.3333333333333333, \"#9c179e\"], [0.4444444444444444, \"#bd3786\"], [0.5555555555555556, \"#d8576b\"], [0.6666666666666666, \"#ed7953\"], [0.7777777777777778, \"#fb9f3a\"], [0.8888888888888888, \"#fdca26\"], [1.0, \"#f0f921\"]], \"type\": \"histogram2dcontour\"}], \"mesh3d\": [{\"colorbar\": {\"outlinewidth\": 0, \"ticks\": \"\"}, \"type\": \"mesh3d\"}], \"parcoords\": [{\"line\": {\"colorbar\": {\"outlinewidth\": 0, \"ticks\": \"\"}}, \"type\": \"parcoords\"}], \"scatter\": [{\"marker\": {\"colorbar\": {\"outlinewidth\": 0, \"ticks\": \"\"}}, \"type\": \"scatter\"}], \"scatter3d\": [{\"line\": {\"colorbar\": {\"outlinewidth\": 0, \"ticks\": \"\"}}, \"marker\": {\"colorbar\": {\"outlinewidth\": 0, \"ticks\": \"\"}}, \"type\": \"scatter3d\"}], \"scattercarpet\": [{\"marker\": {\"colorbar\": {\"outlinewidth\": 0, \"ticks\": \"\"}}, \"type\": \"scattercarpet\"}], \"scattergeo\": [{\"marker\": {\"colorbar\": {\"outlinewidth\": 0, \"ticks\": \"\"}}, \"type\": \"scattergeo\"}], \"scattergl\": [{\"marker\": {\"colorbar\": {\"outlinewidth\": 0, \"ticks\": \"\"}}, \"type\": \"scattergl\"}], \"scattermapbox\": [{\"marker\": {\"colorbar\": {\"outlinewidth\": 0, \"ticks\": \"\"}}, \"type\": \"scattermapbox\"}], \"scatterpolar\": [{\"marker\": {\"colorbar\": {\"outlinewidth\": 0, \"ticks\": \"\"}}, \"type\": \"scatterpolar\"}], \"scatterpolargl\": [{\"marker\": {\"colorbar\": {\"outlinewidth\": 0, \"ticks\": \"\"}}, \"type\": \"scatterpolargl\"}], \"scatterternary\": [{\"marker\": {\"colorbar\": {\"outlinewidth\": 0, \"ticks\": \"\"}}, \"type\": \"scatterternary\"}], \"surface\": [{\"colorbar\": {\"outlinewidth\": 0, \"ticks\": \"\"}, \"colorscale\": [[0.0, \"#0d0887\"], [0.1111111111111111, \"#46039f\"], [0.2222222222222222, \"#7201a8\"], [0.3333333333333333, \"#9c179e\"], [0.4444444444444444, \"#bd3786\"], [0.5555555555555556, \"#d8576b\"], [0.6666666666666666, \"#ed7953\"], [0.7777777777777778, \"#fb9f3a\"], [0.8888888888888888, \"#fdca26\"], [1.0, \"#f0f921\"]], \"type\": \"surface\"}], \"table\": [{\"cells\": {\"fill\": {\"color\": \"#EBF0F8\"}, \"line\": {\"color\": \"white\"}}, \"header\": {\"fill\": {\"color\": \"#C8D4E3\"}, \"line\": {\"color\": \"white\"}}, \"type\": \"table\"}]}, \"layout\": {\"annotationdefaults\": {\"arrowcolor\": \"#2a3f5f\", \"arrowhead\": 0, \"arrowwidth\": 1}, \"colorscale\": {\"diverging\": [[0, \"#8e0152\"], [0.1, \"#c51b7d\"], [0.2, \"#de77ae\"], [0.3, \"#f1b6da\"], [0.4, \"#fde0ef\"], [0.5, \"#f7f7f7\"], [0.6, \"#e6f5d0\"], [0.7, \"#b8e186\"], [0.8, \"#7fbc41\"], [0.9, \"#4d9221\"], [1, \"#276419\"]], \"sequential\": [[0.0, \"#0d0887\"], [0.1111111111111111, \"#46039f\"], [0.2222222222222222, \"#7201a8\"], [0.3333333333333333, \"#9c179e\"], [0.4444444444444444, \"#bd3786\"], [0.5555555555555556, \"#d8576b\"], [0.6666666666666666, \"#ed7953\"], [0.7777777777777778, \"#fb9f3a\"], [0.8888888888888888, \"#fdca26\"], [1.0, \"#f0f921\"]], \"sequentialminus\": [[0.0, \"#0d0887\"], [0.1111111111111111, \"#46039f\"], [0.2222222222222222, \"#7201a8\"], [0.3333333333333333, \"#9c179e\"], [0.4444444444444444, \"#bd3786\"], [0.5555555555555556, \"#d8576b\"], [0.6666666666666666, \"#ed7953\"], [0.7777777777777778, \"#fb9f3a\"], [0.8888888888888888, \"#fdca26\"], [1.0, \"#f0f921\"]]}, \"colorway\": [\"#636efa\", \"#EF553B\", \"#00cc96\", \"#ab63fa\", \"#FFA15A\", \"#19d3f3\", \"#FF6692\", \"#B6E880\", \"#FF97FF\", \"#FECB52\"], \"font\": {\"color\": \"#2a3f5f\"}, \"geo\": {\"bgcolor\": \"white\", \"lakecolor\": \"white\", \"landcolor\": \"#E5ECF6\", \"showlakes\": true, \"showland\": true, \"subunitcolor\": \"white\"}, \"hoverlabel\": {\"align\": \"left\"}, \"hovermode\": \"closest\", \"mapbox\": {\"style\": \"light\"}, \"paper_bgcolor\": \"white\", \"plot_bgcolor\": \"#E5ECF6\", \"polar\": {\"angularaxis\": {\"gridcolor\": \"white\", \"linecolor\": \"white\", \"ticks\": \"\"}, \"bgcolor\": \"#E5ECF6\", \"radialaxis\": {\"gridcolor\": \"white\", \"linecolor\": \"white\", \"ticks\": \"\"}}, \"scene\": {\"xaxis\": {\"backgroundcolor\": \"#E5ECF6\", \"gridcolor\": \"white\", \"gridwidth\": 2, \"linecolor\": \"white\", \"showbackground\": true, \"ticks\": \"\", \"zerolinecolor\": \"white\"}, \"yaxis\": {\"backgroundcolor\": \"#E5ECF6\", \"gridcolor\": \"white\", \"gridwidth\": 2, \"linecolor\": \"white\", \"showbackground\": true, \"ticks\": \"\", \"zerolinecolor\": \"white\"}, \"zaxis\": {\"backgroundcolor\": \"#E5ECF6\", \"gridcolor\": \"white\", \"gridwidth\": 2, \"linecolor\": \"white\", \"showbackground\": true, \"ticks\": \"\", \"zerolinecolor\": \"white\"}}, \"shapedefaults\": {\"line\": {\"color\": \"#2a3f5f\"}}, \"ternary\": {\"aaxis\": {\"gridcolor\": \"white\", \"linecolor\": \"white\", \"ticks\": \"\"}, \"baxis\": {\"gridcolor\": \"white\", \"linecolor\": \"white\", \"ticks\": \"\"}, \"bgcolor\": \"#E5ECF6\", \"caxis\": {\"gridcolor\": \"white\", \"linecolor\": \"white\", \"ticks\": \"\"}}, \"title\": {\"x\": 0.05}, \"xaxis\": {\"automargin\": true, \"gridcolor\": \"white\", \"linecolor\": \"white\", \"ticks\": \"\", \"zerolinecolor\": \"white\", \"zerolinewidth\": 2}, \"yaxis\": {\"automargin\": true, \"gridcolor\": \"white\", \"linecolor\": \"white\", \"ticks\": \"\", \"zerolinecolor\": \"white\", \"zerolinewidth\": 2}}}},\n",
       "                        {\"responsive\": true}\n",
       "                    ).then(function(){\n",
       "                            \n",
       "var gd = document.getElementById('efc4530f-f205-469f-9ed7-268d09fbe83d');\n",
       "var x = new MutationObserver(function (mutations, observer) {{\n",
       "        var display = window.getComputedStyle(gd).display;\n",
       "        if (!display || display === 'none') {{\n",
       "            console.log([gd, 'removed!']);\n",
       "            Plotly.purge(gd);\n",
       "            observer.disconnect();\n",
       "        }}\n",
       "}});\n",
       "\n",
       "// Listen for the removal of the full notebook cells\n",
       "var notebookContainer = gd.closest('#notebook-container');\n",
       "if (notebookContainer) {{\n",
       "    x.observe(notebookContainer, {childList: true});\n",
       "}}\n",
       "\n",
       "// Listen for the clearing of the current output cell\n",
       "var outputEl = gd.closest('.output');\n",
       "if (outputEl) {{\n",
       "    x.observe(outputEl, {childList: true});\n",
       "}}\n",
       "\n",
       "                        })\n",
       "                };\n",
       "                });\n",
       "            </script>\n",
       "        </div>"
      ]
     },
     "metadata": {},
     "output_type": "display_data"
    }
   ],
   "source": [
    "optimal_mr = [11156,9896,9504,2298,6194,292,235528,354210,725522,135028,388214,491812,703482,1818146,2422002,3139370]\n",
    "jovo_mr = [12176,9896,10960,2786,7218,292,235528,256654,730614,135828,391522,496598,711840,1844636,2454292,3187738]\n",
    "\n",
    "\n",
    "\n",
    "import plotly.graph_objects as go\n",
    "\n",
    "fig = go.Figure(data=[go.Table(header=dict(values=['Problem','Optimal','FAQ (JOVO Paper)','FAQ (ALI)']),\n",
    "        cells = dict(values=[mult_problems,optimal,jovo_mr,mult_ali]))])\n",
    "fig.show()"
   ]
  },
  {
   "cell_type": "markdown",
   "metadata": {},
   "source": [
    "# For now, ignore everything below this point"
   ]
  },
  {
   "cell_type": "markdown",
   "metadata": {},
   "source": [
    "Additionally, I decided another good way to show the performance would be to test how the algorithm solves the graph matching problem. \"The objective function for GM is just the negative of the objective function for QAP.\" The adjusted code to solve the GMP is found below"
   ]
  },
  {
   "cell_type": "code",
   "execution_count": 124,
   "metadata": {},
   "outputs": [],
   "source": []
  },
  {
   "cell_type": "markdown",
   "metadata": {},
   "source": [
    "Below is the test code to check whether or not the GMP can be successfully solved. Here I am synthesizing data. First, a random nxn symmetric permutation matrix is instantiated, which will be the adjacency matrix A. Then, some random permutation to A is generated (a randomly shuffled list [0, n-1]), which is then converted to a permutation matrix (P_opt). Adjancency matrix B is generated through the equation B = (P_opt)^T * A * P_opt. Now we have some adjancy matrix A and some random permutation of A, B. To test the performance accuracy of the function, 50 random instances of A will be instantiated. If there are zero edge disagreement between A and the permutation of B return by FAQ (P), then trace(AP-PB) = 0. This test will be run for n = 8,10,12,14,16 with the success rate returned."
   ]
  },
  {
   "cell_type": "code",
   "execution_count": null,
   "metadata": {},
   "outputs": [],
   "source": [
    "def GMPtest(n):\n",
    "    correct = 0\n",
    "    for i in range(50):\n",
    "    \n",
    "        def choose(n, k):\n",
    "            \"\"\"\n",
    "            A fast way to calculate binomial coefficients by Andrew Dalke (contrib).\n",
    "            \"\"\"\n",
    "            if 0 <= k <= n:\n",
    "                ntok = 1\n",
    "                ktok = 1\n",
    "                for t in range(1, min(k, n - k) + 1):\n",
    "                    ntok *= n\n",
    "                    ktok *= t\n",
    "                    n -= 1\n",
    "                return ntok // ktok\n",
    "            else:\n",
    "                return 0\n",
    "        tri_size = choose(n,2)\n",
    "        arr = np.random.randint(2,size = tri_size)\n",
    "        A = np.zeros((n,n))\n",
    "        iter_ = 0\n",
    "        for i in range(n):\n",
    "            for j in range(i+1,n):\n",
    "                A[i,j] = arr[iter_]\n",
    "                A[j,i] = arr[iter_]\n",
    "                iter_ += 1\n",
    "        row = np.arange(n)\n",
    "        col = np.arange(n)\n",
    "        np.random.shuffle(col)\n",
    "        P_opt = np.zeros((n,n))\n",
    "        P_opt[row,col] = 1\n",
    "        B = np.transpose(P_opt)@A@P_opt\n",
    "\n",
    "        #print(arr)\n",
    "        #print(A)\n",
    "        #print(P_opt)\n",
    "        #print(B)\n",
    "\n",
    "        #print(row)\n",
    "        #print(col)\n",
    "        #print(sum(sum(A)))\n",
    "        #print(sum(sum(B)))\n",
    "\n",
    "        rand_150_inits = FAQ(100,\"rand\")\n",
    "        test = rand_150_inits.fit(A,B)\n",
    "        #print(test.perm_inds_)\n",
    "        #print(test.ofv_)\n",
    "\n",
    "        #print(np.trace(A@P_opt@np.transpose(B)@np.transpose(P_opt)))\n",
    "        P = np.zeros((n,n))\n",
    "        P[row, test.perm_inds_] = 1\n",
    "        #print(A@P-P@B)\n",
    "        if np.linalg.norm(A@P-P@B, ord='fro') == 0:\n",
    "            correct += 1\n",
    "    return correct/100.0\n",
    "\n",
    "            \n"
   ]
  },
  {
   "cell_type": "code",
   "execution_count": null,
   "metadata": {
    "scrolled": false
   },
   "outputs": [],
   "source": [
    "GMPtest(8)"
   ]
  },
  {
   "cell_type": "code",
   "execution_count": null,
   "metadata": {},
   "outputs": [],
   "source": [
    "print(GMPtest(10))"
   ]
  },
  {
   "cell_type": "code",
   "execution_count": null,
   "metadata": {},
   "outputs": [],
   "source": [
    "print(GMPtest(12))"
   ]
  },
  {
   "cell_type": "code",
   "execution_count": null,
   "metadata": {},
   "outputs": [],
   "source": [
    "print(GMPtest(14))"
   ]
  },
  {
   "cell_type": "code",
   "execution_count": null,
   "metadata": {},
   "outputs": [],
   "source": [
    "print(GMPtest(16))"
   ]
  },
  {
   "cell_type": "markdown",
   "metadata": {},
   "source": [
    "As we can see from the above cells, running with graphs of size 8,10,12,14,16 vertices all yield 100% accuracy"
   ]
  },
  {
   "cell_type": "code",
   "execution_count": 26,
   "metadata": {},
   "outputs": [
    {
     "name": "stdout",
     "output_type": "stream",
     "text": [
      "3768.0\n"
     ]
    }
   ],
   "source": [
    "with open('qapdata/lipa20a.dat') as f:\n",
    "        f = [int(elem) for elem in f.read().split()]\n",
    "\n",
    "# adjusting\n",
    "f = np.array(f[1:])\n",
    "n = int(math.sqrt(len(f)/2))\n",
    "f = f.reshape(2*n,n)\n",
    "A = f[:n,:]\n",
    "B = f[n:,:]\n",
    "barycenter = FAQ(2,\"barycenter\")\n",
    "lipa20a = barycenter.fit(A,B)\n",
    "\n",
    "print(lipa20a.ofv_)\n"
   ]
  },
  {
   "cell_type": "code",
   "execution_count": 8,
   "metadata": {},
   "outputs": [],
   "source": [
    "At = np.transpose(A)  # A transpose\n",
    "Bt = np.transpose(B)\n",
    "P = np.ones((n,n))/float(n)"
   ]
  },
  {
   "cell_type": "code",
   "execution_count": 9,
   "metadata": {},
   "outputs": [],
   "source": [
    "delfp = (A@P@Bt+At@P@B)"
   ]
  },
  {
   "cell_type": "code",
   "execution_count": 11,
   "metadata": {},
   "outputs": [
    {
     "name": "stdout",
     "output_type": "stream",
     "text": [
      "[[0. 0. 0. 0. 0. 0. 0. 0. 0. 0. 0. 0. 0. 0. 0. 0. 0. 0. 0. 1.]\n",
      " [0. 0. 0. 0. 0. 0. 0. 0. 0. 0. 0. 1. 0. 0. 0. 0. 0. 0. 0. 0.]\n",
      " [0. 0. 0. 0. 0. 0. 0. 0. 0. 1. 0. 0. 0. 0. 0. 0. 0. 0. 0. 0.]\n",
      " [0. 0. 0. 0. 0. 0. 0. 0. 0. 0. 0. 0. 0. 0. 0. 0. 1. 0. 0. 0.]\n",
      " [0. 0. 1. 0. 0. 0. 0. 0. 0. 0. 0. 0. 0. 0. 0. 0. 0. 0. 0. 0.]\n",
      " [0. 0. 0. 0. 1. 0. 0. 0. 0. 0. 0. 0. 0. 0. 0. 0. 0. 0. 0. 0.]\n",
      " [0. 0. 0. 0. 0. 0. 0. 0. 0. 0. 1. 0. 0. 0. 0. 0. 0. 0. 0. 0.]\n",
      " [0. 0. 0. 0. 0. 0. 1. 0. 0. 0. 0. 0. 0. 0. 0. 0. 0. 0. 0. 0.]\n",
      " [0. 0. 0. 0. 0. 0. 0. 1. 0. 0. 0. 0. 0. 0. 0. 0. 0. 0. 0. 0.]\n",
      " [0. 0. 0. 0. 0. 1. 0. 0. 0. 0. 0. 0. 0. 0. 0. 0. 0. 0. 0. 0.]\n",
      " [0. 0. 0. 0. 0. 0. 0. 0. 0. 0. 0. 0. 0. 0. 0. 0. 0. 0. 1. 0.]\n",
      " [0. 0. 0. 0. 0. 0. 0. 0. 0. 0. 0. 0. 0. 0. 0. 1. 0. 0. 0. 0.]\n",
      " [0. 0. 0. 0. 0. 0. 0. 0. 0. 0. 0. 0. 0. 0. 1. 0. 0. 0. 0. 0.]\n",
      " [0. 0. 0. 0. 0. 0. 0. 0. 0. 0. 0. 0. 0. 0. 0. 0. 0. 1. 0. 0.]\n",
      " [0. 0. 0. 0. 0. 0. 0. 0. 0. 0. 0. 0. 0. 1. 0. 0. 0. 0. 0. 0.]\n",
      " [0. 0. 0. 0. 0. 0. 0. 0. 0. 0. 0. 0. 1. 0. 0. 0. 0. 0. 0. 0.]\n",
      " [1. 0. 0. 0. 0. 0. 0. 0. 0. 0. 0. 0. 0. 0. 0. 0. 0. 0. 0. 0.]\n",
      " [0. 1. 0. 0. 0. 0. 0. 0. 0. 0. 0. 0. 0. 0. 0. 0. 0. 0. 0. 0.]\n",
      " [0. 0. 0. 0. 0. 0. 0. 0. 1. 0. 0. 0. 0. 0. 0. 0. 0. 0. 0. 0.]\n",
      " [0. 0. 0. 1. 0. 0. 0. 0. 0. 0. 0. 0. 0. 0. 0. 0. 0. 0. 0. 0.]]\n"
     ]
    }
   ],
   "source": [
    "rows, cols = linear_sum_assignment(delfp) # run hungarian algorithm on gradient(f(P))\n",
    "Q = np.zeros((n,n))  \n",
    "Q[rows,cols] = 1\n",
    "print(Q)"
   ]
  },
  {
   "cell_type": "code",
   "execution_count": 12,
   "metadata": {},
   "outputs": [
    {
     "data": {
      "text/plain": [
       "7473.800000000001"
      ]
     },
     "execution_count": 12,
     "metadata": {},
     "output_type": "execute_result"
    }
   ],
   "source": [
    "np.trace(np.transpose(delfp)@Q)"
   ]
  },
  {
   "cell_type": "code",
   "execution_count": null,
   "metadata": {},
   "outputs": [],
   "source": [
    "cols = [11,0,6,14,2,3,10,9,7,13,15,4,16,18,17,8,19,1,12,5]\n",
    "Q = np.zeros((n,n))  \n",
    "Q[rows,cols] = 1\n",
    "np.trace(np.transpose(delfp)@Q)"
   ]
  },
  {
   "cell_type": "code",
   "execution_count": null,
   "metadata": {},
   "outputs": [],
   "source": [
    "rows, cols = linear_sum_assignment(-delfp) # run hungarian algorithm on gradient(f(P))\n",
    "Q = np.zeros((n,n))  \n",
    "Q[rows,cols] = 1\n",
    "print(Q)"
   ]
  },
  {
   "cell_type": "code",
   "execution_count": null,
   "metadata": {},
   "outputs": [],
   "source": [
    "np.trace(np.transpose(delfp)@Q)"
   ]
  },
  {
   "cell_type": "code",
   "execution_count": 13,
   "metadata": {},
   "outputs": [
    {
     "data": {
      "text/plain": [
       "7473.800000000001"
      ]
     },
     "execution_count": 13,
     "metadata": {},
     "output_type": "execute_result"
    }
   ],
   "source": [
    "cols = [11,0,6,14,2,3,10,9,7,13,15,4,16,18,17,8,19,1,12,5]\n",
    "Q = np.zeros((n,n))  \n",
    "Q[rows,cols] = 1\n",
    "np.trace(np.transpose(delfp)@Q)"
   ]
  },
  {
   "cell_type": "code",
   "execution_count": null,
   "metadata": {},
   "outputs": [],
   "source": [
    "def f(x):  #computing the original optimization function\n",
    "    return -np.trace(At@(x*P+(1-x)*Q)@B@np.transpose(x*P+(1-x)*Q))\n",
    "\n",
    "alpha = minimize_scalar(f, bounds=(0,1), method='bounded').x #computing the step size\n",
    "P = alpha*P + (1-alpha)*Q  # Update P"
   ]
  },
  {
   "cell_type": "code",
   "execution_count": null,
   "metadata": {},
   "outputs": [],
   "source": []
  }
 ],
 "metadata": {
  "kernelspec": {
   "display_name": "Python 3",
   "language": "python",
   "name": "python3"
  },
  "language_info": {
   "codemirror_mode": {
    "name": "ipython",
    "version": 3
   },
   "file_extension": ".py",
   "mimetype": "text/x-python",
   "name": "python",
   "nbconvert_exporter": "python",
   "pygments_lexer": "ipython3",
   "version": "3.7.3"
  }
 },
 "nbformat": 4,
 "nbformat_minor": 2
}
