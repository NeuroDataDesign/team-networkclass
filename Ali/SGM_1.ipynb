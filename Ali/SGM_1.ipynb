{
 "cells": [
  {
   "cell_type": "code",
   "execution_count": 284,
   "metadata": {},
   "outputs": [],
   "source": [
    "import numpy as np\n",
    "import math\n",
    "import matplotlib.pyplot as plt\n",
    "from scipy.optimize import linear_sum_assignment\n",
    "from scipy.optimize import minimize_scalar\n",
    "from scipy.optimize import minimize\n",
    "from sinkhorn_knopp import sinkhorn_knopp as skp\n",
    "import random\n",
    "sk = skp.SinkhornKnopp()\n",
    "\n",
    "\n",
    "def SGM(A,B,W1,W2):\n",
    "    \n",
    "    \n",
    "    \n",
    "    n_vert = A.shape[0] #number of vertices in graphs\n",
    "    m = len(W1)\n",
    "    n = n_vert-m\n",
    "    pr = [x for x in range(n_vert) if x not in W1]\n",
    "    pr = W1+pr\n",
    "    pc = [x for x in range(n_vert) if x not in W2]\n",
    "    pc = W2+pc\n",
    "    Pr = np.zeros((n_vert,n_vert))\n",
    "    Pc = np.zeros((n_vert,n_vert))\n",
    "    Pr[list(range(n_vert)),pr]=1\n",
    "    Pc[list(range(n_vert)),pc]=1\n",
    "    A = Pr@A@np.transpose(Pr)\n",
    "    B = Pc@B@np.transpose(Pc)\n",
    "    A11 = A[:m,:m]\n",
    "    A12 = A[:m,m:]\n",
    "    A21 = A[m:,:m]\n",
    "    A22 = A[m:,m:]\n",
    "    B11 = B[:m,:m]\n",
    "    B12 = B[:m,m:]\n",
    "    B21 = B[m:,:m]\n",
    "    B22 = B[m:,m:]\n",
    "    A11T = np.transpose(A11)\n",
    "    A12T = np.transpose(A12)\n",
    "    A22T = np.transpose(A22)\n",
    "    B21T = np.transpose(B21)\n",
    "    B22T = np.transpose(B22)\n",
    "    \n",
    "    P = np.ones((n,n))/float(n)\n",
    "    const_sum = A21@np.transpose(B21) + np.transpose(A12)@B12\n",
    "    ite = 0\n",
    "    stop = 1\n",
    "    for i in range(30):\n",
    "    #while(stop > 0.001 and ite < 50):\n",
    "        PT = np.transpose(P)\n",
    "        delfp = const_sum + A22@P@B22T + A22T@P@B22  # computing the gradient of f(P) = -tr(APB^tP^t)\n",
    "        rows, cols = linear_sum_assignment(delfp) # run hungarian algorithm on gradient(f(P))\n",
    "        Q = np.zeros((n,n))  \n",
    "        Q[rows,cols] = 1   # initialize search direction matrix Q\n",
    "\n",
    "        def f(x):  #computing the original optimization function\n",
    "            return np.trace(A11T@B11) + np.trace(np.transpose(x*P+(1-x)*Q)@A21@B21T) + np.trace(np.transpose(x*P+(1-x)*Q)@A12T@B12) + np.trace(A22T@(x*P+(1-x)*Q)@B22@np.transpose(x*P+(1-x)*Q)) \n",
    "        alpha = minimize_scalar(f, bounds=(0,1), method='bounded').x #computing the step size\n",
    "        P_i1 = alpha*P + (1-alpha)*Q  # Update P\n",
    "                #end of FW optimization loop\n",
    "        stop = np.linalg.norm(P_i1-P)\n",
    "        P = P_i1\n",
    "        ite += 1\n",
    "    row, perm_inds_new = linear_sum_assignment(-P)\n",
    "    Pf = np.zeros((n,n))\n",
    "    Pf[rows,cols] = 1   # project onto set of permutation matrices\n",
    "    Pf1 = np.identity(n_vert)\n",
    "    Pf1[m:,m:] = Pf\n",
    "    return ofv(A,B,Pf1)\n",
    "    \n",
    "    \n",
    "\n",
    "    \n"
   ]
  },
  {
   "cell_type": "code",
   "execution_count": 27,
   "metadata": {},
   "outputs": [],
   "source": [
    "with open('qapdata/chr12c.dat') as f:\n",
    "        f = [int(elem) for elem in f.read().split()]\n",
    "\n",
    "# adjusting\n",
    "f = np.array(f[1:])\n",
    "n = int(math.sqrt(len(f)/2))\n",
    "\n",
    "f = f.reshape(2*n,n)\n",
    "A = f[:n,:]\n",
    "B = f[n:,:]\n",
    "\n",
    "def ofv(A,B,P): #function to calculate objective function value based on permutation matrix\n",
    "    return np.trace(np.transpose(A)@P@B@np.transpose(P))\n",
    "def testSGM(num): #testing function where input is number of iterations\n",
    "    oofv = np.zeros(num)\n",
    "    for i in range(num):\n",
    "        Pi = SGM(A,B,[],[])\n",
    "        oofv[i] = ofv(A,B,Pi)\n",
    "        \n",
    "    return min(oofv)"
   ]
  },
  {
   "cell_type": "code",
   "execution_count": 273,
   "metadata": {},
   "outputs": [
    {
     "name": "stdout",
     "output_type": "stream",
     "text": [
      "21388.933333333334\n",
      "16945.4\n",
      "16437.933333333334\n",
      "14902.866666666667\n",
      "11156.0\n",
      "11156.0\n"
     ]
    }
   ],
   "source": [
    "import random\n",
    "with open('qapdata/chr12c.dat') as f:\n",
    "        f = [int(elem) for elem in f.read().split()]\n",
    "\n",
    "# adjusting\n",
    "f = np.array(f[1:])   \n",
    "n = int(math.sqrt(len(f)/2))\n",
    "\n",
    "f = f.reshape(2*n,n)\n",
    "A = f[:n,:]\n",
    "B = f[n:,:]\n",
    "pi = np.array([7,5,1,3,10,4,8,6,9,11,2,12])-[1]*n\n",
    "\n",
    "def SGMtest(A,B,pi):\n",
    "    n = A.shape[0]\n",
    "    for m in range(1,5):\n",
    "        ofvs = [0]*30\n",
    "        for i in range(30):\n",
    "            x = list(np.sort(random.sample(list(range(n)),m)))\n",
    "            y = [pi[z] for z in x]\n",
    "            ofvs[i] = SGM(A,B,x,y)\n",
    "        print(np.mean(ofvs))\n",
    "\n",
    "def SGMtest2(A,B,pi):\n",
    "    n = A.shape[0]\n",
    "    for m in range(n-2,n):\n",
    "        ofvs = [0]*30\n",
    "        for i in range(30):\n",
    "            x = list(np.sort(random.sample(list(range(n)),m)))\n",
    "            y = [pi[z] for z in x]\n",
    "            ofvs[i] = SGM(A,B,x,y)\n",
    "        print(np.mean(ofvs))\n",
    "\n",
    "SGMtest(A,B,pi)\n",
    "SGMtest2(A,B,pi)"
   ]
  },
  {
   "cell_type": "code",
   "execution_count": 274,
   "metadata": {},
   "outputs": [
    {
     "name": "stdout",
     "output_type": "stream",
     "text": [
      "17642.533333333333\n",
      "16350.066666666668\n",
      "14359.533333333333\n",
      "14656.466666666667\n",
      "9896.0\n",
      "9896.0\n"
     ]
    }
   ],
   "source": [
    "with open('qapdata/chr15a.dat') as f:\n",
    "        f = [int(elem) for elem in f.read().split()]\n",
    "\n",
    "# adjusting\n",
    "f = np.array(f[1:])   \n",
    "n = int(math.sqrt(len(f)/2))\n",
    "\n",
    "f = f.reshape(2*n,n)\n",
    "A = f[:n,:]\n",
    "B = f[n:,:]\n",
    "pi = np.array([5,10,8,13,12,11,14,2,4,6,7,15,3,1,9])-[1]*n\n",
    "\n",
    "SGMtest(A,B,pi)\n",
    "SGMtest2(A,B,pi)"
   ]
  },
  {
   "cell_type": "code",
   "execution_count": 277,
   "metadata": {},
   "outputs": [
    {
     "name": "stdout",
     "output_type": "stream",
     "text": [
      "19007.4\n",
      "18683.0\n",
      "14866.133333333333\n",
      "14665.733333333334\n",
      "9504.0\n",
      "9504.0\n"
     ]
    }
   ],
   "source": [
    "with open('qapdata/chr15c.dat') as f:\n",
    "        f = [int(elem) for elem in f.read().split()]\n",
    "\n",
    "# adjusting\n",
    "f = np.array(f[1:])   \n",
    "n = int(math.sqrt(len(f)/2))\n",
    "\n",
    "f = f.reshape(2*n,n)\n",
    "A = f[:n,:]\n",
    "B = f[n:,:]\n",
    "pi = np.array([13,2,5,7,8,1,14,6,4,3,15,9,12,11,10])-[1]*n\n",
    "\n",
    "SGMtest(A,B,pi)\n",
    "SGMtest2(A,B,pi)"
   ]
  },
  {
   "cell_type": "code",
   "execution_count": 278,
   "metadata": {},
   "outputs": [
    {
     "name": "stdout",
     "output_type": "stream",
     "text": [
      "4043.4666666666667\n",
      "3784.9333333333334\n",
      "3743.4\n",
      "3604.733333333333\n",
      "2298.0\n",
      "2298.0\n"
     ]
    }
   ],
   "source": [
    "with open('qapdata/chr20b.dat') as f:\n",
    "        f = [int(elem) for elem in f.read().split()]\n",
    "\n",
    "# adjusting\n",
    "f = np.array(f[1:])   \n",
    "n = int(math.sqrt(len(f)/2))\n",
    "\n",
    "f = f.reshape(2*n,n)\n",
    "A = f[:n,:]\n",
    "B = f[n:,:]\n",
    "pi = np.array([20,3,9,7,1,12,16,6,8,14,10,4,5,13,17,2,18,11,19,15])-[1]*n\n",
    "\n",
    "SGMtest(A,B,pi)\n",
    "SGMtest2(A,B,pi)"
   ]
  },
  {
   "cell_type": "code",
   "execution_count": 305,
   "metadata": {},
   "outputs": [
    {
     "name": "stdout",
     "output_type": "stream",
     "text": [
      "8921.066666666668\n",
      "8375.066666666668\n",
      "7989.466666666666\n",
      "7879.533333333334\n",
      "6194.0\n",
      "6194.0\n"
     ]
    }
   ],
   "source": [
    "with open('qapdata/chr22b.dat') as f:\n",
    "        f = [int(elem) for elem in f.read().split()]\n",
    "\n",
    "# adjusting\n",
    "f = np.array(f[1:])   \n",
    "n = int(math.sqrt(len(f)/2))\n",
    "\n",
    "f = f.reshape(2*n,n)\n",
    "A = f[:n,:]\n",
    "B = f[n:,:]\n",
    "pi = np.array([10,19,3,1,20,2,6,4,7,8,17,12,11,15,21,13,9,5,22,14,18,16])-[1]*n\n",
    "\n",
    "SGMtest(A,B,pi)\n",
    "SGMtest2(A,B,pi)"
   ]
  },
  {
   "cell_type": "code",
   "execution_count": 271,
   "metadata": {},
   "outputs": [
    {
     "name": "stdout",
     "output_type": "stream",
     "text": [
      "295.53333333333336\n",
      "295.2\n",
      "295.2\n",
      "294.3333333333333\n",
      "292.0\n",
      "292.0\n"
     ]
    }
   ],
   "source": [
    "import random\n",
    "with open('qapdata/esc16b.dat') as f:\n",
    "        f = [int(elem) for elem in f.read().split()]\n",
    "\n",
    "# adjusting\n",
    "f = np.array(f[1:])   \n",
    "n = int(math.sqrt(len(f)/2))\n",
    "\n",
    "f = f.reshape(2*n,n)\n",
    "A = f[:n,:]\n",
    "B = f[n:,:]\n",
    "pi = np.array([6,3,7,5,13,1,15,2,4,11,9,14,10,12,8,16])-[1]*n\n",
    "\n",
    "SGMtest(A,B,pi)\n",
    "SGMtest2(A,B,pi)"
   ]
  },
  {
   "cell_type": "code",
   "execution_count": 285,
   "metadata": {},
   "outputs": [
    {
     "name": "stdout",
     "output_type": "stream",
     "text": [
      "253937.53333333333\n",
      "245830.53333333333\n",
      "242340.46666666667\n",
      "240811.73333333334\n",
      "235528.0\n",
      "235528.0\n"
     ]
    }
   ],
   "source": [
    "with open('qapdata/rou12.dat') as f:\n",
    "        f = [int(elem) for elem in f.read().split()]\n",
    "\n",
    "# adjusting\n",
    "f = np.array(f[1:])   \n",
    "n = int(math.sqrt(len(f)/2))\n",
    "\n",
    "f = f.reshape(2*n,n)\n",
    "A = f[:n,:]\n",
    "B = f[n:,:]\n",
    "pi = np.array([6,5,11,9,2,8,3,1,12,7,4,10])-[1]*n\n",
    "\n",
    "SGMtest(A,B,pi)\n",
    "SGMtest2(A,B,pi)"
   ]
  },
  {
   "cell_type": "code",
   "execution_count": 288,
   "metadata": {},
   "outputs": [
    {
     "name": "stdout",
     "output_type": "stream",
     "text": [
      "375121.6666666667\n",
      "369342.86666666664\n",
      "363281.8\n",
      "363082.4\n",
      "354210.0\n",
      "354210.0\n"
     ]
    }
   ],
   "source": [
    "with open('qapdata/rou15.dat') as f:\n",
    "        f = [int(elem) for elem in f.read().split()]\n",
    "\n",
    "# adjusting\n",
    "f = np.array(f[1:])   \n",
    "n = int(math.sqrt(len(f)/2))\n",
    "\n",
    "f = f.reshape(2*n,n)\n",
    "A = f[:n,:]\n",
    "B = f[n:,:]\n",
    "pi = np.array([12,6,8,13,5,3,15,2,7,1,9,10,4,14,11])-[1]*n\n",
    "\n",
    "SGMtest(A,B,pi)\n",
    "SGMtest2(A,B,pi)"
   ]
  },
  {
   "cell_type": "code",
   "execution_count": 289,
   "metadata": {},
   "outputs": [
    {
     "name": "stdout",
     "output_type": "stream",
     "text": [
      "752251.7333333333\n",
      "762232.7333333333\n",
      "751685.2666666667\n",
      "751802.2\n",
      "725522.0\n",
      "725522.0\n"
     ]
    }
   ],
   "source": [
    "with open('qapdata/rou20.dat') as f:\n",
    "        f = [int(elem) for elem in f.read().split()]\n",
    "\n",
    "# adjusting\n",
    "f = np.array(f[1:])   \n",
    "n = int(math.sqrt(len(f)/2))\n",
    "\n",
    "f = f.reshape(2*n,n)\n",
    "A = f[:n,:]\n",
    "B = f[n:,:]\n",
    "pi = np.array([1,19,2,14,10,16,11,20,9,5,7,4,8,18,15,3,12,17,13,6])-[1]*n\n",
    "\n",
    "SGMtest(A,B,pi)\n",
    "SGMtest2(A,B,pi)"
   ]
  },
  {
   "cell_type": "code",
   "execution_count": 294,
   "metadata": {},
   "outputs": [
    {
     "name": "stdout",
     "output_type": "stream",
     "text": [
      "414492.6\n",
      "413389.3333333333\n",
      "411640.2\n",
      "397082.13333333336\n",
      "388214.0\n",
      "388214.0\n"
     ]
    }
   ],
   "source": [
    "with open('qapdata/tai15a.dat') as f:\n",
    "        f = [int(elem) for elem in f.read().split()]\n",
    "\n",
    "# adjusting\n",
    "f = np.array(f[1:])   \n",
    "n = int(math.sqrt(len(f)/2))\n",
    "\n",
    "f = f.reshape(2*n,n)\n",
    "A = f[:n,:]\n",
    "B = f[n:,:]\n",
    "pi = np.array([5,10,4,13,2,9,1,11,12,14,7,15,3,8,6])-[1]*n\n",
    "\n",
    "SGMtest(A,B,pi)\n",
    "SGMtest2(A,B,pi)"
   ]
  },
  {
   "cell_type": "code",
   "execution_count": 307,
   "metadata": {},
   "outputs": [
    {
     "name": "stdout",
     "output_type": "stream",
     "text": [
      "531485.4\n",
      "521699.6\n",
      "514663.2\n",
      "513211.2\n",
      "491812.0\n",
      "491812.0\n"
     ]
    }
   ],
   "source": [
    "with open('qapdata/tai17a.dat') as f:\n",
    "        f = [int(elem) for elem in f.read().split()]\n",
    "\n",
    "# adjusting\n",
    "f = np.array(f[1:])   \n",
    "n = int(math.sqrt(len(f)/2))\n",
    "\n",
    "f = f.reshape(2*n,n)\n",
    "A = f[:n,:]\n",
    "B = f[n:,:]\n",
    "pi = np.array([12,2,6,7,4,8,14,5,11,3,16,13,17,9,1,10,15])-[1]*n\n",
    "\n",
    "SGMtest(A,B,pi)\n",
    "SGMtest2(A,B,pi)"
   ]
  },
  {
   "cell_type": "code",
   "execution_count": 298,
   "metadata": {},
   "outputs": [
    {
     "name": "stdout",
     "output_type": "stream",
     "text": [
      "751039.6\n",
      "748957.5333333333\n",
      "735432.0666666667\n",
      "723134.7333333333\n",
      "703482.0\n",
      "703482.0\n"
     ]
    }
   ],
   "source": [
    "with open('qapdata/tai20a.dat') as f:\n",
    "        f = [int(elem) for elem in f.read().split()]\n",
    "\n",
    "# adjusting\n",
    "f = np.array(f[1:])   \n",
    "n = int(math.sqrt(len(f)/2))\n",
    "\n",
    "f = f.reshape(2*n,n)\n",
    "A = f[:n,:]\n",
    "B = f[n:,:]\n",
    "pi = np.array([10,9,12,20,19,3,14,6,17,11,5,7,15,16,18,2,4,8,13,1])-[1]*n\n",
    "\n",
    "SGMtest(A,B,pi)\n",
    "SGMtest2(A,B,pi)"
   ]
  },
  {
   "cell_type": "code",
   "execution_count": 300,
   "metadata": {},
   "outputs": [
    {
     "name": "stdout",
     "output_type": "stream",
     "text": [
      "1899905.8666666667\n",
      "1881029.8666666667\n",
      "1886237.6666666667\n",
      "1876745.6\n",
      "1818146.0\n",
      "1818146.0\n"
     ]
    }
   ],
   "source": [
    "with open('qapdata/tai30a.dat') as f:\n",
    "        f = [int(elem) for elem in f.read().split()]\n",
    "\n",
    "# adjusting\n",
    "f = np.array(f[1:])   \n",
    "n = int(math.sqrt(len(f)/2))\n",
    "\n",
    "f = f.reshape(2*n,n)\n",
    "A = f[:n,:]\n",
    "B = f[n:,:]\n",
    "pi = np.array([19, 18, 4, 24, 30, 25, 5, 7, 1, 22, 28, 20, 11,13, 9, 16, 8, 10, 17, 21, 12, 29, 2, 15, 3, 14, 26, 27, 23, 6])-[1]*n\n",
    "\n",
    "SGMtest(A,B,pi)\n",
    "SGMtest2(A,B,pi)"
   ]
  },
  {
   "cell_type": "code",
   "execution_count": 301,
   "metadata": {},
   "outputs": [
    {
     "name": "stdout",
     "output_type": "stream",
     "text": [
      "2524702.7333333334\n",
      "2519673.8\n",
      "2520130.1333333333\n",
      "2502065.3333333335\n",
      "2422002.0\n",
      "2422002.0\n"
     ]
    }
   ],
   "source": [
    "with open('qapdata/tai35a.dat') as f:\n",
    "        f = [int(elem) for elem in f.read().split()]\n",
    "\n",
    "# adjusting\n",
    "f = np.array(f[1:])   \n",
    "n = int(math.sqrt(len(f)/2))\n",
    "\n",
    "f = f.reshape(2*n,n)\n",
    "A = f[:n,:]\n",
    "B = f[n:,:]\n",
    "pi = np.array([19,9,28,12,7,33,13,26,5,2,31,16,24,27,22,15,3,30,29,11,6,25,21,23,34,20,18,4,10,1,14,8,32,35,17])-[1]*n\n",
    "\n",
    "SGMtest(A,B,pi)\n",
    "SGMtest2(A,B,pi)"
   ]
  },
  {
   "cell_type": "code",
   "execution_count": null,
   "metadata": {},
   "outputs": [],
   "source": []
  },
  {
   "cell_type": "code",
   "execution_count": 254,
   "metadata": {},
   "outputs": [
    {
     "name": "stdout",
     "output_type": "stream",
     "text": [
      "[[1. 0. 0. 0. 0.]\n",
      " [0. 1. 0. 0. 0.]\n",
      " [0. 0. 1. 0. 0.]\n",
      " [0. 0. 0. 1. 0.]\n",
      " [0. 0. 0. 0. 1.]]\n",
      "[[0. 0. 0. 1. 0.]\n",
      " [0. 1. 0. 0. 0.]\n",
      " [0. 0. 0. 0. 1.]\n",
      " [1. 0. 0. 0. 0.]\n",
      " [0. 0. 1. 0. 0.]]\n",
      "[[1. 0. 0. 0. 0.]\n",
      " [0. 1. 0. 0. 0.]\n",
      " [0. 0. 1. 0. 0.]\n",
      " [0. 0. 0. 1. 0.]\n",
      " [0. 0. 0. 0. 1.]]\n",
      "[[1. 0. 0. 0. 0.]\n",
      " [0. 1. 0. 0. 0.]\n",
      " [0. 0. 1. 0. 0.]\n",
      " [0. 0. 0. 1. 0.]\n",
      " [0. 0. 0. 0. 1.]]\n"
     ]
    }
   ],
   "source": [
    "\n",
    "Pi = np.zeros((5,5))\n",
    "Pr= np.zeros((5,5))\n",
    "Pc = np.zeros((5,5))\n",
    "Pi[list(range(5)),[3,1,4,0,2]]=1\n",
    "Pr[list(range(5)),[2,3,0,1,4]] =1\n",
    "Pc[list(range(5)),[4,0,3,1,2]] = 1\n",
    "print(np.transpose(Pc)@Pc)\n",
    "print(Pi)\n",
    "print(np.transpose(Pc)@np.identity(5)@Pc)\n",
    "print(Pr@Pi@np.transpose(Pc))"
   ]
  },
  {
   "cell_type": "code",
   "execution_count": 293,
   "metadata": {},
   "outputs": [
    {
     "name": "stdout",
     "output_type": "stream",
     "text": [
      "400700.0\n"
     ]
    }
   ],
   "source": [
    "x = list(np.sort(random.sample(list(range(n)),3)))\n",
    "y = [pi[z] for z in x]\n",
    "print(np.sum(SGM(A,B,x,y)))\n"
   ]
  },
  {
   "cell_type": "code",
   "execution_count": 313,
   "metadata": {},
   "outputs": [],
   "source": [
    "chr12c_a = [21389,16945,16438,14903]\n",
    "chr12c_f = [19770,16298,16221,14504]\n",
    "chr15a_a = [17642.533333333333, 16350.066666666668, 14359.533333333333 , 14656.466666666667]\n",
    "chr15a_f = [15813, 16280,15861, 14399]\n",
    "chr15c_f = [18230 , 15649 , 15494 , 14027 ]\n",
    "chr20b_f = [3555 , 3585 , 3540 , 3556 ]\n",
    "chr22b_f = [8359 , 8184 , 8021 , 7673 ]\n",
    "esc16b_f = [293 , 295 , 294 , 293]\n",
    "rou12_f = [250799 , 242999 , 236993 , 236432]\n",
    "rou15_f = [369198 , 361721 , 357969 , 356537]\n",
    "rou20_f = [748128 , 753645 , 746137 , 743474 ]\n",
    "tai15a_f = [403314 , 402760 , 398765 , 396544]\n",
    "tai17a_f = [518678 , 506259 , 506159 , 502410]\n",
    "tai20a_f = [736797 , 739771 , 735472 , 716565]\n",
    "tai30a_f = [1888526 , 1878886 , 1874521 , 1865151]\n",
    "tai35a_f = []\n",
    "tai40a_f = []\n",
    "chr15c_a = [19007.4,18683.0,14866.133333333333,14665.733333333334]\n",
    "chr20b_a = [4043.4666666666667,3784.9333333333334,3743.4,3604.733333333333]\n",
    "chr22b_a = [8921.066666666668,8375.066666666668,7989.466666666666,7879.533333333334]\n",
    "esc16b_a = []\n",
    "rou12_a = []\n",
    "rou15_a = []\n",
    "rou20_a = []\n",
    "tai15a_a = []\n",
    "tai17a_a = []\n",
    "tai20a_a = []\n",
    "tai30a_a = []\n",
    "tai35a_a = []\n",
    "tai40a_a = []"
   ]
  },
  {
   "cell_type": "code",
   "execution_count": 357,
   "metadata": {},
   "outputs": [],
   "source": [
    "import matplotlib.pyplot as plt\n",
    "\n",
    "labels = ['1','2','3','4']\n",
    "optimal = 11156\n",
    "chr12c = [(chr12c_a[x]-optimal)/optimal - (chr12c_f[x]-optimal)/optimal for x in range(len(chr12c_a))]\n",
    "optimal = 9896\n",
    "chr15a = [(chr15a_a[x]-optimal)/optimal - (chr15a_f[x]-optimal)/optimal for x in range(len(chr15a_a))]\n",
    "optimal = 9504\n",
    "chr15c = [(chr15c_a[x]-optimal)/optimal - (chr15c_f[x]-optimal)/optimal for x in range(len(chr15c_a))]\n",
    "optimal = 2298\n",
    "chr20b = [(chr20b_a[x]-optimal)/optimal - (chr20b_f[x]-optimal)/optimal for x in range(len(chr20b_a))]\n",
    "optimal = 6194\n",
    "chr22b = [(chr22b_a[x]-optimal)/optimal - (chr22b_f[x]-optimal)/optimal for x in range(len(chr22b_a))]\n",
    "\n",
    "\n",
    "\n",
    "\n"
   ]
  },
  {
   "cell_type": "code",
   "execution_count": 358,
   "metadata": {},
   "outputs": [
    {
     "data": {
      "image/png": "[encoded data removed]",
      "text/plain": [
       "<Figure size 432x288 with 1 Axes>"
      ]
     },
     "metadata": {},
     "output_type": "display_data"
    }
   ],
   "source": [
    "x = np.arange(len(labels))  # the label locations\n",
    "width = 0.15  # the width of the bars\n",
    "\n",
    "# set width of bar\n",
    "barWidth = 0.15\n",
    " \n",
    "# Set position of bar on X axis\n",
    "r1 = np.arange(len(chr12c))\n",
    "r2 = [x + barWidth for x in r1]\n",
    "r3 = [x + barWidth for x in r2]\n",
    "r4 = [x + barWidth for x in r3]\n",
    "r5 = [x + barWidth for x in r4]\n",
    "\n",
    "# Make the plot\n",
    "plt.bar(r1, chr12c, width=barWidth, edgecolor='white', label='chr12c')\n",
    "plt.bar(r2, chr15a, width=barWidth, edgecolor='white', label='chr15a')\n",
    "plt.bar(r3, chr15c, width=barWidth, edgecolor='white', label='chr15c')\n",
    "plt.bar(r4, chr20b, width=barWidth, edgecolor='white', label='chr20b')\n",
    "plt.bar(r5, chr22b,  width=barWidth, edgecolor='white', label='chr22b')\n",
    "\n",
    "\n",
    "# Add xticks on the middle of the group bars\n",
    "plt.xlabel('Seeded Vertices')\n",
    "plt.ylabel('(% diff Ali) - (% diff Fishkind)')\n",
    "plt.xticks([r + barWidth for r in range(len(chr12c))], labels)\n",
    " \n",
    "plt.legend()\n",
    "plt.show()\n",
    "\n",
    "\n"
   ]
  },
  {
   "cell_type": "code",
   "execution_count": 350,
   "metadata": {},
   "outputs": [
    {
     "data": {
      "text/plain": [
       "<matplotlib.legend.Legend at 0x1a18c1d3c8>"
      ]
     },
     "execution_count": 350,
     "metadata": {},
     "output_type": "execute_result"
    },
    {
     "data": {
      "image/png": "[encoded data removed]",
      "text/plain": [
       "<Figure size 432x288 with 1 Axes>"
      ]
     },
     "metadata": {},
     "output_type": "display_data"
    }
   ],
   "source": [
    "plt.plot(labels, chr12c_a, linestyle='dashed',marker = 'o', label = \"Ali\"  )\n",
    "plt.plot(labels, chr12c_f, linestyle='dashed',marker = 'o', label = \"Fishkind\"  )\n",
    "\n",
    "plt.xlabel('Number of Seeds')\n",
    "plt.ylabel ('Average OFV of 30 experiments')\n",
    "plt.title('chr12c')\n",
    "plt.legend()"
   ]
  },
  {
   "cell_type": "code",
   "execution_count": 351,
   "metadata": {},
   "outputs": [
    {
     "data": {
      "text/plain": [
       "<matplotlib.legend.Legend at 0x1a18862f98>"
      ]
     },
     "execution_count": 351,
     "metadata": {},
     "output_type": "execute_result"
    },
    {
     "data": {
      "image/png": "[encoded data removed]",
      "text/plain": [
       "<Figure size 432x288 with 1 Axes>"
      ]
     },
     "metadata": {},
     "output_type": "display_data"
    }
   ],
   "source": [
    "plt.plot(labels,chr15a_a, linestyle='dashed',marker = 'o', label = \"Ali\"  )\n",
    "plt.plot(labels,chr15a_f, linestyle='dashed',marker = 'o', label = \"Fishkind\"  )\n",
    "\n",
    "plt.xlabel('Number of Seeds')\n",
    "plt.ylabel ('Average OFV of 30 experiments')\n",
    "plt.title('chr15a')\n",
    "plt.legend()"
   ]
  },
  {
   "cell_type": "code",
   "execution_count": 352,
   "metadata": {},
   "outputs": [
    {
     "data": {
      "text/plain": [
       "<matplotlib.legend.Legend at 0x1a18e81be0>"
      ]
     },
     "execution_count": 352,
     "metadata": {},
     "output_type": "execute_result"
    },
    {
     "data": {
      "image/png": "[encoded data removed]",
      "text/plain": [
       "<Figure size 432x288 with 1 Axes>"
      ]
     },
     "metadata": {},
     "output_type": "display_data"
    }
   ],
   "source": [
    "plt.plot(labels,chr15c_a, linestyle='dashed',marker = 'o', label = \"Ali\"  )\n",
    "plt.plot(labels,chr15c_f, linestyle='dashed',marker = 'o', label = \"Fishkind\"  )\n",
    "\n",
    "plt.xlabel('Number of Seeds')\n",
    "plt.ylabel ('Average OFV of 30 experiments')\n",
    "plt.title('chr15c')\n",
    "plt.legend()"
   ]
  },
  {
   "cell_type": "code",
   "execution_count": 353,
   "metadata": {},
   "outputs": [
    {
     "data": {
      "text/plain": [
       "<matplotlib.legend.Legend at 0x1a18b6a6d8>"
      ]
     },
     "execution_count": 353,
     "metadata": {},
     "output_type": "execute_result"
    },
    {
     "data": {
      "image/png": "[encoded data removed]",
      "text/plain": [
       "<Figure size 432x288 with 1 Axes>"
      ]
     },
     "metadata": {},
     "output_type": "display_data"
    }
   ],
   "source": [
    "plt.plot(labels,chr20b_a, linestyle='dashed',marker = 'o', label = \"Ali\"  )\n",
    "plt.plot(labels,chr20b_f, linestyle='dashed',marker = 'o', label = \"Fishkind\"  )\n",
    "\n",
    "plt.xlabel('Number of Seeds')\n",
    "plt.ylabel ('Average OFV of 30 experiments')\n",
    "plt.title('chr20b')\n",
    "plt.legend()"
   ]
  },
  {
   "cell_type": "code",
   "execution_count": 354,
   "metadata": {},
   "outputs": [
    {
     "data": {
      "text/plain": [
       "<matplotlib.legend.Legend at 0x1a189da2b0>"
      ]
     },
     "execution_count": 354,
     "metadata": {},
     "output_type": "execute_result"
    },
    {
     "data": {
      "image/png": "[encoded data removed]",
      "text/plain": [
       "<Figure size 432x288 with 1 Axes>"
      ]
     },
     "metadata": {},
     "output_type": "display_data"
    }
   ],
   "source": [
    "plt.plot(labels,chr22b_a, linestyle='dashed',marker = 'o', label = \"Ali\"  )\n",
    "plt.plot(labels,chr22b_f, linestyle='dashed',marker = 'o', label = \"Fishkind\"  )\n",
    "\n",
    "plt.xlabel('Number of Seeds')\n",
    "plt.ylabel ('Average OFV of 30 experiments')\n",
    "plt.title('chr22b')\n",
    "plt.legend()"
   ]
  },
  {
   "cell_type": "code",
   "execution_count": null,
   "metadata": {},
   "outputs": [],
   "source": []
  }
 ],
 "metadata": {
  "kernelspec": {
   "display_name": "Python 3",
   "language": "python",
   "name": "python3"
  },
  "language_info": {
   "codemirror_mode": {
    "name": "ipython",
    "version": 3
   },
   "file_extension": ".py",
   "mimetype": "text/x-python",
   "name": "python",
   "nbconvert_exporter": "python",
   "pygments_lexer": "ipython3",
   "version": "3.7.3"
  }
 },
 "nbformat": 4,
 "nbformat_minor": 2
}
