{
 "cells": [
  {
   "cell_type": "code",
   "execution_count": 246,
   "metadata": {},
   "outputs": [],
   "source": [
    "\n",
    "import sys\n",
    "sys.path\n",
    "sys.path.insert(0, '/Users/asaadeldin/Downloads/GitHub/graspy')\n",
    "import numpy as np\n",
    "import math\n",
    "from scipy.optimize import linear_sum_assignment\n",
    "from scipy.optimize import minimize_scalar\n",
    "from sklearn.utils import check_array\n",
    "from sklearn.utils import column_or_1d\n",
    "\n",
    "from graspy.match import SinkhornKnopp\n",
    "\n",
    "\n",
    "class GraphMatch:\n",
    "    \"\"\"\n",
    "    This class solves the Graph Matching Problem and the Quadratic Assignment Problem\n",
    "    (QAP) through an implementation of the Fast Approximate QAP Algorithm (FAQ) (these\n",
    "    two problems are the same up to a sign change) [1].\n",
    "\n",
    "    This algorithm can be thought of as finding an alignment of the vertices of two \n",
    "    graphs which minimizes the number of induced edge disagreements, or, in the case\n",
    "    of weighted graphs, the sum of squared differences of edge weight disagreements.\n",
    "    The option to add seeds (known vertex correspondence between some nodes) is also\n",
    "    available [2].\n",
    "\n",
    "\n",
    "    Parameters\n",
    "    ----------\n",
    "\n",
    "    n_init : int, positive (default = 1)\n",
    "        Number of random initializations of the starting permutation matrix that\n",
    "        the FAQ algorithm will undergo. n_init automatically set to 1 if\n",
    "        init_method = 'barycenter'\n",
    "\n",
    "    init_method : string (default = 'barycenter')\n",
    "        The initial position chosen\n",
    "\n",
    "        \"barycenter\" : the non-informative “flat doubly stochastic matrix,”\n",
    "        :math:`J=1*1^T /n` , i.e the barycenter of the feasible region\n",
    "\n",
    "        \"rand\" : some random point near :math:`J, (J+K)/2`, where K is some random doubly\n",
    "        stochastic matrix\n",
    "\n",
    "    max_iter : int, positive (default = 30)\n",
    "        Integer specifying the max number of Franke-Wolfe iterations.\n",
    "        FAQ typically converges with modest number of iterations.\n",
    "\n",
    "    shuffle_input : bool (default = True)\n",
    "        Gives users the option to shuffle the nodes of A matrix to avoid results\n",
    "        from inputs that were already matched.\n",
    "\n",
    "    eps : float (default = 0.1)\n",
    "        A positive, threshold stopping criteria such that FW continues to iterate\n",
    "        while Frobenius norm of :math:`(P_{i}-P_{i+1}) > eps`\n",
    "\n",
    "    gmp : bool (default = True)\n",
    "        Gives users the option to solve QAP rather than the Graph Matching Problem\n",
    "        (GMP). This is accomplished through trivial negation of the objective function.\n",
    "\n",
    "    Attributes\n",
    "    ----------\n",
    "\n",
    "    perm_inds_ : array, size (n,) where n is the number of vertices in the fitted graphs.\n",
    "        The indices of the optimal permutation (with the fixed seeds given) on the nodes of B,\n",
    "        to best minimize the objective function :math:`f(P) = trace(A^T PBP^T )`.\n",
    "\n",
    "\n",
    "    score_ : float\n",
    "        The objective function value of for the optimal permutation found.\n",
    "\n",
    "\n",
    "    References\n",
    "    ----------\n",
    "    .. [1] J.T. Vogelstein, J.M. Conroy, V. Lyzinski, L.J. Podrazik, S.G. Kratzer,\n",
    "        E.T. Harley, D.E. Fishkind, R.J. Vogelstein, and C.E. Priebe, “Fast\n",
    "        approximate quadratic programming for graph matching,” PLOS one, vol. 10,\n",
    "        no. 4, p. e0121002, 2015.\n",
    "\n",
    "    .. [2] D. Fishkind, S. Adali, H. Patsolic, L. Meng, D. Singh, V. Lyzinski, C. Priebe,\n",
    "        Seeded graph matching, Pattern Recognit. 87 (2019) 203–215\n",
    "\n",
    "\n",
    "\n",
    "    \"\"\"\n",
    "\n",
    "    def __init__(\n",
    "        self,\n",
    "        n_init=1,\n",
    "        init_method=\"barycenter\",\n",
    "        max_iter=30,\n",
    "        shuffle_input=True,\n",
    "        eps=0.05,\n",
    "        gmp=True,\n",
    "    ):\n",
    "\n",
    "        if type(n_init) is int and n_init > 0:\n",
    "            self.n_init = n_init\n",
    "        else:\n",
    "            msg = '\"n_init\" must be a positive integer'\n",
    "            raise TypeError(msg)\n",
    "        if init_method == \"rand\":\n",
    "            self.init_method = \"rand\"\n",
    "        elif init_method == \"barycenter\":\n",
    "            self.init_method = \"barycenter\"\n",
    "            self.n_init = 1\n",
    "        elif init_method == \"convex\":\n",
    "            self.init_method = \"convex\"\n",
    "            self.n_init = 1\n",
    "        elif init_method == \"umey\":\n",
    "            self.init_method = \"umey\"\n",
    "            self.n_init = 1\n",
    "        else:\n",
    "            msg = 'Invalid \"init_method\" parameter string'\n",
    "            raise ValueError(msg)\n",
    "        if max_iter > 0 and type(max_iter) is int:\n",
    "            self.max_iter = max_iter\n",
    "        else:\n",
    "            msg = '\"max_iter\" must be a positive integer'\n",
    "            raise TypeError(msg)\n",
    "        if type(shuffle_input) is bool:\n",
    "            self.shuffle_input = shuffle_input\n",
    "        else:\n",
    "            msg = '\"shuffle_input\" must be a boolean'\n",
    "            raise TypeError(msg)\n",
    "        if eps > 0 and type(eps) is float:\n",
    "            self.eps = eps\n",
    "        else:\n",
    "            msg = '\"eps\" must be a positive float'\n",
    "            raise TypeError(msg)\n",
    "        if type(gmp) is bool:\n",
    "            self.gmp = gmp\n",
    "        else:\n",
    "            msg = '\"gmp\" must be a boolean'\n",
    "            raise TypeError(msg)\n",
    "\n",
    "    def fit(self, A, B, seeds_A=[], seeds_B=[]):\n",
    "        \"\"\"\n",
    "        Fits the model with two assigned adjacency matrices\n",
    "\n",
    "        Parameters\n",
    "        ---------\n",
    "        A : 2d-array, square, positive\n",
    "            A square adjacency matrix\n",
    "\n",
    "        B : 2d-array, square, positive\n",
    "            A square adjacency matrix\n",
    "\n",
    "        seeds_A : 1d-array, shape (m , 1) where m <= number of nodes (default = [])\n",
    "            An array where each entry is an index of a node in `A`.\n",
    "\n",
    "        seeds_B : 1d-array, shape (m , 1) where m <= number of nodes (default = [])\n",
    "            An array where each entry is an index of a node in `B` The elements of\n",
    "            `seeds_A` and `seeds_B` are vertices which are known to be matched, that is,\n",
    "            `seeds_A[i]` is matched to vertex `seeds_B[i]`.\n",
    "\n",
    "        Returns\n",
    "        -------\n",
    "\n",
    "        self : returns an instance of self\n",
    "        \"\"\"\n",
    "        A = check_array(A, copy=True, ensure_2d=True)\n",
    "        B = check_array(B, copy=True, ensure_2d=True)\n",
    "        seeds_A = column_or_1d(seeds_A)\n",
    "        seeds_B = column_or_1d(seeds_B)\n",
    "\n",
    "        if A.shape[0] != B.shape[0]:\n",
    "            msg = \"Adjacency matrices must be of equal size\"\n",
    "            raise ValueError(msg)\n",
    "        elif A.shape[0] != A.shape[1] or B.shape[0] != B.shape[1]:\n",
    "            msg = \"Adjacency matrix entries must be square\"\n",
    "            raise ValueError(msg)\n",
    "        elif seeds_A.shape[0] != seeds_B.shape[0]:\n",
    "            msg = \"Seed arrays must be of equal size\"\n",
    "            raise ValueError(msg)\n",
    "        elif seeds_A.shape[0] > A.shape[0]:\n",
    "            msg = \"There cannot be more seeds than there are nodes\"\n",
    "            raise ValueError(msg)\n",
    "        elif not (seeds_A >= 0).all() or not (seeds_B >= 0).all():\n",
    "            msg = \"Seed array entries must be greater than or equal to zero\"\n",
    "            raise ValueError(msg)\n",
    "        elif (\n",
    "            not (seeds_A <= (A.shape[0] - 1)).all()\n",
    "            or not (seeds_B <= (A.shape[0] - 1)).all()\n",
    "        ):\n",
    "            msg = \"Seed array entries must be less than or equal to n-1\"\n",
    "            raise ValueError(msg)\n",
    "\n",
    "        n = A.shape[0]  # number of vertices in graphs\n",
    "        n_seeds = seeds_A.shape[0]  # number of seeds\n",
    "        n_unseed = n - n_seeds\n",
    "\n",
    "        score = math.inf\n",
    "        perm_inds = np.zeros(n)\n",
    "\n",
    "        obj_func_scalar = 1\n",
    "        if self.gmp:\n",
    "            obj_func_scalar = -1\n",
    "            score = 0\n",
    "\n",
    "        seeds_B_c = np.setdiff1d(range(n), seeds_B)\n",
    "        if self.shuffle_input:\n",
    "            seeds_B_c = np.random.permutation(seeds_B_c)\n",
    "            # shuffle_input to avoid results from inputs that were already matched\n",
    "\n",
    "        seeds_A_c = np.setdiff1d(range(n), seeds_A)\n",
    "        permutation_A = np.concatenate([seeds_A, seeds_A_c], axis=None).astype(int)\n",
    "        permutation_B = np.concatenate([seeds_B, seeds_B_c], axis=None).astype(int)\n",
    "        A = A[np.ix_(permutation_A, permutation_A)]\n",
    "        B = B[np.ix_(permutation_B, permutation_B)]\n",
    "\n",
    "        # definitions according to Seeded Graph Matching [2].\n",
    "        A11 = A[:n_seeds, :n_seeds]\n",
    "        A12 = A[:n_seeds, n_seeds:]\n",
    "        A21 = A[n_seeds:, :n_seeds]\n",
    "        A22 = A[n_seeds:, n_seeds:]\n",
    "        B11 = B[:n_seeds, :n_seeds]\n",
    "        B12 = B[:n_seeds, n_seeds:]\n",
    "        B21 = B[n_seeds:, :n_seeds]\n",
    "        B22 = B[n_seeds:, n_seeds:]\n",
    "        A11T = np.transpose(A11)\n",
    "        A12T = np.transpose(A12)\n",
    "        A22T = np.transpose(A22)\n",
    "        B21T = np.transpose(B21)\n",
    "        B22T = np.transpose(B22)\n",
    "\n",
    "        for i in range(self.n_init):\n",
    "            # setting initialization matrix\n",
    "            if self.init_method == \"rand\":\n",
    "                sk = SinkhornKnopp()\n",
    "                K = np.random.rand(\n",
    "                    n_unseed, n_unseed\n",
    "                )  # generate a nxn matrix where each entry is a random integer [0,1]\n",
    "                for i in range(10):  # perform 10 iterations of Sinkhorn balancing\n",
    "                    K = sk.fit(K)\n",
    "                J = np.ones((n_unseed, n_unseed)) / float(\n",
    "                    n_unseed\n",
    "                )  # initialize J, a doubly stochastic barycenter\n",
    "                P = (K + J) / 2\n",
    "            elif self.init_method == \"barycenter\":\n",
    "                P = np.ones((n_unseed, n_unseed)) / float(n_unseed)\n",
    "            elif self.init_method == \"convex\":\n",
    "                P = self.convex_approx(A,B,seeds_A,seeds_B)\n",
    "                #cols = [5,8,4,10,3,0,2,6,11,9,1,7]\n",
    "                #P = np.zeros((n_unseed,n_unseed))\n",
    "                #P[np.arange(n_unseed), cols] = 1\n",
    "            elif self.init_method == \"umey\":\n",
    "                P = self.umey(A,B)\n",
    "\n",
    "            const_sum = A21 @ np.transpose(B21) + np.transpose(A12) @ B12\n",
    "            grad_P = math.inf  # gradient of P\n",
    "            n_iter = 0  # number of FW iterations\n",
    "\n",
    "            # OPTIMIZATION WHILE LOOP BEGINS\n",
    "            while grad_P > self.eps and n_iter < self.max_iter:\n",
    "\n",
    "                delta_f = (\n",
    "                    const_sum + A22 @ P @ B22T + A22T @ P @ B22\n",
    "                )  # computing the gradient of f(P) = -tr(APB^tP^t)\n",
    "                rows, cols = linear_sum_assignment(\n",
    "                    obj_func_scalar * delta_f\n",
    "                )  # run hungarian algorithm on gradient(f(P))\n",
    "                Q = np.zeros((n_unseed, n_unseed))\n",
    "                Q[rows, cols] = 1  # initialize search direction matrix Q\n",
    "\n",
    "                def f(x):  # computing the original optimization function\n",
    "                    return obj_func_scalar * (\n",
    "                        np.trace(A11T @ B11)\n",
    "                        + np.trace(np.transpose(x * P + (1 - x) * Q) @ A21 @ B21T)\n",
    "                        + np.trace(np.transpose(x * P + (1 - x) * Q) @ A12T @ B12)\n",
    "                        + np.trace(\n",
    "                            A22T\n",
    "                            @ (x * P + (1 - x) * Q)\n",
    "                            @ B22\n",
    "                            @ np.transpose(x * P + (1 - x) * Q)\n",
    "                        )\n",
    "                    )\n",
    "\n",
    "                alpha = minimize_scalar(\n",
    "                    f, bounds=(0, 1), method=\"bounded\"\n",
    "                ).x  # computing the step size\n",
    "                P_i1 = alpha * P + (1 - alpha) * Q  # Update P\n",
    "                grad_P = np.linalg.norm(P - P_i1)\n",
    "                P = P_i1\n",
    "                n_iter += 1\n",
    "            # end of FW optimization loop\n",
    "\n",
    "            row, col = linear_sum_assignment(\n",
    "                -P\n",
    "            )  # Project onto the set of permutation matrices\n",
    "            perm_inds_new = np.concatenate(\n",
    "                (np.arange(n_seeds), np.array([x + n_seeds for x in col]))\n",
    "            )\n",
    "\n",
    "            score_new = np.trace(\n",
    "                np.transpose(A) @ B[np.ix_(perm_inds_new, perm_inds_new)]\n",
    "            )  # computing objective function value\n",
    "\n",
    "            if obj_func_scalar * score_new < obj_func_scalar * score:  # minimizing\n",
    "                score = score_new\n",
    "                perm_inds = np.zeros(n, dtype=int)\n",
    "                perm_inds[permutation_A] = permutation_B[perm_inds_new]\n",
    "\n",
    "        permutation_A_unshuffle = _unshuffle(permutation_A, n)\n",
    "        A = A[np.ix_(permutation_A_unshuffle, permutation_A_unshuffle)]\n",
    "        permutation_B_unshuffle = _unshuffle(permutation_B, n)\n",
    "        B = B[np.ix_(permutation_B_unshuffle, permutation_B_unshuffle)]\n",
    "        score = np.trace(np.transpose(A) @ B[np.ix_(perm_inds, perm_inds)])\n",
    "\n",
    "        self.perm_inds_ = perm_inds  # permutation indices\n",
    "        self.score_ = score  # objective function value\n",
    "        return self\n",
    "\n",
    "    def fit_predict(self, A, B, seeds_A=[], seeds_B=[]):\n",
    "        \"\"\"\n",
    "        Fits the model with two assigned adjacency matrices, returning optimal\n",
    "        permutation indices\n",
    "\n",
    "        Parameters\n",
    "        ---------\n",
    "        A : 2d-array, square, positive\n",
    "            A square, positive adjacency matrix\n",
    "\n",
    "        B : 2d-array, square, positive\n",
    "            A square, positive adjacency matrix\n",
    "\n",
    "        seeds_A : 1d-array, shape (m , 1) where m <= number of nodes (default = [])\n",
    "            An array where each entry is an index of a node in `A`.\n",
    "\n",
    "        seeds_B : 1d-array, shape (m , 1) where m <= number of nodes (default = [])\n",
    "            An array where each entry is an index of a node in `B` The elements of\n",
    "            `seeds_A` and `seeds_B` are vertices which are known to be matched, that is,\n",
    "            `seeds_A[i]` is matched to vertex `seeds_B[i]`.\n",
    "\n",
    "        Returns\n",
    "        -------\n",
    "\n",
    "        self : returns an instance of self\n",
    "        \"\"\"\n",
    "        self.fit(A, B, seeds_A, seeds_B)\n",
    "        return self.perm_inds_\n",
    "    \n",
    "    def convex_approx(self, A, B, seeds_A=[], seeds_B=[]):\n",
    "        if not self.gmp:\n",
    "            A=-A\n",
    "        A = check_array(A, copy=True, ensure_2d=True)\n",
    "        B = check_array(B, copy=True, ensure_2d=True)\n",
    "        seeds_A = column_or_1d(seeds_A)\n",
    "        seeds_B = column_or_1d(seeds_B)\n",
    "        \n",
    "        n = A.shape[0]  # number of vertices in graphs\n",
    "        n_seeds = seeds_A.shape[0]  # number of seeds\n",
    "        n_unseed = n - n_seeds\n",
    "\n",
    "        obj_func_scalar = 1\n",
    "        #if self.gmp:\n",
    "            #obj_func_scalar = -1\n",
    "\n",
    "        A12 = A[:n_seeds, n_seeds:]\n",
    "        A21 = A[n_seeds:, :n_seeds]\n",
    "        A22 = A[n_seeds:, n_seeds:]\n",
    "\n",
    "        B12 = B[:n_seeds, n_seeds:]\n",
    "        B21 = B[n_seeds:, :n_seeds]\n",
    "        B22 = B[n_seeds:, n_seeds:]\n",
    "        \n",
    "        AtA = np.transpose(np.concatenate((A12,A22),axis=0)) @ np.concatenate((A12,A22),axis=0)\n",
    "        BBt = np.concatenate((B21,B22),axis=1) @ np.transpose(np.concatenate((B21,B22),axis=1))\n",
    "\n",
    "        AB21_12 = A21 @ np.transpose(B21) + np.transpose(A12) @ B12\n",
    "        P = np.ones((n_unseed, n_unseed)) / float(n_unseed)\n",
    "        \n",
    "        grad_P = math.inf  # gradient of P\n",
    "        n_iter = 0\n",
    "            \n",
    "        #while grad_P > self.eps and n_iter < self.max_iter:\n",
    "        while n_iter<100:\n",
    "            delta_f = (AtA @ P + P @ BBt - AB21_12 - np.transpose(A22) @ P @ B22 - A22 @ P @ B22) #if janky check this\n",
    "            rows, cols = linear_sum_assignment(-obj_func_scalar * delta_f)\n",
    "\n",
    "            Q = np.zeros((n_unseed, n_unseed))\n",
    "            Q[rows, cols] = 1 \n",
    "\n",
    "            C22 = (A22 @ (P-Q)) - ((P-Q) @ B22)\n",
    "            D22 = (A22 @ Q) - (Q @ B22)\n",
    "\n",
    "            if (n_seeds > 0):\n",
    "                C21 = -(P-Q) @ B21\n",
    "                C12 = A12 @ (P-Q)\n",
    "\n",
    "                D21 = A21 - Q @ B21\n",
    "                D12 = A12 @ Q - B12\n",
    "            else:\n",
    "                C21, C12, D21, D12 = 0,0,0,0\n",
    "\n",
    "            aq = np.sum(np.multiply(C22,C22)) + np.sum(np.multiply(C21,C21)) + np.sum(np.multiply(C12,C12)) #if janky check this\n",
    "            bq = np.sum(np.multiply(C22, D22)) + np.sum(np.multiply(C21, D21)) + np.sum(np.multiply(C12, D12))\n",
    "            \n",
    "\n",
    "            if aq == 0:\n",
    "                alpha = 0\n",
    "            else:\n",
    "                alpha = -bq/aq\n",
    "\n",
    "            P_i1 = alpha*P + (1-alpha)*Q\n",
    "            f_new = np.sum(np.multiply(A22 @ P_i1 - P_i1 @ B22,A22 @ P_i1 - P_i1 @ B22))\n",
    "            grad_P = np.linalg.norm(P - P_i1)\n",
    "            P = P_i1\n",
    "            n_iter += 1\n",
    "\n",
    "        row, col = linear_sum_assignment(-P)\n",
    "        P_f = np.zeros((n_unseed, n_unseed))\n",
    "        P_f[rows, cols] = 1 \n",
    "        return P\n",
    "\n",
    "    def umey(self,A,B):\n",
    "\n",
    "        if (A != A.T).any() or (B != B.T).any():\n",
    "            A = (A + A.T) / 2 + 1j * (A - A.T) / 2\n",
    "            B = (B + B.T) / 2 + 1j * (B - B.T) / 2\n",
    "\n",
    "        va = np.linalg.eigh(A)[1]\n",
    "        vb = np.linalg.eigh(B)[1]\n",
    "        W = np.abs(vb) @ np.abs(va).T\n",
    "        rows,cols = linear_sum_assignment(W, maximize=self.gmp)\n",
    "        P = np.zeros((n, n))\n",
    "        P[rows, cols] = 1\n",
    "        return P\n",
    "\n",
    "def _unshuffle(array, n):\n",
    "    unshuffle = np.array(range(n))\n",
    "    unshuffle[array] = np.array(range(n))\n",
    "    return unshuffle\n",
    "\n",
    "\n",
    "\n",
    "    \n",
    "     "
   ]
  },
  {
   "cell_type": "code",
   "execution_count": 221,
   "metadata": {},
   "outputs": [],
   "source": [
    "#convex approx function\n",
    "def convex_approx(self, A, B, seeds_A=[], seeds_B=[]):\n",
    "    if not self.gmp:\n",
    "        A=-A\n",
    "    A = check_array(A, copy=True, ensure_2d=True)\n",
    "    B = check_array(B, copy=True, ensure_2d=True)\n",
    "    seeds_A = column_or_1d(seeds_A)\n",
    "    seeds_B = column_or_1d(seeds_B)\n",
    "\n",
    "    n = A.shape[0]  # number of vertices in graphs\n",
    "    n_seeds = seeds_A.shape[0]  # number of seeds\n",
    "    n_unseed = n - n_seeds\n",
    "\n",
    "    obj_func_scalar = 1\n",
    "    #if self.gmp:\n",
    "        #obj_func_scalar = -1\n",
    "\n",
    "    A12 = A[:n_seeds, n_seeds:]\n",
    "    A21 = A[n_seeds:, :n_seeds]\n",
    "    A22 = A[n_seeds:, n_seeds:]\n",
    "\n",
    "    B12 = B[:n_seeds, n_seeds:]\n",
    "    B21 = B[n_seeds:, :n_seeds]\n",
    "    B22 = B[n_seeds:, n_seeds:]\n",
    "\n",
    "    AtA = np.transpose(np.concatenate((A12,A22),axis=0)) @ np.concatenate((A12,A22),axis=0)\n",
    "    BBt = np.concatenate((B21,B22),axis=1) @ np.transpose(np.concatenate((B21,B22),axis=1))\n",
    "\n",
    "    AB21_12 = A21 @ np.transpose(B21) + np.transpose(A12) @ B12\n",
    "    P = np.ones((n_unseed, n_unseed)) / float(n_unseed)\n",
    "\n",
    "    grad_P = math.inf  # gradient of P\n",
    "    n_iter = 0\n",
    "\n",
    "    #while grad_P > self.eps and n_iter < self.max_iter:\n",
    "    while n_iter<100:\n",
    "        delta_f = (AtA @ P + P @ BBt - AB21_12 - np.transpose(A22) @ P @ B22 - A22 @ P @ B22) #if janky check this\n",
    "        rows, cols = linear_sum_assignment(-obj_func_scalar * delta_f)\n",
    "\n",
    "        Q = np.zeros((n_unseed, n_unseed))\n",
    "        Q[rows, cols] = 1 \n",
    "\n",
    "        C22 = (A22 @ (P-Q)) - ((P-Q) @ B22)\n",
    "        D22 = (A22 @ Q) - (Q @ B22)\n",
    "\n",
    "        if (n_seeds > 0):\n",
    "            C21 = -(P-Q) @ B21\n",
    "            C12 = A12 @ (P-Q)\n",
    "\n",
    "            D21 = A21 - Q @ B21\n",
    "            D12 = A12 @ Q - B12\n",
    "        else:\n",
    "            C21, C12, D21, D12 = 0,0,0,0\n",
    "\n",
    "        aq = np.sum(np.multiply(C22,C22)) + np.sum(np.multiply(C21,C21)) + np.sum(np.multiply(C12,C12)) #if janky check this\n",
    "        bq = np.sum(np.multiply(C22, D22)) + np.sum(np.multiply(C21, D21)) + np.sum(np.multiply(C12, D12))\n",
    "\n",
    "\n",
    "        if aq == 0:\n",
    "            alpha = 0\n",
    "        else:\n",
    "            alpha = -bq/aq\n",
    "\n",
    "        P_i1 = alpha*P + (1-alpha)*Q\n",
    "        f_new = np.sum(np.multiply(A22 @ P_i1 - P_i1 @ B22,A22 @ P_i1 - P_i1 @ B22))\n",
    "        grad_P = np.linalg.norm(P - P_i1)\n",
    "        P = P_i1\n",
    "        n_iter += 1\n",
    "\n",
    "    row, col = linear_sum_assignment(-P)\n",
    "    P_f = np.zeros((n_unseed, n_unseed))\n",
    "    P_f[rows, cols] = 1 \n",
    "    return P\n"
   ]
  },
  {
   "cell_type": "code",
   "execution_count": 257,
   "metadata": {},
   "outputs": [
    {
     "name": "stdout",
     "output_type": "stream",
     "text": [
      "34834\n",
      "34834\n",
      "31140\n"
     ]
    }
   ],
   "source": [
    "# umeyama function\n",
    "def umey(A,B):\n",
    "        n = A.shape[0]\n",
    "        def eigenvectors(x):\n",
    "            # get eigenvectors sorted by eigenvalue magnitude (large to small)\n",
    "            l, v = np.linalg.eig(x)\n",
    "            indices = np.argsort(l, kind='merge')[::-1]\n",
    "            return v[:, indices]\n",
    "\n",
    "        cost_matrix = np.abs(eigenvectors(B)) @ np.abs(eigenvectors(A)).T\n",
    "\n",
    "        rows, cols = linear_sum_assignment(cost_matrix)\n",
    "        P = np.zeros((n, n))\n",
    "        P[rows, cols] = 1\n",
    "        return cols\n",
    "def umey2(A,B):\n",
    "    if (A != A.T).any() or (B != B.T).any():\n",
    "        A = (A + A.T) / 2 + 1j * (A - A.T) / 2\n",
    "        B = (B + B.T) / 2 + 1j * (B - B.T) / 2\n",
    "\n",
    "    va = np.linalg.eigh(A)[1]\n",
    "    vb = np.linalg.eigh(B)[1]\n",
    "    W = np.abs(vb) @ np.abs(va).T\n",
    "    _, col_ind = linear_sum_assignment(W)\n",
    "    \n",
    "    return cols\n",
    "\n",
    "A, B = _get_AB(\"lipa20b\")\n",
    "n = A.shape[0]\n",
    "cols = umey(A,B)\n",
    "score = np.trace(A.T @ B[np.ix_(cols, cols)])\n",
    "print(score)\n",
    "\n",
    "cols = umey2(A,B)\n",
    "score = np.trace(A.T @ B[np.ix_(cols, cols)])\n",
    "print(score)\n",
    "\n",
    "umeyama = GraphMatch(gmp = False, init_method = 'umey')\n",
    "print(umeyama.fit(A,B).score_)"
   ]
  },
  {
   "cell_type": "code",
   "execution_count": 258,
   "metadata": {},
   "outputs": [],
   "source": [
    "def _get_AB(qap_prob):\n",
    "    with open(\"qapdata/\" + qap_prob + \".dat\") as f:\n",
    "        f = [int(elem) for elem in f.read().split()]\n",
    "\n",
    "        # adjusting\n",
    "        f = np.array(f[1:])\n",
    "        n = int(math.sqrt(len(f) / 2))\n",
    "        f = f.reshape(2 * n, n)\n",
    "        A = f[:n, :]\n",
    "        B = f[n:, :]\n",
    "        return A, B\n",
    "    \n",
    "bary = GraphMatch(gmp=False)\n",
    "convex = GraphMatch(gmp=False, init_method=\"convex\")\n",
    "umeyama = GraphMatch(gmp = False, init_method = 'umey')"
   ]
  },
  {
   "cell_type": "code",
   "execution_count": 259,
   "metadata": {},
   "outputs": [
    {
     "name": "stdout",
     "output_type": "stream",
     "text": [
      "[1.364000e+04 1.531400e+04 2.073000e+04 4.042000e+03 8.148000e+03\n",
      " 3.200000e+02 2.434980e+05 3.602440e+05 7.737580e+05 2.244160e+05\n",
      " 4.169160e+05 5.154360e+05 7.257500e+05 1.899676e+06 2.471318e+06\n",
      " 3.287342e+06]\n",
      "[1.307200e+04 1.985200e+04 1.193600e+04 2.826000e+03 8.828000e+03\n",
      " 3.100000e+02 2.451680e+05 3.714580e+05 7.438840e+05 2.446720e+05\n",
      " 3.973760e+05 5.291340e+05 7.361400e+05 1.894640e+06 2.460940e+06\n",
      " 3.225948e+06]\n",
      "[2.028200e+04 2.176400e+04 2.475600e+04 2.922000e+03 7.840000e+03\n",
      " 2.940000e+02 2.588220e+05 3.729620e+05 7.620300e+05 2.395920e+05\n",
      " 4.124440e+05 5.134320e+05 7.381380e+05 1.887068e+06 2.488510e+06\n",
      " 3.274602e+06]\n"
     ]
    }
   ],
   "source": [
    "# \n",
    "qapprob = [\"chr12c\",\"chr15a\",\"chr15c\",\"chr20b\",\"chr22b\",\"esc16b\",\n",
    "          \"rou12\",\"rou15\",\"rou20\",\"tai12a\",\"tai15a\",\"tai17a\",\"tai20a\",\n",
    "          \"tai30a\",\"tai35a\",\"tai40a\"]\n",
    "n_qap = len(qapprob)\n",
    "convex_scores = np.zeros(n_qap)\n",
    "bari_scores = np.zeros(n_qap)\n",
    "umey_scores = np.zeros(n_qap)\n",
    "den = 1\n",
    "for i in range(n_qap):\n",
    "    c_min = [0]*den\n",
    "    b_min = [0]*den\n",
    "    u_min = [0]*den\n",
    "    for k in range(den):\n",
    "        A, B = _get_AB(qapprob[i])\n",
    "        n = A.shape[0]\n",
    "        score = convex.fit(A,B).score_\n",
    "        c_min[k] = score\n",
    "\n",
    "        score = bary.fit(A,B).score_\n",
    "        b_min[k] = score\n",
    "        \n",
    "        score = umeyama.fit(A,B).score_\n",
    "        u_min[k] = score\n",
    "        \n",
    "    convex_scores[i] = min(c_min)\n",
    "    bari_scores[i] = min(b_min)\n",
    "    umey_scores[i] = min(u_min)\n",
    "\n",
    "print(convex_scores)\n",
    "print(bari_scores)\n",
    "print(umey_scores)\n",
    "#print(P)"
   ]
  },
  {
   "cell_type": "code",
   "execution_count": 260,
   "metadata": {},
   "outputs": [
    {
     "name": "stdout",
     "output_type": "stream",
     "text": [
      "       QAP      OPT  Bary Init  Umeyama  Convex Init\n",
      "0   chr12c    11156      13072    20282        13640\n",
      "1   chr15a     9896      19852    21764        15314\n",
      "2   chr15c     9504      11936    24756        20730\n",
      "3   chr20b     2298       2826     2922         4042\n",
      "4   chr22b     6194       8828     7840         8148\n",
      "5   esc16b      292        310      294          320\n",
      "6    rou12   235528     245168   258822       243498\n",
      "7    rou15   354210     371458   372962       360244\n",
      "8    rou20   725522     743884   762030       773758\n",
      "9   tai12a   224416     244672   239592       224416\n",
      "10  tai15a   388214     397376   412444       416916\n",
      "11  tai17a   491812     529134   513432       515436\n",
      "12  tai20a   703482     736140   738138       725750\n",
      "13  tai30a  1818146    1894640  1887068      1899676\n",
      "14  tai35a  2422002    2460940  2488510      2471318\n",
      "15  tai40a  3139370    3225948  3274602      3287342\n"
     ]
    }
   ],
   "source": [
    "import pandas as pd\n",
    "slnfile = np.load(\"qap_sols.npz\", allow_pickle=True)\n",
    "opt = [slnfile[i] for i in qapprob]\n",
    "mat = np.zeros((n_qap,4))\n",
    "mat[:,0] = opt\n",
    "mat[:,1] = bari_scores\n",
    "mat[:,2] = umey_scores\n",
    "mat[:,3] = convex_scores\n",
    "mat = mat.astype(int)\n",
    "df = pd.DataFrame(mat,columns=[\"OPT\",\"Bary Init\", \"Umeyama\", \"Convex Init\"])\n",
    "df.insert(0,\"QAP\",qapprob,True)\n",
    "print(df)"
   ]
  },
  {
   "cell_type": "code",
   "execution_count": 265,
   "metadata": {},
   "outputs": [
    {
     "name": "stdout",
     "output_type": "stream",
     "text": [
      "Populating the interactive namespace from numpy and matplotlib\n"
     ]
    },
    {
     "name": "stderr",
     "output_type": "stream",
     "text": [
      "/Users/asaadeldin/anaconda3/lib/python3.7/site-packages/IPython/core/magics/pylab.py:160: UserWarning: pylab import has clobbered these variables: ['mat']\n",
      "`%matplotlib` prevents importing * from pylab and numpy\n",
      "  \"\\n`%matplotlib` prevents importing * from pylab and numpy\"\n"
     ]
    }
   ],
   "source": [
    "# box plot for percent diff from optimum\n",
    "%pylab inline\n",
    "\n",
    "qapprob = [\"bur26a\", \"bur26b\", \"bur26c\", \"bur26d\", \"bur26e\", \"bur26f\",\n",
    "              \"bur26g\", \"bur26h\", \"chr12a\", \"chr12b\", \"chr12c\", \"chr15a\",\n",
    "              \"chr15b\", \"chr15c\", \"chr18a\", \"chr18b\", \"chr20a\", \"chr20b\",\n",
    "              \"chr20c\", \"chr22a\", \"chr22b\", \"chr25a\",\n",
    "              \"els19\",\n",
    "              \"esc16a\", \"esc16b\", \"esc16c\", \"esc16d\", \"esc16e\", \"esc16g\",\n",
    "              \"esc16h\", \"esc16i\", \"esc16j\", \"esc32e\", \"esc32g\", \"esc128\",\n",
    "              \"had12\", \"had14\", \"had16\", \"had18\", \"had20\", \"kra30a\",\n",
    "              \"kra30b\", \"kra32\",\n",
    "              \"lipa20a\", \"lipa20b\", \"lipa30a\", \"lipa30b\", \"lipa40a\", \"lipa40b\",\n",
    "              \"lipa50a\", \"lipa50b\", \"lipa60a\", \"lipa60b\", \"lipa70a\", \"lipa70b\",\n",
    "              \"lipa80a\", \"lipa90a\", \"lipa90b\",\n",
    "              \"nug12\", \"nug14\", \"nug16a\", \"nug16b\", \"nug17\", \"nug18\", \"nug20\",\n",
    "              \"nug21\", \"nug22\", \"nug24\", \"nug25\", \"nug27\", \"nug28\", \"nug30\",\n",
    "              \"rou12\", \"rou15\", \"rou20\",\n",
    "              \"scr12\", \"scr15\", \"scr20\",\n",
    "              \"sko42\", \"sko49\", \"sko56\", \"sko64\", \"sko72\", \"sko81\", \"sko90\",\n",
    "              \"sko100a\", \"sko100b\", \"sko100c\", \"sko100d\", \"sko100e\", \"sko100f\",\n",
    "              \"ste36b\", \"ste36c\",\n",
    "              \"tai12a\", \"tai12b\", \"tai15a\", \"tai15b\", \"tai17a\", \"tai20a\",\n",
    "              \"tai20b\", \"tai25a\", \"tai25b\", \"tai30a\", \"tai30b\", \"tai35a\",\n",
    "              \"tai40a\", \"tai40b\", \"tai50a\", \"tai50b\", \"tai60a\", \"tai60b\",\n",
    "              \"tai64c\", \"tai80a\", \"tai100a\", \"tai100b\", \"tai150b\", \"tai256c\",\n",
    "              \"tho30\", \"tho40\", \"tho150\", \"wil50\", \"wil100\"]\n",
    "#qapprob=qapprob[43:58]\n",
    "slnfile = np.load(\"qap_sols.npz\",allow_pickle=True)\n",
    "datafile = np.load(\"qap_probs.npz\",allow_pickle=True)\n",
    "n_qap = len(qapprob)\n",
    "convex_scores = np.zeros(n_qap)\n",
    "bari_scores = np.zeros(n_qap)\n",
    "umey_scores = np.zeros(n_qap)\n",
    "den = 1\n",
    "for i in range(n_qap):\n",
    "    for k in range(den):\n",
    "        A = datafile[qapprob[i]][0]\n",
    "        B = datafile[qapprob[i]][1]\n",
    "        n = A.shape[0]\n",
    "        score = convex.fit(A,B).score_\n",
    "        c_min = score\n",
    "\n",
    "        score = bary.fit(A,B).score_\n",
    "        b_min = score\n",
    "        \n",
    "        score = umeyama.fit(A,B).score_\n",
    "        u_min = score\n",
    "        \n",
    "    convex_scores[i] = c_min\n",
    "    bari_scores[i] = b_min\n",
    "    umey_scores[i] = u_min\n",
    "\n"
   ]
  },
  {
   "cell_type": "code",
   "execution_count": 266,
   "metadata": {},
   "outputs": [
    {
     "data": {
      "text/plain": [
       "Text(0, 0.5, 'Percent Diff from the Optimum')"
      ]
     },
     "execution_count": 266,
     "metadata": {},
     "output_type": "execute_result"
    },
    {
     "data": {
      "image/png": "[encoded data removed]",
      "text/plain": [
       "<Figure size 432x288 with 1 Axes>"
      ]
     },
     "metadata": {
      "needs_background": "light"
     },
     "output_type": "display_data"
    }
   ],
   "source": [
    "opt = [slnfile[i] for i in qapprob]\n",
    "mat = np.zeros((n_qap,3))\n",
    "mat[:,0] = (bari_scores-opt)/opt\n",
    "mat[:,1] = (convex_scores-opt)/opt\n",
    "mat[:,2] = (umey_scores-opt)/opt\n",
    "fig, ax = plt.subplots()\n",
    "ax.set_title('Performance on QAPLIB library with different Inits')\n",
    "ax.boxplot(mat, showfliers=False, labels = ['barycenter', 'convex', 'umeyama'], showmeans=True)\n",
    "ylabel('Percent Diff from the Optimum')\n"
   ]
  },
  {
   "cell_type": "code",
   "execution_count": 85,
   "metadata": {},
   "outputs": [
    {
     "name": "stdout",
     "output_type": "stream",
     "text": [
      "        QAP       OPT  Bary Init   Umeyama  Convex Init\n",
      "0   lipa20a      3683       3805      3810         3825\n",
      "1   lipa20b     27076      27076     31485        31551\n",
      "2   lipa30a     13178      13519     13529        13558\n",
      "3   lipa30b    151426     151426    176547       151426\n",
      "4   lipa40a     31538      32208     32242        32150\n",
      "5   lipa40b    476581     476581    476581       476581\n",
      "6   lipa50a     62093      63082     63148        63074\n",
      "7   lipa50b   1210244    1210244   1431540      1431696\n",
      "8   lipa60a    107218     108569    108754       108562\n",
      "9   lipa60b   2520135    2520135   2999987      3008311\n",
      "10  lipa70a    169755     171851    171817       171621\n",
      "11  lipa70b   4603200    4603200   5492716      4603200\n",
      "12  lipa80a    253195     255883    255737       256110\n",
      "13  lipa90a    360630     363996    364412       364114\n",
      "14  lipa90b  12490441   12490441  15082180     12490441\n"
     ]
    }
   ],
   "source": [
    "import pandas as pd\n",
    "slnfile = np.load(\"qap_sols.npz\", allow_pickle=True)\n",
    "opt = [slnfile[i] for i in qapprob]\n",
    "mat = np.zeros((n_qap,4))\n",
    "mat[:,0] = opt\n",
    "mat[:,1] = bari_scores\n",
    "mat[:,2] = umey_scores\n",
    "mat[:,3] = convex_scores\n",
    "mat = mat.astype(int)\n",
    "df = pd.DataFrame(mat,columns=[\"OPT\",\"Bary Init\", \"Umeyama\", \"Convex Init\"])\n",
    "df.insert(0,\"QAP\",qapprob,True)\n",
    "print(df)"
   ]
  },
  {
   "cell_type": "code",
   "execution_count": 414,
   "metadata": {},
   "outputs": [
    {
     "name": "stdout",
     "output_type": "stream",
     "text": [
      "[False  True False  True  True  True  True False False False  True False\n",
      " False  True False]\n"
     ]
    },
    {
     "data": {
      "text/plain": [
       "[<matplotlib.lines.Line2D at 0x1a266bb320>]"
      ]
     },
     "execution_count": 414,
     "metadata": {},
     "output_type": "execute_result"
    },
    {
     "data": {
      "image/png": "[encoded data removed]",
      "text/plain": [
       "<Figure size 432x288 with 1 Axes>"
      ]
     },
     "metadata": {
      "needs_background": "light"
     },
     "output_type": "display_data"
    }
   ],
   "source": [
    "print(convex_scores < bari_scores)\n",
    "import matplotlib.pyplot as plt\n",
    "plt.plot(convex_scores-bari_scores,\"ro\")"
   ]
  },
  {
   "cell_type": "code",
   "execution_count": 209,
   "metadata": {},
   "outputs": [
    {
     "name": "stdout",
     "output_type": "stream",
     "text": [
      "0.033333333333333326\n"
     ]
    }
   ],
   "source": [
    "import numpy as np\n",
    "import matplotlib.pyplot as plt\n",
    "import random\n",
    "import sys\n",
    "from joblib import Parallel, delayed\n",
    "\n",
    "sys.path\n",
    "sys.path.insert(0, \"/Users/asaadeldin/Downloads/GitHub/graspy\")\n",
    "\n",
    "from graspy.simulations import sample_edges_corr\n",
    "\n",
    "def match_ratio(v, w):\n",
    "    return 1 - (np.count_nonzero(abs(v - w)) / n_vert)\n",
    "\n",
    "n_vert = 150\n",
    "lambd = np.random.uniform(.1,.9, (n_vert,n_vert))\n",
    "rho = 0.9\n",
    "A,B = sample_edges_corr(lambd, rho*np.ones((n_vert,n_vert)))\n",
    "\n",
    "node_shuffle_input = np.random.permutation(n_vert)\n",
    "A_shuffle = A[np.ix_(node_shuffle_input, node_shuffle_input)]\n",
    "node_unshuffle_input = np.array(range(n_vert))\n",
    "node_unshuffle_input[node_shuffle_input] = np.array(range(n_vert))\n",
    "convex = GraphMatch()\n",
    "convex = convex.fit(A_shuffle,B)\n",
    "\n",
    "print(match_ratio(convex.perm_inds_,node_shuffle_input))\n",
    "\n"
   ]
  },
  {
   "cell_type": "code",
   "execution_count": 210,
   "metadata": {},
   "outputs": [
    {
     "name": "stdout",
     "output_type": "stream",
     "text": [
      "0.040000000000000036\n"
     ]
    }
   ],
   "source": [
    "rho = .95\n",
    "n_vert = 100\n",
    "lambd = np.random.uniform(.1,.9, (n_vert,n_vert))\n",
    "A,B = sample_edges_corr(lambd, rho*np.ones((n_vert,n_vert)))\n",
    "node_shuffle_input = np.random.permutation(n_vert)\n",
    "B_shuffle = B[np.ix_(node_shuffle_input, node_shuffle_input)]\n",
    "node_unshuffle_input = np.array(range(n_vert))\n",
    "node_unshuffle_input[node_shuffle_input] = np.arange(n_vert)\n",
    "\n",
    "convex = GraphMatch(init_method = \"convex\")\n",
    "convex = convex.fit(A,B_shuffle)\n",
    "print(match_ratio(convex.perm_inds_,node_unshuffle_input))"
   ]
  },
  {
   "cell_type": "code",
   "execution_count": 211,
   "metadata": {},
   "outputs": [
    {
     "ename": "ValueError",
     "evalue": "shape mismatch: value array of shape (16,) could not be broadcast to indexing result of shape (100,)",
     "output_type": "error",
     "traceback": [
      "\u001b[0;31m---------------------------------------------------------------------------\u001b[0m",
      "\u001b[0;31mValueError\u001b[0m                                Traceback (most recent call last)",
      "\u001b[0;32m<ipython-input-211-0d316b63f2e0>\u001b[0m in \u001b[0;36m<module>\u001b[0;34m\u001b[0m\n\u001b[1;32m     11\u001b[0m         \u001b[0mB_shuffle\u001b[0m \u001b[0;34m=\u001b[0m \u001b[0mB\u001b[0m\u001b[0;34m[\u001b[0m\u001b[0mnp\u001b[0m\u001b[0;34m.\u001b[0m\u001b[0mix_\u001b[0m\u001b[0;34m(\u001b[0m\u001b[0mnode_shuffle_input\u001b[0m\u001b[0;34m,\u001b[0m \u001b[0mnode_shuffle_input\u001b[0m\u001b[0;34m)\u001b[0m\u001b[0;34m]\u001b[0m\u001b[0;34m\u001b[0m\u001b[0;34m\u001b[0m\u001b[0m\n\u001b[1;32m     12\u001b[0m         \u001b[0mnode_unshuffle_input\u001b[0m \u001b[0;34m=\u001b[0m \u001b[0mnp\u001b[0m\u001b[0;34m.\u001b[0m\u001b[0marray\u001b[0m\u001b[0;34m(\u001b[0m\u001b[0mrange\u001b[0m\u001b[0;34m(\u001b[0m\u001b[0mn\u001b[0m\u001b[0;34m)\u001b[0m\u001b[0;34m)\u001b[0m\u001b[0;34m\u001b[0m\u001b[0;34m\u001b[0m\u001b[0m\n\u001b[0;32m---> 13\u001b[0;31m         \u001b[0mnode_unshuffle_input\u001b[0m\u001b[0;34m[\u001b[0m\u001b[0mnode_shuffle_input\u001b[0m\u001b[0;34m]\u001b[0m \u001b[0;34m=\u001b[0m \u001b[0mnp\u001b[0m\u001b[0;34m.\u001b[0m\u001b[0marray\u001b[0m\u001b[0;34m(\u001b[0m\u001b[0mrange\u001b[0m\u001b[0;34m(\u001b[0m\u001b[0mn\u001b[0m\u001b[0;34m)\u001b[0m\u001b[0;34m)\u001b[0m\u001b[0;34m\u001b[0m\u001b[0;34m\u001b[0m\u001b[0m\n\u001b[0m\u001b[1;32m     14\u001b[0m \u001b[0;34m\u001b[0m\u001b[0m\n\u001b[1;32m     15\u001b[0m         \u001b[0mconvex\u001b[0m \u001b[0;34m=\u001b[0m \u001b[0mGraphMatch\u001b[0m\u001b[0;34m(\u001b[0m\u001b[0;34m)\u001b[0m\u001b[0;34m\u001b[0m\u001b[0;34m\u001b[0m\u001b[0m\n",
      "\u001b[0;31mValueError\u001b[0m: shape mismatch: value array of shape (16,) could not be broadcast to indexing result of shape (100,)"
     ]
    }
   ],
   "source": [
    "rhos = np.arange(0.85,1,.01)\n",
    "n = rhos.shape[0]\n",
    "lambd = np.random.uniform(.1,.9, (n_vert,n_vert))\n",
    "ratios = np.zeros(n)\n",
    "for i in range(n):\n",
    "    s = 0\n",
    "    for x in range(10):\n",
    "        rho = rhos[i]\n",
    "        A,B = sample_edges_corr(lambd, rho*np.ones((n_vert,n_vert)))\n",
    "        node_shuffle_input = np.random.permutation(n_vert)\n",
    "        B_shuffle = B[np.ix_(node_shuffle_input, node_shuffle_input)]\n",
    "        node_unshuffle_input = np.array(range(n))\n",
    "        node_unshuffle_input[node_shuffle_input] = np.array(range(n))\n",
    "        \n",
    "        convex = GraphMatch()\n",
    "        convex = convex.fit(A_shuffle,B)\n",
    "        s+= match_ratio(convex.perm_inds_,node_unshuffle_input)\n",
    "    ratios[i] = s/10\n",
    "plt.plot(rhos,ratios)\n",
    "xlabel('rho')\n",
    "ylabel('match ratio')\n",
    "title('Barycenter')\n",
    "\n"
   ]
  },
  {
   "cell_type": "code",
   "execution_count": 216,
   "metadata": {},
   "outputs": [
    {
     "data": {
      "text/plain": [
       "Text(0.5, 1.0, 'Barycenter')"
      ]
     },
     "execution_count": 216,
     "metadata": {},
     "output_type": "execute_result"
    },
    {
     "data": {
      "image/png": "[encoded data removed]",
      "text/plain": [
       "<Figure size 432x288 with 1 Axes>"
      ]
     },
     "metadata": {
      "needs_background": "light"
     },
     "output_type": "display_data"
    }
   ],
   "source": [
    "rhos = np.arange(0.85,1,.01)\n",
    "n = rhos.shape[0]\n",
    "lambd = np.random.uniform(.1,.9, (n_vert,n_vert))\n",
    "ratios = np.zeros(n)\n",
    "for i in range(n):\n",
    "    s = 0\n",
    "    for x in range(10):\n",
    "        rho = rhos[i]\n",
    "        A,B = sample_edges_corr(lambd, rho*np.ones((n_vert,n_vert)))\n",
    "        node_shuffle_input = np.random.permutation(n_vert)\n",
    "        A_shuffle = A[np.ix_(node_shuffle_input, node_shuffle_input)]\n",
    "        B_shuffle = B[np.ix_(node_shuffle_input, node_shuffle_input)]\n",
    "        node_unshuffle_input = np.argsort(node_shuffle_input)\n",
    "        \n",
    "        convex = GraphMatch()\n",
    "        convex = convex.fit(A_shuffle,B)\n",
    "        s+= match_ratio(convex.perm_inds_,node_shuffle_input)\n",
    "        \n",
    "    ratios[i] = s/10\n",
    "plt.plot(rhos,ratios)\n",
    "xlabel('rho')\n",
    "ylabel('match ratio')\n",
    "title('Barycenter')"
   ]
  },
  {
   "cell_type": "code",
   "execution_count": 218,
   "metadata": {},
   "outputs": [
    {
     "data": {
      "text/plain": [
       "Text(0.5, 1.0, 'Convex')"
      ]
     },
     "execution_count": 218,
     "metadata": {},
     "output_type": "execute_result"
    },
    {
     "data": {
      "image/png": "[encoded data removed]",
      "text/plain": [
       "<Figure size 432x288 with 1 Axes>"
      ]
     },
     "metadata": {
      "needs_background": "light"
     },
     "output_type": "display_data"
    }
   ],
   "source": [
    "rhos = np.arange(0.85,1,.01)\n",
    "n = rhos.shape[0]\n",
    "m = 10\n",
    "lambd = np.random.uniform(.1,.9, (n_vert,n_vert))\n",
    "ratios = np.zeros(n)\n",
    "for i in range(n):\n",
    "    s = 0\n",
    "    for x in range(m):\n",
    "        rho = rhos[i]\n",
    "        A,B = sample_edges_corr(lambd, rho*np.ones((n_vert,n_vert)))\n",
    "        node_shuffle_input = np.random.permutation(n_vert)\n",
    "        A_shuffle = A[np.ix_(node_shuffle_input, node_shuffle_input)]\n",
    "        \n",
    "        convex = GraphMatch(init_method = \"convex\")\n",
    "        convex = convex.fit(A_shuffle,B)\n",
    "        s+= match_ratio(convex.perm_inds_,node_shuffle_input)\n",
    "    ratios[i] = s/m\n",
    "plt.plot(rhos,ratios)\n",
    "xlabel('rho')\n",
    "ylabel('match ratio')\n",
    "title('Convex')"
   ]
  },
  {
   "cell_type": "code",
   "execution_count": 16,
   "metadata": {},
   "outputs": [
    {
     "data": {
      "text/plain": [
       "[<matplotlib.lines.Line2D at 0x1a191ea4e0>]"
      ]
     },
     "execution_count": 16,
     "metadata": {},
     "output_type": "execute_result"
    },
    {
     "data": {
      "image/png": "[encoded data removed]",
      "text/plain": [
       "<Figure size 432x288 with 1 Axes>"
      ]
     },
     "metadata": {
      "needs_background": "light"
     },
     "output_type": "display_data"
    }
   ],
   "source": [
    "rhos = np.arange(0.85,1,.01)\n",
    "n = rhos.shape[0]\n",
    "lambd = np.random.uniform(.1,.9, (n_vert,n_vert))\n",
    "ratios = np.zeros(n)\n",
    "for i in range(n):\n",
    "    s = 0\n",
    "    for x in range(5):\n",
    "        rho = rhos[i]\n",
    "        A,B = sample_edges_corr(lambd, rho*np.ones((n_vert,n_vert)))\n",
    "        node_shuffle_input = np.random.permutation(n_vert)\n",
    "        A_shuffle = A[np.ix_(node_shuffle_input, node_shuffle_input)]\n",
    "        convex = GraphMatch(init_method = \"convex\")\n",
    "        convex = convex.fit(A_shuffle,B)\n",
    "        s+= match_ratio(convex.perm_inds_,node_shuffle_input)\n",
    "    ratios[i] = s/5\n",
    "plt.plot(rhos,ratios)"
   ]
  },
  {
   "cell_type": "code",
   "execution_count": 34,
   "metadata": {},
   "outputs": [
    {
     "ename": "KeyboardInterrupt",
     "evalue": "",
     "output_type": "error",
     "traceback": [
      "\u001b[0;31m---------------------------------------------------------------------------\u001b[0m",
      "\u001b[0;31mKeyboardInterrupt\u001b[0m                         Traceback (most recent call last)",
      "\u001b[0;32m<ipython-input-34-ac96b487f2e8>\u001b[0m in \u001b[0;36m<module>\u001b[0;34m\u001b[0m\n\u001b[1;32m     44\u001b[0m \u001b[0;34m\u001b[0m\u001b[0m\n\u001b[1;32m     45\u001b[0m         \u001b[0mbari_\u001b[0m \u001b[0;34m=\u001b[0m \u001b[0mbary\u001b[0m\u001b[0;34m.\u001b[0m\u001b[0mfit\u001b[0m\u001b[0;34m(\u001b[0m\u001b[0mA1\u001b[0m\u001b[0;34m,\u001b[0m\u001b[0mA2\u001b[0m\u001b[0;34m)\u001b[0m\u001b[0;34m\u001b[0m\u001b[0;34m\u001b[0m\u001b[0m\n\u001b[0;32m---> 46\u001b[0;31m         \u001b[0mconvex_\u001b[0m \u001b[0;34m=\u001b[0m \u001b[0mconvex\u001b[0m\u001b[0;34m.\u001b[0m\u001b[0mfit\u001b[0m\u001b[0;34m(\u001b[0m\u001b[0mA1\u001b[0m\u001b[0;34m,\u001b[0m\u001b[0mA2\u001b[0m\u001b[0;34m)\u001b[0m\u001b[0;34m\u001b[0m\u001b[0;34m\u001b[0m\u001b[0m\n\u001b[0m\u001b[1;32m     47\u001b[0m \u001b[0;34m\u001b[0m\u001b[0m\n\u001b[1;32m     48\u001b[0m         outs[i,:] = [match_ratio(bari_.perm_inds_, node_unshuffle_input), \n",
      "\u001b[0;32m<ipython-input-1-8ef5c5a43244>\u001b[0m in \u001b[0;36mfit\u001b[0;34m(self, A, B, seeds_A, seeds_B)\u001b[0m\n\u001b[1;32m    237\u001b[0m                 \u001b[0mP\u001b[0m \u001b[0;34m=\u001b[0m \u001b[0mnp\u001b[0m\u001b[0;34m.\u001b[0m\u001b[0mones\u001b[0m\u001b[0;34m(\u001b[0m\u001b[0;34m(\u001b[0m\u001b[0mn_unseed\u001b[0m\u001b[0;34m,\u001b[0m \u001b[0mn_unseed\u001b[0m\u001b[0;34m)\u001b[0m\u001b[0;34m)\u001b[0m \u001b[0;34m/\u001b[0m \u001b[0mfloat\u001b[0m\u001b[0;34m(\u001b[0m\u001b[0mn_unseed\u001b[0m\u001b[0;34m)\u001b[0m\u001b[0;34m\u001b[0m\u001b[0;34m\u001b[0m\u001b[0m\n\u001b[1;32m    238\u001b[0m             \u001b[0;32melif\u001b[0m \u001b[0mself\u001b[0m\u001b[0;34m.\u001b[0m\u001b[0minit_method\u001b[0m \u001b[0;34m==\u001b[0m \u001b[0;34m\"convex\"\u001b[0m\u001b[0;34m:\u001b[0m\u001b[0;34m\u001b[0m\u001b[0;34m\u001b[0m\u001b[0m\n\u001b[0;32m--> 239\u001b[0;31m                 \u001b[0mP\u001b[0m \u001b[0;34m=\u001b[0m \u001b[0mself\u001b[0m\u001b[0;34m.\u001b[0m\u001b[0mconvex_approx\u001b[0m\u001b[0;34m(\u001b[0m\u001b[0mA\u001b[0m\u001b[0;34m,\u001b[0m\u001b[0mB\u001b[0m\u001b[0;34m,\u001b[0m\u001b[0mseeds_A\u001b[0m\u001b[0;34m,\u001b[0m\u001b[0mseeds_B\u001b[0m\u001b[0;34m)\u001b[0m\u001b[0;34m\u001b[0m\u001b[0;34m\u001b[0m\u001b[0m\n\u001b[0m\u001b[1;32m    240\u001b[0m                 \u001b[0;31m#cols = [5,8,4,10,3,0,2,6,11,9,1,7]\u001b[0m\u001b[0;34m\u001b[0m\u001b[0;34m\u001b[0m\u001b[0;34m\u001b[0m\u001b[0m\n\u001b[1;32m    241\u001b[0m                 \u001b[0;31m#P = np.zeros((n_unseed,n_unseed))\u001b[0m\u001b[0;34m\u001b[0m\u001b[0;34m\u001b[0m\u001b[0;34m\u001b[0m\u001b[0m\n",
      "\u001b[0;32m<ipython-input-1-8ef5c5a43244>\u001b[0m in \u001b[0;36mconvex_approx\u001b[0;34m(self, A, B, seeds_A, seeds_B)\u001b[0m\n\u001b[1;32m    371\u001b[0m         \u001b[0;32mwhile\u001b[0m \u001b[0mn_iter\u001b[0m\u001b[0;34m<\u001b[0m\u001b[0;36m40\u001b[0m\u001b[0;34m:\u001b[0m\u001b[0;34m\u001b[0m\u001b[0;34m\u001b[0m\u001b[0m\n\u001b[1;32m    372\u001b[0m             \u001b[0mdelta_f\u001b[0m \u001b[0;34m=\u001b[0m \u001b[0;34m(\u001b[0m\u001b[0mAtA\u001b[0m \u001b[0;34m@\u001b[0m \u001b[0mP\u001b[0m \u001b[0;34m+\u001b[0m \u001b[0mP\u001b[0m \u001b[0;34m@\u001b[0m \u001b[0mBBt\u001b[0m \u001b[0;34m-\u001b[0m \u001b[0mAB21_12\u001b[0m \u001b[0;34m-\u001b[0m \u001b[0mnp\u001b[0m\u001b[0;34m.\u001b[0m\u001b[0mtranspose\u001b[0m\u001b[0;34m(\u001b[0m\u001b[0mA22\u001b[0m\u001b[0;34m)\u001b[0m \u001b[0;34m@\u001b[0m \u001b[0mP\u001b[0m \u001b[0;34m@\u001b[0m \u001b[0mB22\u001b[0m \u001b[0;34m-\u001b[0m \u001b[0mA22\u001b[0m \u001b[0;34m@\u001b[0m \u001b[0mP\u001b[0m \u001b[0;34m@\u001b[0m \u001b[0mB22\u001b[0m\u001b[0;34m)\u001b[0m \u001b[0;31m#if janky check this\u001b[0m\u001b[0;34m\u001b[0m\u001b[0;34m\u001b[0m\u001b[0m\n\u001b[0;32m--> 373\u001b[0;31m             \u001b[0mrows\u001b[0m\u001b[0;34m,\u001b[0m \u001b[0mcols\u001b[0m \u001b[0;34m=\u001b[0m \u001b[0mlinear_sum_assignment\u001b[0m\u001b[0;34m(\u001b[0m\u001b[0;34m-\u001b[0m\u001b[0mobj_func_scalar\u001b[0m \u001b[0;34m*\u001b[0m \u001b[0mdelta_f\u001b[0m\u001b[0;34m)\u001b[0m\u001b[0;34m\u001b[0m\u001b[0;34m\u001b[0m\u001b[0m\n\u001b[0m\u001b[1;32m    374\u001b[0m \u001b[0;34m\u001b[0m\u001b[0m\n\u001b[1;32m    375\u001b[0m             \u001b[0mQ\u001b[0m \u001b[0;34m=\u001b[0m \u001b[0mnp\u001b[0m\u001b[0;34m.\u001b[0m\u001b[0mzeros\u001b[0m\u001b[0;34m(\u001b[0m\u001b[0;34m(\u001b[0m\u001b[0mn_unseed\u001b[0m\u001b[0;34m,\u001b[0m \u001b[0mn_unseed\u001b[0m\u001b[0;34m)\u001b[0m\u001b[0;34m)\u001b[0m\u001b[0;34m\u001b[0m\u001b[0;34m\u001b[0m\u001b[0m\n",
      "\u001b[0;32m~/anaconda3/lib/python3.7/site-packages/scipy/optimize/_hungarian.py\u001b[0m in \u001b[0;36mlinear_sum_assignment\u001b[0;34m(cost_matrix)\u001b[0m\n\u001b[1;32m    110\u001b[0m \u001b[0;34m\u001b[0m\u001b[0m\n\u001b[1;32m    111\u001b[0m     \u001b[0;32mwhile\u001b[0m \u001b[0mstep\u001b[0m \u001b[0;32mis\u001b[0m \u001b[0;32mnot\u001b[0m \u001b[0;32mNone\u001b[0m\u001b[0;34m:\u001b[0m\u001b[0;34m\u001b[0m\u001b[0;34m\u001b[0m\u001b[0m\n\u001b[0;32m--> 112\u001b[0;31m         \u001b[0mstep\u001b[0m \u001b[0;34m=\u001b[0m \u001b[0mstep\u001b[0m\u001b[0;34m(\u001b[0m\u001b[0mstate\u001b[0m\u001b[0;34m)\u001b[0m\u001b[0;34m\u001b[0m\u001b[0;34m\u001b[0m\u001b[0m\n\u001b[0m\u001b[1;32m    113\u001b[0m \u001b[0;34m\u001b[0m\u001b[0m\n\u001b[1;32m    114\u001b[0m     \u001b[0;32mif\u001b[0m \u001b[0mtransposed\u001b[0m\u001b[0;34m:\u001b[0m\u001b[0;34m\u001b[0m\u001b[0;34m\u001b[0m\u001b[0m\n",
      "\u001b[0;32m~/anaconda3/lib/python3.7/site-packages/scipy/optimize/_hungarian.py\u001b[0m in \u001b[0;36m_step6\u001b[0;34m(state)\u001b[0m\n\u001b[1;32m    276\u001b[0m     \u001b[0;31m# the smallest uncovered value in the matrix\u001b[0m\u001b[0;34m\u001b[0m\u001b[0;34m\u001b[0m\u001b[0;34m\u001b[0m\u001b[0m\n\u001b[1;32m    277\u001b[0m     \u001b[0;32mif\u001b[0m \u001b[0mnp\u001b[0m\u001b[0;34m.\u001b[0m\u001b[0many\u001b[0m\u001b[0;34m(\u001b[0m\u001b[0mstate\u001b[0m\u001b[0;34m.\u001b[0m\u001b[0mrow_uncovered\u001b[0m\u001b[0;34m)\u001b[0m \u001b[0;32mand\u001b[0m \u001b[0mnp\u001b[0m\u001b[0;34m.\u001b[0m\u001b[0many\u001b[0m\u001b[0;34m(\u001b[0m\u001b[0mstate\u001b[0m\u001b[0;34m.\u001b[0m\u001b[0mcol_uncovered\u001b[0m\u001b[0;34m)\u001b[0m\u001b[0;34m:\u001b[0m\u001b[0;34m\u001b[0m\u001b[0;34m\u001b[0m\u001b[0m\n\u001b[0;32m--> 278\u001b[0;31m         \u001b[0mminval\u001b[0m \u001b[0;34m=\u001b[0m \u001b[0mnp\u001b[0m\u001b[0;34m.\u001b[0m\u001b[0mmin\u001b[0m\u001b[0;34m(\u001b[0m\u001b[0mstate\u001b[0m\u001b[0;34m.\u001b[0m\u001b[0mC\u001b[0m\u001b[0;34m[\u001b[0m\u001b[0mstate\u001b[0m\u001b[0;34m.\u001b[0m\u001b[0mrow_uncovered\u001b[0m\u001b[0;34m]\u001b[0m\u001b[0;34m,\u001b[0m \u001b[0maxis\u001b[0m\u001b[0;34m=\u001b[0m\u001b[0;36m0\u001b[0m\u001b[0;34m)\u001b[0m\u001b[0;34m\u001b[0m\u001b[0;34m\u001b[0m\u001b[0m\n\u001b[0m\u001b[1;32m    279\u001b[0m         \u001b[0mminval\u001b[0m \u001b[0;34m=\u001b[0m \u001b[0mnp\u001b[0m\u001b[0;34m.\u001b[0m\u001b[0mmin\u001b[0m\u001b[0;34m(\u001b[0m\u001b[0mminval\u001b[0m\u001b[0;34m[\u001b[0m\u001b[0mstate\u001b[0m\u001b[0;34m.\u001b[0m\u001b[0mcol_uncovered\u001b[0m\u001b[0;34m]\u001b[0m\u001b[0;34m)\u001b[0m\u001b[0;34m\u001b[0m\u001b[0;34m\u001b[0m\u001b[0m\n\u001b[1;32m    280\u001b[0m         \u001b[0mstate\u001b[0m\u001b[0;34m.\u001b[0m\u001b[0mC\u001b[0m\u001b[0;34m[\u001b[0m\u001b[0;34m~\u001b[0m\u001b[0mstate\u001b[0m\u001b[0;34m.\u001b[0m\u001b[0mrow_uncovered\u001b[0m\u001b[0;34m]\u001b[0m \u001b[0;34m+=\u001b[0m \u001b[0mminval\u001b[0m\u001b[0;34m\u001b[0m\u001b[0;34m\u001b[0m\u001b[0m\n",
      "\u001b[0;32m<__array_function__ internals>\u001b[0m in \u001b[0;36mamin\u001b[0;34m(*args, **kwargs)\u001b[0m\n",
      "\u001b[0;32m~/anaconda3/lib/python3.7/site-packages/numpy/core/fromnumeric.py\u001b[0m in \u001b[0;36mamin\u001b[0;34m(a, axis, out, keepdims, initial, where)\u001b[0m\n\u001b[1;32m   2744\u001b[0m     \"\"\"\n\u001b[1;32m   2745\u001b[0m     return _wrapreduction(a, np.minimum, 'min', axis, None, out,\n\u001b[0;32m-> 2746\u001b[0;31m                           keepdims=keepdims, initial=initial, where=where)\n\u001b[0m\u001b[1;32m   2747\u001b[0m \u001b[0;34m\u001b[0m\u001b[0m\n\u001b[1;32m   2748\u001b[0m \u001b[0;34m\u001b[0m\u001b[0m\n",
      "\u001b[0;32m~/anaconda3/lib/python3.7/site-packages/numpy/core/fromnumeric.py\u001b[0m in \u001b[0;36m_wrapreduction\u001b[0;34m(obj, ufunc, method, axis, dtype, out, **kwargs)\u001b[0m\n\u001b[1;32m     88\u001b[0m                 \u001b[0;32mreturn\u001b[0m \u001b[0mreduction\u001b[0m\u001b[0;34m(\u001b[0m\u001b[0maxis\u001b[0m\u001b[0;34m=\u001b[0m\u001b[0maxis\u001b[0m\u001b[0;34m,\u001b[0m \u001b[0mout\u001b[0m\u001b[0;34m=\u001b[0m\u001b[0mout\u001b[0m\u001b[0;34m,\u001b[0m \u001b[0;34m**\u001b[0m\u001b[0mpasskwargs\u001b[0m\u001b[0;34m)\u001b[0m\u001b[0;34m\u001b[0m\u001b[0;34m\u001b[0m\u001b[0m\n\u001b[1;32m     89\u001b[0m \u001b[0;34m\u001b[0m\u001b[0m\n\u001b[0;32m---> 90\u001b[0;31m     \u001b[0;32mreturn\u001b[0m \u001b[0mufunc\u001b[0m\u001b[0;34m.\u001b[0m\u001b[0mreduce\u001b[0m\u001b[0;34m(\u001b[0m\u001b[0mobj\u001b[0m\u001b[0;34m,\u001b[0m \u001b[0maxis\u001b[0m\u001b[0;34m,\u001b[0m \u001b[0mdtype\u001b[0m\u001b[0;34m,\u001b[0m \u001b[0mout\u001b[0m\u001b[0;34m,\u001b[0m \u001b[0;34m**\u001b[0m\u001b[0mpasskwargs\u001b[0m\u001b[0;34m)\u001b[0m\u001b[0;34m\u001b[0m\u001b[0;34m\u001b[0m\u001b[0m\n\u001b[0m\u001b[1;32m     91\u001b[0m \u001b[0;34m\u001b[0m\u001b[0m\n\u001b[1;32m     92\u001b[0m \u001b[0;34m\u001b[0m\u001b[0m\n",
      "\u001b[0;31mKeyboardInterrupt\u001b[0m: "
     ]
    }
   ],
   "source": [
    "import numpy as np\n",
    "import matplotlib.pyplot as plt\n",
    "import random\n",
    "import sys\n",
    "from joblib import Parallel, delayed\n",
    "\n",
    "sys.path\n",
    "sys.path.insert(0, \"/Users/asaadeldin/Downloads/GitHub/graspy\")\n",
    "\n",
    "from graspy.simulations import sample_edges_corr\n",
    "\n",
    "def match_ratio(v, w):\n",
    "    return 1 - (np.count_nonzero(abs(v - w)) / n)\n",
    "\n",
    "n_vert = 150\n",
    "lambd = np.random.uniform(low=.1,high=.9)\n",
    "\n",
    "n = 300\n",
    "n_init = 2\n",
    "n_rho = 17\n",
    "\n",
    "rhos = np.linspace(0.6,1.0,num=n_rho)\n",
    "ratios = np.zeros((n_rho, n_init))\n",
    "n_per_block = 100\n",
    "n_blocks = 3\n",
    "block_members = np.array(n_blocks * [n_per_block])\n",
    "block_probs = np.array([[0.7, 0.3, 0.4], [0.3, 0.7, 0.3], [0.4, 0.3, 0.7]])\n",
    "directed = False\n",
    "loops = False\n",
    "n_realizations = 1\n",
    "bary = GraphMatch()\n",
    "convex = GraphMatch(init_method=\"convex\")\n",
    "\n",
    "np.random.seed(8888)\n",
    "for k in range(n_rho):\n",
    "    rho = rhos[k]\n",
    "    outs = np.zeros((n_realizations,2))\n",
    "    for i in range(n_realizations):\n",
    "        A1, A2 = sbm_corr(\n",
    "            block_members, block_probs, rho, directed=directed, loops=loops\n",
    "        )\n",
    "\n",
    "        node_shuffle_input = np.random.permutation(n)\n",
    "        A2_shuffle = A2[np.ix_(node_shuffle_input, node_shuffle_input)]\n",
    "        node_unshuffle_input = np.array(range(n))\n",
    "        node_unshuffle_input[node_shuffle_input] = np.array(range(n))\n",
    "\n",
    "        bari_ = bary.fit(A1,A2)\n",
    "        convex_ = convex.fit(A1,A2)\n",
    "\n",
    "        outs[i,:] = [match_ratio(bari_.perm_inds_, node_unshuffle_input), \n",
    "                            match_ratio(convex_.perm_inds_, node_unshuffle_input)]\n",
    "\n",
    "    ratios[k, :] = np.sum(outs,axis=0) / n_realizations\n",
    "\n",
    "for i in range(n_init):\n",
    "    plt.plot(rhos, ratios[:, i], \"-o\", label=str(rhos[i]))\n",
    "\n"
   ]
  },
  {
   "cell_type": "code",
   "execution_count": 442,
   "metadata": {},
   "outputs": [
    {
     "data": {
      "image/png": "[encoded data removed]",
      "text/plain": [
       "<Figure size 432x288 with 1 Axes>"
      ]
     },
     "metadata": {
      "needs_background": "light"
     },
     "output_type": "display_data"
    }
   ],
   "source": [
    "for i in range(n_init):\n",
    "    plt.plot(rhos, ratios[:, i], \"-o\", label=str(rhos[i]))"
   ]
  },
  {
   "cell_type": "code",
   "execution_count": 335,
   "metadata": {},
   "outputs": [
    {
     "name": "stdout",
     "output_type": "stream",
     "text": [
      "16398\n"
     ]
    }
   ],
   "source": [
    "A, B = _get_AB(\"chr15a\")\n",
    "n = A.shape[0]\n",
    "chr12c = bary.fit(A, B)\n",
    "score = chr12c.score_\n",
    "print(score)"
   ]
  },
  {
   "cell_type": "code",
   "execution_count": null,
   "metadata": {},
   "outputs": [],
   "source": [
    "def convex_approx(A, B, seeds_A=[], seeds_B=[]):\n",
    "        A = check_array(A, copy=True, ensure_2d=True)\n",
    "        A = A\n",
    "        B = check_array(B, copy=True, ensure_2d=True)\n",
    "        seeds_A = column_or_1d(seeds_A)\n",
    "        seeds_B = column_or_1d(seeds_B)\n",
    "        \n",
    "        n = A.shape[0]  # number of vertices in graphs\n",
    "        n_seeds = seeds_A.shape[0]  # number of seeds\n",
    "        n_unseed = n - n_seeds\n",
    "\n",
    "        obj_func_scalar = 1\n",
    "        if self.gmp:\n",
    "            obj_func_scalar = -1\n",
    "\n",
    "        A11 = A[:n_seeds, :n_seeds]\n",
    "        A12 = A[:n_seeds, n_seeds:]\n",
    "        A21 = A[n_seeds:, :n_seeds]\n",
    "        A22 = A[n_seeds:, n_seeds:]\n",
    "        B11 = B[:n_seeds, :n_seeds]\n",
    "        B12 = B[:n_seeds, n_seeds:]\n",
    "        B21 = B[n_seeds:, :n_seeds]\n",
    "        B22 = B[n_seeds:, n_seeds:]\n",
    "        A11T = np.transpose(A11)\n",
    "        A12T = np.transpose(A12)\n",
    "        A22T = np.transpose(A22)\n",
    "        B21T = np.transpose(B21)\n",
    "        B22T = np.transpose(B22)\n",
    "        \n",
    "        \n",
    "            delta_f = (\n",
    "                    const_sum + A22 @ P @ B22T + A22T @ P @ B22\n",
    "                )  # computing the gradient of f(P) = -tr(APB^tP^t)\n",
    "            \n",
    "            def f(x):  # computing the original optimization function\n",
    "                return obj_func_scalar * (\n",
    "                    np.trace(A11T @ B11)\n",
    "                    + np.trace(np.transpose(x * P + (1 - x) * Q) @ A21 @ B21T)\n",
    "                    + np.trace(np.transpose(x * P + (1 - x) * Q) @ A12T @ B12)\n",
    "                    + np.trace(\n",
    "                        A22T\n",
    "                        @ (x * P + (1 - x) * Q)\n",
    "                        @ B22\n",
    "                        @ np.transpose(x * P + (1 - x) * Q)\n",
    "                    )\n",
    "                )\n",
    "\n",
    "            alpha = minimize_scalar(\n",
    "                f, bounds=(0, 1), method=\"bounded\"\n",
    "            ).x  # computing the step size\n",
    "            P_i1 = alpha * P + (1 - alpha) * Q  # Update P\n",
    "            grad_P = np.linalg.norm(P - P_i1)\n",
    "            P = P_i1\n",
    "            n_iter += 1\n",
    "            # end of FW optimization loop\n",
    "        \n",
    "        \n",
    "        "
   ]
  },
  {
   "cell_type": "code",
   "execution_count": 370,
   "metadata": {},
   "outputs": [],
   "source": [
    "def convex_approx(A, B, seeds_A=[], seeds_B=[]):\n",
    "        A = check_array(A, copy=True, ensure_2d=True)\n",
    "        A = A\n",
    "        B = check_array(B, copy=True, ensure_2d=True)\n",
    "        seeds_A = column_or_1d(seeds_A)\n",
    "        seeds_B = column_or_1d(seeds_B)\n",
    "        \n",
    "        n = A.shape[0]  # number of vertices in graphs\n",
    "        n_seeds = seeds_A.shape[0]  # number of seeds\n",
    "        n_unseed = n - n_seeds\n",
    "\n",
    "        obj_func_scalar = 1\n",
    "        #if self.gmp:\n",
    "            #obj_func_scalar = -1\n",
    "\n",
    "        A12 = A[:n_seeds, n_seeds:]\n",
    "        A21 = A[n_seeds:, :n_seeds]\n",
    "        A22 = A[n_seeds:, n_seeds:]\n",
    "\n",
    "        B12 = B[:n_seeds, n_seeds:]\n",
    "        B21 = B[n_seeds:, :n_seeds]\n",
    "        B22 = B[n_seeds:, n_seeds:]\n",
    "        \n",
    "        AtA = np.transpose(np.concatenate((A12,A22),axis=0)) @ np.concatenate((A12,A22),axis=0)\n",
    "        BBt = np.concatenate((B21,B22),axis=1) @ np.transpose(np.concatenate((B21,B22),axis=1))\n",
    "\n",
    "        AB21_12 = A21 @ np.transpose(B21) + np.transpose(A12) @ B12\n",
    "        P = np.ones((n_unseed, n_unseed)) / float(n_unseed)\n",
    "        \n",
    "        grad_P = math.inf  # gradient of P\n",
    "        n_iter = 0\n",
    "            \n",
    "        #while grad_P > self.eps and n_iter < self.max_iter:\n",
    "        while n_iter<100:\n",
    "            delta_f = (AtA @ P + P @ BBt - AB21_12 - np.transpose(A22) @ P @ B22 - A22 @ P @ B22) #if janky check this\n",
    "            rows, cols = linear_sum_assignment(-obj_func_scalar * delta_f)\n",
    "\n",
    "            Q = np.zeros((n_unseed, n_unseed))\n",
    "            Q[rows, cols] = 1 \n",
    "\n",
    "            C22 = (A22 @ (P-Q)) - ((P-Q) @ B22)\n",
    "            D22 = (A22 @ Q) - (Q @ B22)\n",
    "\n",
    "            if (n_seeds > 0):\n",
    "                C21 = -(P-Q) @ B21\n",
    "                C12 = A12 @ (P-Q)\n",
    "\n",
    "                D21 = A21 - Q @ B21\n",
    "                D12 = A12 @ Q - B12\n",
    "            else:\n",
    "                C21, C12, D21, D12 = 0,0,0,0\n",
    "\n",
    "            aq = np.sum(np.multiply(C22,C22)) + np.sum(np.multiply(C21,C21)) + np.sum(np.multiply(C12,C12)) #if janky check this\n",
    "            bq = np.sum(np.multiply(C22, D22)) + np.sum(np.multiply(C21, D21)) + np.sum(np.multiply(C12, D12))\n",
    "            \n",
    "\n",
    "            if aq == 0:\n",
    "                alpha = 0\n",
    "            else:\n",
    "                alpha = -bq/aq\n",
    "\n",
    "            P_i1 = alpha*P + (1-alpha)*Q\n",
    "            f_new = np.sum(np.multiply(A22 @ P_i1 - P_i1 @ B22,A22 @ P_i1 - P_i1 @ B22))\n",
    "            grad_P = np.linalg.norm(P - P_i1)\n",
    "            P = P_i1\n",
    "            n_iter += 1\n",
    "\n",
    "        row, col = linear_sum_assignment(-P)\n",
    "        P_f = np.zeros((n_unseed, n_unseed))\n",
    "        P_f[rows, cols] = 1 \n",
    "        return P\n"
   ]
  },
  {
   "cell_type": "code",
   "execution_count": 377,
   "metadata": {},
   "outputs": [
    {
     "name": "stdout",
     "output_type": "stream",
     "text": [
      "36338.919762521116\n"
     ]
    }
   ],
   "source": [
    "A, B = _get_AB(\"chr12c\")\n",
    "n = A.shape[0]\n",
    "P = convex_approx(-A, B)\n",
    "#P = np.ones((n, n)) / float(n)\n",
    "score = np.trace(np.transpose(A)@P@B@np.transpose(P))\n",
    "print(score)"
   ]
  },
  {
   "cell_type": "code",
   "execution_count": 260,
   "metadata": {},
   "outputs": [],
   "source": [
    "def convex(A,B):\n",
    "    n = A.shape[0]\n",
    "    At = np.transpose(A)\n",
    "    Bt = np.transpose(B)\n",
    "    P = np.ones((n, n)) / float(n)\n",
    "    n_iter = 0\n",
    "    while n_iter < 100:\n",
    "        grad = At@A@P + P@B@Bt - At@P@B - A@P@B\n",
    "        rows, cols = linear_sum_assignment(\n",
    "                -grad\n",
    "            )  # run hungarian algorithm on gradient(f(P))\n",
    "        Q = np.zeros((n, n))\n",
    "        Q[rows, cols] = 1\n",
    "        def f(x):\n",
    "            return np.linalg.norm(A - (x*P + (1-x)*Q)@B@np.transpose(x*P + (1-x)*Q))\n",
    "        alpha = minimize_scalar(\n",
    "                f, bounds=(0, 1), method=\"bounded\"\n",
    "            ).x  # computing the step size\n",
    "        P_i1 = alpha * P + (1 - alpha) * Q  # Update P\n",
    "        grad_P = np.linalg.norm(P - P_i1)\n",
    "        P = P_i1\n",
    "        n_iter += 1\n",
    "    return P\n",
    "\n",
    "\n",
    "            \n",
    "    "
   ]
  },
  {
   "cell_type": "code",
   "execution_count": 269,
   "metadata": {},
   "outputs": [
    {
     "name": "stdout",
     "output_type": "stream",
     "text": [
      "520.5360756287976\n",
      "520.5386099459332\n"
     ]
    }
   ],
   "source": [
    "A, B = _get_AB(\"chr12c\")\n",
    "n = A.shape[0]\n",
    "P = convex(-A, B)\n",
    "score1 = np.trace(np.transpose(A)@P@B@np.transpose(P))\n",
    "score1 = np.linalg.norm(A - P@B@P,ord=\"fro\")\n",
    "P = np.ones((n, n)) / float(n)\n",
    "score2 = np.linalg.norm(A - P@B@P)\n",
    "print(score1)\n",
    "print(score2)"
   ]
  },
  {
   "cell_type": "code",
   "execution_count": 400,
   "metadata": {},
   "outputs": [
    {
     "name": "stdout",
     "output_type": "stream",
     "text": [
      "[0. 0. 0. 0. 0. 0. 0. 0. 0. 0. 0. 0. 0. 0. 0. 0.]\n"
     ]
    }
   ],
   "source": [
    "print(np.zeros(16))"
   ]
  },
  {
   "cell_type": "code",
   "execution_count": 439,
   "metadata": {},
   "outputs": [
    {
     "name": "stdout",
     "output_type": "stream",
     "text": [
      "[[0. 0.]\n",
      " [1. 1.]]\n"
     ]
    }
   ],
   "source": [
    "a = np.zeros((2,2))\n",
    "a[1,:] = [1,1]\n",
    "print(a)"
   ]
  },
  {
   "cell_type": "code",
   "execution_count": 451,
   "metadata": {},
   "outputs": [
    {
     "name": "stdout",
     "output_type": "stream",
     "text": [
      "(300,)\n",
      "[0.0033333333333332993, 0.0]\n"
     ]
    }
   ],
   "source": [
    "def match_ratio(v, w):\n",
    "    return 1 - (np.count_nonzero(abs(v - w)) / n)\n",
    "\n",
    "n = 300\n",
    "n_init = 2\n",
    "n_rho = 17\n",
    "\n",
    "rhos = np.linspace(0.6,1.0,num=n_rho)\n",
    "ratios = np.zeros((n_rho, n_init))\n",
    "n_per_block = 100\n",
    "n_blocks = 3\n",
    "block_members = np.array(n_blocks * [n_per_block])\n",
    "block_probs = np.array([[0.7, 0.3, 0.4], [0.3, 0.7, 0.3], [0.4, 0.3, 0.7]])\n",
    "directed = False\n",
    "loops = False\n",
    "n_realizations = 1\n",
    "bary = GraphMatch(gmp=False)\n",
    "convex = GraphMatch(gmp=False, init_method=\"convex\")\n",
    "\n",
    "\n",
    "rho = 0.9\n",
    "A1, A2 = sbm_corr(\n",
    "    block_members, block_probs, rho, directed=directed, loops=loops\n",
    ")\n",
    "\n",
    "node_shuffle_input = np.random.permutation(n)\n",
    "A2_shuffle = A2[np.ix_(node_shuffle_input, node_shuffle_input)]\n",
    "node_unshuffle_input = np.array(range(n))\n",
    "node_unshuffle_input[node_shuffle_input] = np.array(range(n))\n",
    "\n",
    "bari_ = bary.fit(A1,A2)\n",
    "convex_ = convex.fit(A1,A2)\n",
    "\n",
    "print(bari_.perm_inds_.shape)\n",
    "outs = [match_ratio(bari_.perm_inds_, node_unshuffle_input), \n",
    "                    match_ratio(convex_.perm_inds_, node_unshuffle_input)]\n",
    "print(outs)"
   ]
  },
  {
   "cell_type": "code",
   "execution_count": 24,
   "metadata": {},
   "outputs": [
    {
     "name": "stdout",
     "output_type": "stream",
     "text": [
      "[0, 0, 0, 0, 0]\n"
     ]
    }
   ],
   "source": [
    "print([0]*5)"
   ]
  },
  {
   "cell_type": "code",
   "execution_count": 35,
   "metadata": {},
   "outputs": [],
   "source": [
    "from graspy.simulations import sample_edges_corr\n",
    "n_vert = 150\n"
   ]
  },
  {
   "cell_type": "code",
   "execution_count": 17,
   "metadata": {},
   "outputs": [
    {
     "data": {
      "text/plain": [
       "array([[0, 1],\n",
       "       [1, 0]])"
      ]
     },
     "execution_count": 17,
     "metadata": {},
     "output_type": "execute_result"
    }
   ],
   "source": [
    "np.asarray([[0,1],[1,0]])"
   ]
  },
  {
   "cell_type": "code",
   "execution_count": 6,
   "metadata": {},
   "outputs": [],
   "source": [
    "def _check_init_input(init, n):\n",
    "    row_sum = np.round(np.sum(P,axis=0),decimals = 3)\n",
    "    col_sum = np.round(np.sum(P,axis=1),decimals = 3)\n",
    "    msg = None\n",
    "    if init.shape != (n,n):\n",
    "        msg = \"`init` matrix must have same shape as A and B\"\n",
    "    elif (row_sum != 1.).any() or not (col_sum != 1.).any() or (init < 0).any():\n",
    "        msg = \"`init` matrix must be doubly stochastic\"\n",
    "    if msg is not None:\n",
    "        raise ValueError(msg)\n",
    "        \n",
    "        \n",
    "        \n",
    "    # test init matrix not doubly stochastic\n",
    "    with pytest.raises(ValueError):\n",
    "        quadratic_assignment(\n",
    "            np.identity(3), np.identity(3), init = np.ones((3,3))\n",
    "        )"
   ]
  },
  {
   "cell_type": "code",
   "execution_count": 137,
   "metadata": {},
   "outputs": [
    {
     "name": "stdout",
     "output_type": "stream",
     "text": [
      "hi\n"
     ]
    }
   ],
   "source": [
    "x = 'hi'\n",
    "if x:\n",
    "    print(x)"
   ]
  },
  {
   "cell_type": "code",
   "execution_count": null,
   "metadata": {},
   "outputs": [],
   "source": []
  }
 ],
 "metadata": {
  "kernelspec": {
   "display_name": "Python 3",
   "language": "python",
   "name": "python3"
  },
  "language_info": {
   "codemirror_mode": {
    "name": "ipython",
    "version": 3
   },
   "file_extension": ".py",
   "mimetype": "text/x-python",
   "name": "python",
   "nbconvert_exporter": "python",
   "pygments_lexer": "ipython3",
   "version": "3.7.3"
  }
 },
 "nbformat": 4,
 "nbformat_minor": 2
}
