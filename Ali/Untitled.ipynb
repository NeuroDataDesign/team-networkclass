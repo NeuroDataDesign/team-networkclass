{
 "cells": [
  {
   "cell_type": "code",
   "execution_count": 1,
   "metadata": {},
   "outputs": [],
   "source": [
    "import numpy as np\n",
    "import matplotlib.pyplot as plt\n",
    "import pandas as pd\n",
    "import seaborn as sns\n",
    "import math\n",
    "import random\n",
    "import time\n",
    "\n",
    "import sys\n",
    "sys.path\n",
    "sys.path.insert(0, '/Users/asaadeldin/Downloads/GitHub/graspy')\n",
    "\n",
    "from graspy.match import SeededGraphMatching as SGM\n",
    "from graspy.plot import heatmap\n",
    "from graspy.simulations import er_corr, sbm, sbm_corr\n",
    "from graspy.utils import cartprod"
   ]
  },
  {
   "cell_type": "code",
   "execution_count": 87,
   "metadata": {},
   "outputs": [],
   "source": [
    "def match_ratio(v,w):\n",
    "    return 1-(np.count_nonzero(abs(v-w))/n)"
   ]
  },
  {
   "cell_type": "code",
   "execution_count": 88,
   "metadata": {},
   "outputs": [
    {
     "ename": "IndexError",
     "evalue": "index 10 is out of bounds for axis 1 with size 10",
     "output_type": "error",
     "traceback": [
      "\u001b[0;31m---------------------------------------------------------------------------\u001b[0m",
      "\u001b[0;31mIndexError\u001b[0m                                Traceback (most recent call last)",
      "\u001b[0;32m<ipython-input-88-23d12dc1c107>\u001b[0m in \u001b[0;36m<module>\u001b[0;34m\u001b[0m\n\u001b[1;32m     22\u001b[0m             \u001b[0msums\u001b[0m \u001b[0;34m+=\u001b[0m \u001b[0mmatch_ratio\u001b[0m\u001b[0;34m(\u001b[0m\u001b[0mfaq\u001b[0m\u001b[0;34m.\u001b[0m\u001b[0mperm_inds_\u001b[0m\u001b[0;34m,\u001b[0m\u001b[0mnode_unshuffle_input\u001b[0m\u001b[0;34m)\u001b[0m\u001b[0;34m\u001b[0m\u001b[0;34m\u001b[0m\u001b[0m\n\u001b[1;32m     23\u001b[0m \u001b[0;34m\u001b[0m\u001b[0m\n\u001b[0;32m---> 24\u001b[0;31m         \u001b[0mratios\u001b[0m\u001b[0;34m[\u001b[0m\u001b[0mi\u001b[0m\u001b[0;34m,\u001b[0m\u001b[0mk\u001b[0m\u001b[0;34m]\u001b[0m \u001b[0;34m=\u001b[0m \u001b[0msums\u001b[0m\u001b[0;34m/\u001b[0m\u001b[0;36m2\u001b[0m\u001b[0;34m\u001b[0m\u001b[0;34m\u001b[0m\u001b[0m\n\u001b[0m\u001b[1;32m     25\u001b[0m \u001b[0;34m\u001b[0m\u001b[0m\n\u001b[1;32m     26\u001b[0m \u001b[0;34m\u001b[0m\u001b[0m\n",
      "\u001b[0;31mIndexError\u001b[0m: index 10 is out of bounds for axis 1 with size 10"
     ]
    }
   ],
   "source": [
    "#code for construct the matrix to recreate figure 2 from SGM\n",
    "# rows are seeds, columns are rhos\n",
    "\n",
    "n = 300\n",
    "m = range(20)\n",
    "rhos = .1*np.arange(11)\n",
    "ratios = np.zeros((20,11))\n",
    "for k in range(11):\n",
    "    rho = rhos[k]\n",
    "    for i in m:\n",
    "        sums = 0\n",
    "        for j in range(2):\n",
    "            A1, A2 = sbm_corr(block_members, block_probs, rho, directed=directed, loops=loops)\n",
    "            node_shuffle_input = np.random.permutation(n)\n",
    "            A2_shuffle = A2[np.ix_(node_shuffle_input, node_shuffle_input)]\n",
    "            node_unshuffle_input = np.array(range(n))\n",
    "            node_unshuffle_input[node_shuffle_input] = np.array(range(n))\n",
    "\n",
    "            W1 = np.sort(random.sample(list(range(n)),i))\n",
    "            W1 = W1.astype(int)\n",
    "            W2 = np.array(node_unshuffle_input[W1])\n",
    "    \n",
    "            faq = SGM(gmp=True)\n",
    "            faq = faq.fit(A1,A2_shuffle,W1,W2)\n",
    "            sums += match_ratio(faq.perm_inds_,node_unshuffle_input)\n",
    "            \n",
    "        ratios[i,k] = sums/2\n",
    "        \n",
    "\n",
    "\n"
   ]
  },
  {
   "cell_type": "code",
   "execution_count": 114,
   "metadata": {},
   "outputs": [],
   "source": [
    "#for just one rho value\n",
    "\n",
    "rho = 1.0\n",
    "new = np.zeros((20,1))\n",
    "\n",
    "for i in m:\n",
    "    sums = 0\n",
    "    for j in range(2):\n",
    "        A1, A2 = sbm_corr(block_members, block_probs, rho, directed=directed, loops=loops)\n",
    "        node_shuffle_input = np.random.permutation(n)\n",
    "        A2_shuffle = A2[np.ix_(node_shuffle_input, node_shuffle_input)]\n",
    "        node_unshuffle_input = np.array(range(n))\n",
    "        node_unshuffle_input[node_shuffle_input] = np.array(range(n))\n",
    "\n",
    "        W1 = np.sort(random.sample(list(range(n)),i))\n",
    "        W1 = W1.astype(int)\n",
    "        W2 = np.array(node_unshuffle_input[W1])\n",
    "    \n",
    "        faq = SGM(gmp=True)\n",
    "        faq = faq.fit(A1,A2_shuffle,W1,W2)\n",
    "        sums += match_ratio(faq.perm_inds_,node_unshuffle_input)\n",
    "            \n",
    "    new[i] = sums/2\n",
    "\n"
   ]
  },
  {
   "cell_type": "code",
   "execution_count": 43,
   "metadata": {},
   "outputs": [
    {
     "data": {
      "text/plain": [
       "Text(0.5, 1.0, 'rho=0.9 (only one run at each seed)')"
      ]
     },
     "execution_count": 43,
     "metadata": {},
     "output_type": "execute_result"
    },
    {
     "data": {
      "image/png": "[encoded data removed]",
      "text/plain": [
       "<Figure size 432x288 with 1 Axes>"
      ]
     },
     "metadata": {
      "needs_background": "light"
     },
     "output_type": "display_data"
    }
   ],
   "source": [
    "plt.plot(m,ratios)\n",
    "plt.xlabel(\"seeds (m)\")\n",
    "plt.ylabel(\"match ratio\")\n",
    "plt.title(\"rho=0.9 (only one run at each seed)\")"
   ]
  },
  {
   "cell_type": "code",
   "execution_count": 80,
   "metadata": {},
   "outputs": [],
   "source": [
    "directed = False\n",
    "loops = False\n",
    "n_per_block = 100\n",
    "n_blocks = 3\n",
    "block_members = np.array(n_blocks * [n_per_block])\n",
    "n_verts = block_members.sum()\n",
    "rho = .9\n",
    "block_probs = np.array([[0.7, 0.3, 0.4], [0.3, 0.7, 0.3], [0.4, 0.3, 0.7]])\n",
    "\n",
    "A1, A2 = sbm_corr(block_members, block_probs, rho, directed=directed, loops=loops)\n",
    "\n",
    "n = 300\n",
    "m = 20\n",
    "\n",
    "node_shuffle_input = np.random.permutation(n)\n",
    "A2_shuffle = A2[np.ix_(node_shuffle_input, node_shuffle_input)]\n",
    "node_unshuffle_input = np.array(range(n))\n",
    "node_unshuffle_input[node_shuffle_input] = np.array(range(n))\n",
    "\n",
    "W1 = np.sort(random.sample(list(range(n)),m))\n",
    "W1 = W1.astype(int)\n",
    "W2 = np.array(node_unshuffle_input[W1])\n",
    "\n"
   ]
  },
  {
   "cell_type": "code",
   "execution_count": 115,
   "metadata": {},
   "outputs": [],
   "source": [
    "ratios_new = np.append(ratios,new,axis=1)"
   ]
  },
  {
   "cell_type": "code",
   "execution_count": 140,
   "metadata": {},
   "outputs": [
    {
     "data": {
      "text/plain": [
       "Text(0, 0.5, 'match ratio')"
      ]
     },
     "execution_count": 140,
     "metadata": {},
     "output_type": "execute_result"
    },
    {
     "data": {
      "image/png": "[encoded data removed]",
      "text/plain": [
       "<Figure size 432x288 with 1 Axes>"
      ]
     },
     "metadata": {
      "needs_background": "light"
     },
     "output_type": "display_data"
    }
   ],
   "source": [
    "for i in range(11):\n",
    "    plt.plot(m,ratios_new[:,i], '-o', label = str(rhos[i]))\n",
    "    \n",
    "plt.legend(bbox_to_anchor=(1.05, 1), loc='upper left', borderaxespad=0.)\n",
    "plt.xlabel(\"seeds (m)\")\n",
    "plt.ylabel(\"match ratio\")\n"
   ]
  },
  {
   "cell_type": "code",
   "execution_count": 136,
   "metadata": {},
   "outputs": [],
   "source": [
    "rhos = np.arange(11)*.1\n",
    "rhos[3]=0.3\n",
    "rhos[6]=0.6\n",
    "rhos[7]=0.7"
   ]
  },
  {
   "cell_type": "code",
   "execution_count": 82,
   "metadata": {},
   "outputs": [
    {
     "name": "stdout",
     "output_type": "stream",
     "text": [
      "[ 58 150  44 133  65 146  86 198 216  99  33 104 177  17 109  31 292  36\n",
      " 296 237  35  79  76 207  88 274  85 170  28  20 115  98 238  53  66 114\n",
      " 221 258 172 195 180 123  89 255 135 106 293  22 187  16  32 277  51 260\n",
      "  24 265  13 288  91 149  72 212 219 214  75  61  54 186  62 137 130  21\n",
      "  45   0 178 113  25 164 218  78 234  73 226 165  93 181  19 157  69 244\n",
      " 278  94 161 289 266 269 211 110  42 250  26  90 215 223 154 205 176 282\n",
      " 230   1 287 224 148 138  30 179 232  97 160  14  41 275 139 263  92 295\n",
      " 141 145 155 182 200  70 208 132 248 268 291   6 197  18 264  84 191 273\n",
      " 163 294  83 120 256 143 102 194  87 257  49  40 117 252 290 111 267  43\n",
      " 175 281   5 103   3 171 184 247 158 251 151 228   8 119 100 210 235  48\n",
      " 188  77 126 129  63 153 279 261 199  47 298 213  39 201 245 262 101  67\n",
      "  60 134 174 209  29  56 166  68 217 276 156 124  81 152 183 225 204  15\n",
      "  12 280 192  74 286 168 144   9 239 159 297 202  10 220  27 128 131 271\n",
      " 173 116 229 231 242 108 206 227 107 283 167 136 118 190 284 233   7  64\n",
      " 147  95 270 122 254  23  50 272 246  55  80 185  38 105   2 241 203   4\n",
      " 285 140 189  71  82  57  37 125  59 222 299 236 196 253  34 259 249 193\n",
      " 121  96  11  52 243  46 240 112 162 169 142 127]\n",
      "[225 130 181 222  53 208  89 267 270  64 235  55 265 224 296  62 290 144\n",
      " 132 175 299 218 150 112 247  26 215  44  37  54 240 294 138 234 237 118\n",
      " 127 195  29   7 178 256 147 254 172 142 257  38 211  12 139  68  48 275\n",
      " 280  58 246  49   1 196 103 279  23 227 274 210  70 202  86 278 177 133\n",
      " 137 238  88 273 161  63  30 241 180  84 141  13  27  24 110 260 157  28\n",
      " 295 126 197 158 213 122 164 236  14  19 243 102 129  17  45  90  65  32\n",
      " 251  87  51 151 277 128 167  66  92  50 106  36 261 105 284 123  83  57\n",
      "  15  72  67 187  35 199 136 121 249 117 184 108   0   3 143  99 204   5\n",
      " 191 185 107 216 200 186 104 135  47  10 230 233 221 239 203 207 298  93\n",
      " 176  80 219 268 101 100  33  97 232 154 214 288 217 276 170 125  34 174\n",
      " 258 285 252 282  40  31  42 182 115 192 146 248 120  20  78  59 163 283\n",
      "   4 245 166 223 263 231 266 149 286 113 116 194   8 206  21 109  61 229\n",
      " 140  52 169 250  39 255 272 111 190  95  11  60 179 124 297  76  75 269\n",
      " 287 281   9 159  94 148 153 189  25 209  46  22 226 188 291 165  81 168\n",
      "  77 262 220 160 134  74 173 271  69 212 183 145 162 242  85  96 264 152\n",
      " 171  82 193  16  18  43 155 293  71  41 119 201 114  98 228  56   2 289\n",
      " 244 205 198 292 131 259 156 253  91  79  73   6]\n",
      "[146 180 106  61  25  73 110 205 148  30 200 291 235  68 116 229 233  59\n",
      " 259 127]\n",
      "[208 178 142 210 161  84 236  90 277 167  35 184  34 149 281   9 165  71\n",
      "  56   6]\n",
      "[208 178 142 210 161  84 236  90 277 167  35 184  34 149 281   9 165  71\n",
      "  56   6]\n",
      "[208 178 142 210 161  84 236  90 277 167  35 184  34 149 281   9 165  71\n",
      "  56   6]\n"
     ]
    }
   ],
   "source": [
    "print(faq.perm_inds_)\n",
    "print(node_unshuffle_input)\n",
    "print(faq.perm_inds_[W1])\n",
    "print(W2)\n",
    "print(node_unshuffle_input[W1])\n",
    "print(W2)"
   ]
  },
  {
   "cell_type": "code",
   "execution_count": 11,
   "metadata": {},
   "outputs": [
    {
     "data": {
      "text/plain": [
       "<matplotlib.axes._subplots.AxesSubplot at 0x1a280b6358>"
      ]
     },
     "execution_count": 11,
     "metadata": {},
     "output_type": "execute_result"
    },
    {
     "data": {
      "image/png": "[encoded data removed]",
      "text/plain": [
       "<Figure size 288x288 with 1 Axes>"
      ]
     },
     "metadata": {
      "needs_background": "light"
     },
     "output_type": "display_data"
    },
    {
     "data": {
      "image/png": "[encoded data removed]",
      "text/plain": [
       "<Figure size 720x360 with 3 Axes>"
      ]
     },
     "metadata": {},
     "output_type": "display_data"
    }
   ],
   "source": [
    "directed = False\n",
    "loops = False\n",
    "n_per_block = 100\n",
    "n_blocks = 3\n",
    "block_members = np.array(n_blocks * [n_per_block])\n",
    "n_verts = block_members.sum()\n",
    "rho = .9\n",
    "block_probs = np.array([[0.7, 0.3, 0.4], [0.3, 0.7, 0.3], [0.4, 0.3, 0.7]])\n",
    "fig, ax = plt.subplots(1, 1, figsize=(4, 4))\n",
    "sns.heatmap(block_probs, cbar=False, annot=True, square=True, cmap=\"Reds\", ax=ax)\n",
    "ax.set_title(\"SBM block probabilities\")\n",
    "\n",
    "A1, A2 = sbm_corr(block_members, block_probs, rho, directed=directed, loops=loops)\n",
    "fig, axs = plt.subplots(1, 3, figsize=(10, 5))\n",
    "heatmap(A1, ax=axs[0], cbar=False, title=\"Graph 1\")\n",
    "heatmap(A2, ax=axs[1], cbar=False, title=\"Graph 2\")\n",
    "heatmap(A1 - A2, ax=axs[2], cbar=False, title=\"Diff (G1 - G2)\")\n"
   ]
  },
  {
   "cell_type": "code",
   "execution_count": 59,
   "metadata": {},
   "outputs": [],
   "source": [
    "def _get_AB(qap_prob):\n",
    "    with open(\"qapdata/\" + qap_prob + \".dat\") as f:\n",
    "        f = [int(elem) for elem in f.read().split()]\n",
    "\n",
    "        # adjusting\n",
    "        f = np.array(f[1:])\n",
    "        n = int(math.sqrt(len(f) / 2))\n",
    "        f = f.reshape(2 * n, n)\n",
    "        A = f[:n, :]\n",
    "        B = f[n:, :]\n",
    "        return A, B\n",
    "    \n",
    "sgm = SGM(gmp=False)"
   ]
  },
  {
   "cell_type": "code",
   "execution_count": 78,
   "metadata": {},
   "outputs": [
    {
     "name": "stdout",
     "output_type": "stream",
     "text": [
      "[ 1  7 11]\n",
      "[4, 5, 11]\n",
      "12948\n"
     ]
    }
   ],
   "source": [
    "A, B = _get_AB(\"chr12c\")\n",
    "n = A.shape[0]\n",
    "pi = np.array([7, 5, 1, 3, 10, 4, 8, 6, 9, 11, 2, 12]) - [1] * n\n",
    "W1 = np.sort(random.sample(list(range(n)), 3))\n",
    "W2 = [pi[z] for z in W1]\n",
    "chr12c = sgm.fit(A, B, W1, W2)\n",
    "score = chr12c.score_\n",
    "print(W1)\n",
    "print(W2)\n",
    "print(score)"
   ]
  },
  {
   "cell_type": "code",
   "execution_count": 79,
   "metadata": {},
   "outputs": [
    {
     "name": "stdout",
     "output_type": "stream",
     "text": [
      "[ 1  7 11]\n",
      "[4, 5, 11]\n",
      "12948\n"
     ]
    }
   ],
   "source": [
    "chr12c = sgm.fit(A, B, W1, W2)\n",
    "score = chr12c.score_\n",
    "print(W1)\n",
    "print(W2)\n",
    "print(score)"
   ]
  },
  {
   "cell_type": "code",
   "execution_count": 39,
   "metadata": {},
   "outputs": [
    {
     "name": "stdout",
     "output_type": "stream",
     "text": [
      "[ 0  5 11 14]\n",
      "[4, 10, 14, 8]\n",
      "15680\n"
     ]
    }
   ],
   "source": [
    " A, B = _get_AB(\"chr15a\")\n",
    "n = A.shape[0]\n",
    "pi = np.array([5, 10, 8, 13, 12, 11, 14, 2, 4, 6, 7, 15, 3, 1, 9]) - [1] * n        \n",
    "W1 = np.sort(random.sample(list(range(n)), 4))\n",
    "W2 = [pi[z] for z in W1]\n",
    "chr15a = sgm.fit(A, B, W1, W2)\n",
    "score = chr15a.score_\n",
    "print(W1)\n",
    "print(W2)\n",
    "print(score)\n"
   ]
  },
  {
   "cell_type": "code",
   "execution_count": 52,
   "metadata": {},
   "outputs": [
    {
     "name": "stdout",
     "output_type": "stream",
     "text": [
      "[ 0  5 11 14]\n",
      "[4, 10, 14, 8]\n",
      "15680\n"
     ]
    }
   ],
   "source": [
    "chr15a = sgm.fit(A, B, W1, W2)\n",
    "score = chr15a.score_\n",
    "print(W1)\n",
    "print(W2)\n",
    "print(score)\n"
   ]
  },
  {
   "cell_type": "code",
   "execution_count": 53,
   "metadata": {},
   "outputs": [],
   "source": [
    "sgm = SGM(n_init=100, init_method=\"rand\", gmp=False)"
   ]
  },
  {
   "cell_type": "code",
   "execution_count": 54,
   "metadata": {},
   "outputs": [
    {
     "name": "stdout",
     "output_type": "stream",
     "text": [
      "[ 0  6 10]\n",
      "[6, 7, 1]\n",
      "11156\n"
     ]
    }
   ],
   "source": [
    "A, B = _get_AB(\"chr12c\")\n",
    "n = A.shape[0]\n",
    "pi = np.array([7, 5, 1, 3, 10, 4, 8, 6, 9, 11, 2, 12]) - [1] * n\n",
    "W1 = np.sort(random.sample(list(range(n)), 3))\n",
    "W2 = [pi[z] for z in W1]\n",
    "chr12c = sgm.fit(A, B, W1, W2)\n",
    "score = chr12c.score_\n",
    "print(W1)\n",
    "print(W2)\n",
    "print(score)"
   ]
  },
  {
   "cell_type": "code",
   "execution_count": 58,
   "metadata": {},
   "outputs": [
    {
     "name": "stdout",
     "output_type": "stream",
     "text": [
      "[4, 8, 10]\n",
      "[11, 3, 6]\n",
      "9896\n"
     ]
    }
   ],
   "source": [
    "W1 = [4,8,10]\n",
    "W2 = [pi[z] for z in W1]\n",
    "chr12c = sgm.fit(A, B, W1, W2)\n",
    "score = chr12c.score_\n",
    "print(W1)\n",
    "print(W2)\n",
    "print(score)"
   ]
  },
  {
   "cell_type": "code",
   "execution_count": 57,
   "metadata": {},
   "outputs": [
    {
     "name": "stdout",
     "output_type": "stream",
     "text": [
      "[0, 5, 11, 14]\n",
      "[4, 10, 14, 8]\n",
      "9896\n"
     ]
    }
   ],
   "source": [
    " A, B = _get_AB(\"chr15a\")\n",
    "n = A.shape[0]\n",
    "pi = np.array([5, 10, 8, 13, 12, 11, 14, 2, 4, 6, 7, 15, 3, 1, 9]) - [1] * n        \n",
    "W1 = [0,5,11,14]\n",
    "W2 = [pi[z] for z in W1]\n",
    "chr15a = sgm.fit(A, B, W1, W2)\n",
    "score = chr15a.score_\n",
    "print(W1)\n",
    "print(W2)\n",
    "print(score)"
   ]
  },
  {
   "cell_type": "code",
   "execution_count": 89,
   "metadata": {},
   "outputs": [
    {
     "name": "stdout",
     "output_type": "stream",
     "text": [
      "1.5\n",
      "1.05\n"
     ]
    }
   ],
   "source": [
    "s = [3,0,2,1,3,2,1,0,2,1]\n",
    "print(np.mean(s))\n",
    "print(np.var(s))"
   ]
  },
  {
   "cell_type": "code",
   "execution_count": null,
   "metadata": {},
   "outputs": [],
   "source": []
  }
 ],
 "metadata": {
  "kernelspec": {
   "display_name": "Python 3",
   "language": "python",
   "name": "python3"
  },
  "language_info": {
   "codemirror_mode": {
    "name": "ipython",
    "version": 3
   },
   "file_extension": ".py",
   "mimetype": "text/x-python",
   "name": "python",
   "nbconvert_exporter": "python",
   "pygments_lexer": "ipython3",
   "version": "3.7.3"
  }
 },
 "nbformat": 4,
 "nbformat_minor": 2
}
