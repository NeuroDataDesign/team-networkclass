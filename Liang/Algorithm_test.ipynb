{
 "cells": [
  {
   "cell_type": "code",
   "execution_count": 1,
   "metadata": {},
   "outputs": [],
   "source": [
    "import os\n",
    "import matplotlib.pyplot as plt\n",
    "from scipy.stats import truncnorm\n",
    "import numpy as np\n",
    "from sklearn.metrics.pairwise import euclidean_distances\n",
    "from sklearn.utils import check_X_y"
   ]
  },
  {
   "cell_type": "code",
   "execution_count": 2,
   "metadata": {},
   "outputs": [
    {
     "data": {
      "text/plain": [
       "Text(0.5, 1.0, 'Discriminability of different subjects')"
      ]
     },
     "execution_count": 2,
     "metadata": {},
     "output_type": "execute_result"
    },
    {
     "data": {
      "image/png": "[encoded data removed]",
      "text/plain": [
       "<Figure size 288x288 with 2 Axes>"
      ]
     },
     "metadata": {
      "needs_background": "light"
     },
     "output_type": "display_data"
    },
    {
     "data": {
      "image/png": "[encoded data removed]",
      "text/plain": [
       "<Figure size 432x288 with 1 Axes>"
      ]
     },
     "metadata": {
      "needs_background": "light"
     },
     "output_type": "display_data"
    }
   ],
   "source": [
    "def _discr_rdf(dissimilarities, labels):\n",
    "    \"\"\"\n",
    "    A function for computing the reliability density function of a dataset.\n",
    "\n",
    "    Parameters\n",
    "    ----------\n",
    "    dissimilarities : array, shape (n_samples, n_features) or (n_samples, n_samples)\n",
    "        Input data. If dissimilarity=='precomputed', the input should be the\n",
    "        dissimilarity matrix.\n",
    "\n",
    "    labels : 1d-array, shape (n_samples)\n",
    "        Input labels.\n",
    "\n",
    "    Returns\n",
    "    -------\n",
    "    out : array, shape (n_samples, max{len(id)})\n",
    "        Rdfs for each sample. Only returned if ``return_rdfs==True``.\n",
    "    \"\"\"\n",
    "    check_X_y(dissimilarities, labels, accept_sparse=True)\n",
    "\n",
    "    rdfs = []\n",
    "    for i, label in enumerate(labels):\n",
    "        di = dissimilarities[i]\n",
    "\n",
    "        # All other samples except its own label\n",
    "        idx = labels == label\n",
    "        Dij = di[~idx]\n",
    "\n",
    "        # All samples except itself\n",
    "        idx[i] = False\n",
    "        Dii = di[idx]\n",
    "\n",
    "        rdf = [1 - ((Dij < d).sum() + 0.5 * (Dij == d).sum()) / Dij.size for d in Dii]\n",
    "        rdfs.append(rdf)\n",
    "\n",
    "    out = np.full((len(rdfs), max(map(len, rdfs))), np.nan)\n",
    "    for i, rdf in enumerate(rdfs):\n",
    "        out[i, : len(rdf)] = rdf\n",
    "\n",
    "    return out\n",
    "\n",
    "\n",
    "subjects = 10\n",
    "trials = 2\n",
    "nodes = 10\n",
    "win_length = 10\n",
    "total_length = 100\n",
    "step_size = 10\n",
    "\n",
    "measurements = []\n",
    "times = list(np.arange(0, total_length - win_length + 1, step_size))\n",
    "time_steps = len(times)\n",
    "for j in range(subjects):\n",
    "    A = np.ones(10)*0.1*j  # MAR(1) coefficient matrix\n",
    "    for s in range(trials):\n",
    "        # Simulate time series for each trial\n",
    "        X = np.zeros((nodes, total_length))\n",
    "        X[:,0] = np.random.normal(size=nodes)\n",
    "        for i in range(np.size(X,1)-1):\n",
    "            epsilon = np.random.normal(size=nodes)\n",
    "            X[:,i+1] = A*X[:,i] + epsilon\n",
    "\n",
    "        # phi = np.random.uniform(-1,1)\n",
    "        # ar = np.array([1, -phi])\n",
    "        # ma = np.array([1])\n",
    "        # generator = ArmaProcess(ar, ma)\n",
    "        # X = generator.generate_sample((nodes, total_length), axis=1)\n",
    "\n",
    "        # Calculate correlation matrix with sliding window mwthod\n",
    "        features = []\n",
    "\n",
    "        for i, t in enumerate(times):\n",
    "            corr_matrix = np.corrcoef(X[:, t:t + step_size])\n",
    "            features.append(corr_matrix[np.triu_indices(nodes, 1)].flatten())\n",
    "        measurements.append(np.asarray(features).flatten())\n",
    "\n",
    "measurements = np.asarray(measurements)\n",
    "# subjects*trials measurements in total\n",
    "labels = np.repeat(np.arange(1, subjects + 1), trials)\n",
    "\n",
    "dissimilarities = euclidean_distances(measurements)\n",
    "plt.matshow(dissimilarities)\n",
    "plt.title('Dissimilarity matrix')\n",
    "plt.colorbar(fraction=0.046, pad=0.04)\n",
    "rdfs = _discr_rdf(dissimilarities, labels)\n",
    "\n",
    "plt.figure()\n",
    "plt.scatter((labels-1)*0.1, rdfs)\n",
    "plt.xlabel('A value')\n",
    "plt.ylabel('DISCR')\n",
    "plt.title('Discriminability of different subjects')"
   ]
  },
  {
   "cell_type": "code",
   "execution_count": null,
   "metadata": {},
   "outputs": [],
   "source": []
  }
 ],
 "metadata": {
  "kernelspec": {
   "display_name": "Python(graph)",
   "language": "python",
   "name": "graph"
  },
  "language_info": {
   "codemirror_mode": {
    "name": "ipython",
    "version": 3
   },
   "file_extension": ".py",
   "mimetype": "text/x-python",
   "name": "python",
   "nbconvert_exporter": "python",
   "pygments_lexer": "ipython3",
   "version": "3.6.7"
  }
 },
 "nbformat": 4,
 "nbformat_minor": 2
}
