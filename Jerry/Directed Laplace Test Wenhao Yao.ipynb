{
 "cells": [
  {
   "cell_type": "code",
   "execution_count": null,
   "metadata": {},
   "outputs": [],
   "source": [
    "# -*- coding: utf-8 -*-\n",
    "\"\"\"\n",
    "Created on Tue Sep 24 23:47:24 2019\n",
    "\n",
    "@author: jerryyao\n",
    "\"\"\"\n",
    "import unittest\n",
    "import numpy as np\n",
    "import networkx as nx\n",
    "from graspy.utils import utils as gus\n",
    "from math import sqrt\n",
    "from numpy.testing import assert_equal\n",
    "class TestToLaplace(unittest.TestCase):\n",
    "    @classmethod\n",
    "    \n",
    "    def setUpClass(cls):\n",
    "        cls.A = np.array([[0, 1, 0], [1, 0, 1], [0, 1, 0]])\n",
    "        cls.B=np.array([[0,1,1,1],\n",
    "                    [0,0,0,1],\n",
    "                    [0,1,0,1],\n",
    "                    [0,1,1,0]])\n",
    "    def test_to_laplace_IDAD(self):\n",
    "        expected_L_normed = [\n",
    "            [1, -1 / (sqrt(2)), 0],\n",
    "            [-1 / (sqrt(2)), 1, -1 / (sqrt(2))],\n",
    "            [0, -1 / (sqrt(2)), 1],\n",
    "        ]\n",
    "\n",
    "        L_normed = gus.to_laplace(self.A, form=\"I-DAD\")\n",
    "\n",
    "        self.assertTrue(np.allclose(L_normed, expected_L_normed, rtol=1e-04))\n",
    "\n",
    "    def test_to_laplace_DAD(self):\n",
    "        expected_L_normed = [\n",
    "            [0, 1 / sqrt(2), 0],\n",
    "            [1 / sqrt(2), 0, 1 / sqrt(2)],\n",
    "            [0, 1 / sqrt(2), 0],\n",
    "        ]\n",
    "\n",
    "        L_normed = gus.to_laplace(self.A, form=\"DAD\")\n",
    "\n",
    "        self.assertTrue(np.allclose(L_normed, expected_L_normed, rtol=1e-04))\n",
    "\n",
    "    def test_to_laplace_RDAD(self):\n",
    "        expected_L_normed = [\n",
    "            [0, 3 / sqrt(70), 0],\n",
    "            [3 / sqrt(70), 0, 3 / sqrt(70)],\n",
    "            [0, 3 / sqrt(70), 0],\n",
    "        ]\n",
    "\n",
    "        L_normed = gus.to_laplace(self.A, form=\"R-DAD\")\n",
    "    def test_to_laplace_Directed(self):\n",
    "        expected_L_normed = [\n",
    "            [0, 1/5,sqrt(5)/10,0.2],\n",
    "            [0,0,0,sqrt(15)/15],\n",
    "            [0,sqrt(5)/10,0,sqrt(5)/10],\n",
    "            [0,sqrt(5)/10,0.25,0]\n",
    "        ]\n",
    "\n",
    "        L_normed = gus.to_laplace(self.B, form=\"R-DAD\")\n",
    "        \n",
    "        self.assertTrue(np.allclose(L_normed, expected_L_normed, rtol=1e-04))\n",
    "\n"
   ]
  },
  {
   "cell_type": "markdown",
   "metadata": {},
   "source": [
    "# The test file for Directed Graph Laplace\n"
   ]
  },
  {
   "cell_type": "code",
   "execution_count": 2,
   "metadata": {},
   "outputs": [
    {
     "name": "stdout",
     "output_type": "stream",
     "text": [
      "[[0.         0.2        0.2236068  0.2       ]\n",
      " [0.         0.         0.         0.25819889]\n",
      " [0.         0.2236068  0.         0.2236068 ]\n",
      " [0.         0.2236068  0.25       0.        ]]\n",
      "[[0.         0.2        0.2236068  0.2       ]\n",
      " [0.         0.         0.         0.25819889]\n",
      " [0.         0.2236068  0.         0.2236068 ]\n",
      " [0.         0.2236068  0.25       0.        ]]\n"
     ]
    }
   ],
   "source": [
    "import numpy as np\n",
    "\n",
    "import graspy.utils\n",
    "\n",
    "from dl import to_laplace \n",
    "\n",
    "\n",
    "from math import sqrt\n",
    "\n",
    "\n",
    "TSET_Array=np.array([[0,1,1,1],\n",
    "                    [0,0,0,1],\n",
    "                    [0,1,0,1],\n",
    "                    [0,1,1,0]])\n",
    "B=to_laplace(TSET_Array, form=\"R-DAD\", regularizer=1)\n",
    "expected_L_normed =np.array( [\n",
    "            [0, 1/5,sqrt(5)/10,0.2],\n",
    "            [0,0,0,sqrt(15)/15],\n",
    "            [0,sqrt(5)/10,0,sqrt(5)/10],\n",
    "            [0,sqrt(5)/10,0.25,0]\n",
    "            ])\n",
    "print(B)\n",
    "print(expected_L_normed)\n"
   ]
  },
  {
   "cell_type": "markdown",
   "metadata": {},
   "source": [
    "# A simple test \n",
    "## The directed Laplace function works well\n"
   ]
  }
 ],
 "metadata": {
  "kernelspec": {
   "display_name": "Python 3",
   "language": "python",
   "name": "python3"
  },
  "language_info": {
   "codemirror_mode": {
    "name": "ipython",
    "version": 3
   },
   "file_extension": ".py",
   "mimetype": "text/x-python",
   "name": "python",
   "nbconvert_exporter": "python",
   "pygments_lexer": "ipython3",
   "version": "3.7.3"
  }
 },
 "nbformat": 4,
 "nbformat_minor": 2
}
