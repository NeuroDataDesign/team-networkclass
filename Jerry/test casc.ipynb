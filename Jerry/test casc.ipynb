{
 "cells": [
  {
   "cell_type": "code",
   "execution_count": 1,
   "metadata": {},
   "outputs": [
    {
     "name": "stdout",
     "output_type": "stream",
     "text": [
      "{'cluster': array([1, 1, 0, 0, 0, 0, 0, 0, 0, 1]), 'h': 0.3463319336158096, 'wcss': 0.2250871233574058, 'eigenGap': 0.13572781679493595, 'cascSvd': array([[ 0.36206486, -0.54256585],\n",
      "       [ 0.2272331 , -0.41303012],\n",
      "       [ 0.38012439,  0.19452267],\n",
      "       [ 0.41709451,  0.3369289 ],\n",
      "       [ 0.44258622, -0.02598368],\n",
      "       [ 0.08751106,  0.13239353],\n",
      "       [ 0.21476089,  0.25271683],\n",
      "       [ 0.2957958 ,  0.34694301],\n",
      "       [ 0.30988381,  0.08323169],\n",
      "       [ 0.25617505, -0.41749527]])}\n"
     ]
    }
   ],
   "source": [
    "import numpy as np\n",
    "from Casc import *\n",
    "from graspy.simulations import sbm\n",
    "\n",
    "n = [5, 5]\n",
    "p = [[0.5, 0.2],\n",
    "     [0.2, 0.05]]\n",
    "\n",
    "np.random.seed(1)\n",
    "G = sbm(n=n, p=p)\n",
    "\n",
    "\n",
    "\n",
    "adjMat=G\n",
    "covMat = simBernCovar.simBernCovar(np.matrix(p), n)\n",
    "res=casc.casc(adjMat, covMat, nBlocks=2)\n",
    "print(res)"
   ]
  },
  {
   "cell_type": "code",
   "execution_count": null,
   "metadata": {},
   "outputs": [],
   "source": []
  }
 ],
 "metadata": {
  "kernelspec": {
   "display_name": "Python 3",
   "language": "python",
   "name": "python3"
  },
  "language_info": {
   "codemirror_mode": {
    "name": "ipython",
    "version": 3
   },
   "file_extension": ".py",
   "mimetype": "text/x-python",
   "name": "python",
   "nbconvert_exporter": "python",
   "pygments_lexer": "ipython3",
   "version": "3.7.3"
  }
 },
 "nbformat": 4,
 "nbformat_minor": 2
}
